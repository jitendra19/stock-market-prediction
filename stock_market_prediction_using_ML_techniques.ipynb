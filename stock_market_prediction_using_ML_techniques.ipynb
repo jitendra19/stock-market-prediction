{
  "nbformat": 4,
  "nbformat_minor": 0,
  "metadata": {
    "colab": {
      "name": "stock market prediction using ML techniques.ipynb",
      "provenance": [],
      "collapsed_sections": [],
      "authorship_tag": "ABX9TyOStjVMnIFxfDCMI0oKvL9m",
      "include_colab_link": true
    },
    "kernelspec": {
      "name": "python3",
      "display_name": "Python 3"
    },
    "language_info": {
      "name": "python"
    }
  },
  "cells": [
    {
      "cell_type": "markdown",
      "metadata": {
        "id": "view-in-github",
        "colab_type": "text"
      },
      "source": [
        "<a href=\"https://colab.research.google.com/github/jitendra19/stock-market-prediction/blob/main/stock_market_prediction_using_ML_techniques.ipynb\" target=\"_parent\"><img src=\"https://colab.research.google.com/assets/colab-badge.svg\" alt=\"Open In Colab\"/></a>"
      ]
    },
    {
      "cell_type": "code",
      "metadata": {
        "colab": {
          "base_uri": "https://localhost:8080/"
        },
        "id": "Cxu9zU8Dx1fQ",
        "outputId": "fa741900-5e83-490c-85d6-40eb312659d9"
      },
      "source": [
        "pip install yfinance"
      ],
      "execution_count": 25,
      "outputs": [
        {
          "output_type": "stream",
          "name": "stdout",
          "text": [
            "Requirement already satisfied: yfinance in /usr/local/lib/python3.7/dist-packages (0.1.67)\n",
            "Requirement already satisfied: numpy>=1.15 in /usr/local/lib/python3.7/dist-packages (from yfinance) (1.19.5)\n",
            "Requirement already satisfied: requests>=2.20 in /usr/local/lib/python3.7/dist-packages (from yfinance) (2.23.0)\n",
            "Requirement already satisfied: multitasking>=0.0.7 in /usr/local/lib/python3.7/dist-packages (from yfinance) (0.0.10)\n",
            "Requirement already satisfied: lxml>=4.5.1 in /usr/local/lib/python3.7/dist-packages (from yfinance) (4.6.4)\n",
            "Requirement already satisfied: pandas>=0.24 in /usr/local/lib/python3.7/dist-packages (from yfinance) (1.1.5)\n",
            "Requirement already satisfied: pytz>=2017.2 in /usr/local/lib/python3.7/dist-packages (from pandas>=0.24->yfinance) (2018.9)\n",
            "Requirement already satisfied: python-dateutil>=2.7.3 in /usr/local/lib/python3.7/dist-packages (from pandas>=0.24->yfinance) (2.8.2)\n",
            "Requirement already satisfied: six>=1.5 in /usr/local/lib/python3.7/dist-packages (from python-dateutil>=2.7.3->pandas>=0.24->yfinance) (1.15.0)\n",
            "Requirement already satisfied: chardet<4,>=3.0.2 in /usr/local/lib/python3.7/dist-packages (from requests>=2.20->yfinance) (3.0.4)\n",
            "Requirement already satisfied: urllib3!=1.25.0,!=1.25.1,<1.26,>=1.21.1 in /usr/local/lib/python3.7/dist-packages (from requests>=2.20->yfinance) (1.24.3)\n",
            "Requirement already satisfied: certifi>=2017.4.17 in /usr/local/lib/python3.7/dist-packages (from requests>=2.20->yfinance) (2021.10.8)\n",
            "Requirement already satisfied: idna<3,>=2.5 in /usr/local/lib/python3.7/dist-packages (from requests>=2.20->yfinance) (2.10)\n"
          ]
        }
      ]
    },
    {
      "cell_type": "code",
      "metadata": {
        "id": "40sVABSiyQxL"
      },
      "source": [
        "# Import Python Libraries\n",
        "import pandas as pd\n",
        "import numpy as np\n",
        "\n",
        "import matplotlib.pyplot as plt\n",
        "\n",
        "import seaborn as sns\n",
        "\n",
        "sns.set_style('whitegrid')\n",
        "\n",
        "plt.style.use(\"fivethirtyeight\")\n",
        "%matplotlib inline\n",
        "\n",
        "# For reading stock data from yahoo\n",
        "# from pandas_datareader.data import DataReader\n",
        "import yfinance as yf\n",
        "\n",
        "# For time stamps\n",
        "from datetime import datetime"
      ],
      "execution_count": 26,
      "outputs": []
    },
    {
      "cell_type": "code",
      "metadata": {
        "colab": {
          "base_uri": "https://localhost:8080/",
          "height": 238
        },
        "id": "H3FgX9BIyTnP",
        "outputId": "8c69e644-242f-486a-c1ef-f780b4cb250c"
      },
      "source": [
        "stockName = 'AAPL'\n",
        "periodOfData = \"5y\"\n",
        "\n",
        "# df = DataReader('AAPL', data_source='yahoo', start='2012-01-01', end=datetime.now())\n",
        "ticker = yf.Ticker(stockName)\n",
        "df = ticker.history(period=periodOfData, auto_adjust=True)\n",
        "\n",
        "# Show the data\n",
        "df.tail()"
      ],
      "execution_count": 27,
      "outputs": [
        {
          "output_type": "execute_result",
          "data": {
            "text/html": [
              "<div>\n",
              "<style scoped>\n",
              "    .dataframe tbody tr th:only-of-type {\n",
              "        vertical-align: middle;\n",
              "    }\n",
              "\n",
              "    .dataframe tbody tr th {\n",
              "        vertical-align: top;\n",
              "    }\n",
              "\n",
              "    .dataframe thead th {\n",
              "        text-align: right;\n",
              "    }\n",
              "</style>\n",
              "<table border=\"1\" class=\"dataframe\">\n",
              "  <thead>\n",
              "    <tr style=\"text-align: right;\">\n",
              "      <th></th>\n",
              "      <th>Open</th>\n",
              "      <th>High</th>\n",
              "      <th>Low</th>\n",
              "      <th>Close</th>\n",
              "      <th>Volume</th>\n",
              "      <th>Dividends</th>\n",
              "      <th>Stock Splits</th>\n",
              "    </tr>\n",
              "    <tr>\n",
              "      <th>Date</th>\n",
              "      <th></th>\n",
              "      <th></th>\n",
              "      <th></th>\n",
              "      <th></th>\n",
              "      <th></th>\n",
              "      <th></th>\n",
              "      <th></th>\n",
              "    </tr>\n",
              "  </thead>\n",
              "  <tbody>\n",
              "    <tr>\n",
              "      <th>2021-11-29</th>\n",
              "      <td>159.369995</td>\n",
              "      <td>161.190002</td>\n",
              "      <td>158.789993</td>\n",
              "      <td>160.240005</td>\n",
              "      <td>88748200</td>\n",
              "      <td>0.0</td>\n",
              "      <td>0.0</td>\n",
              "    </tr>\n",
              "    <tr>\n",
              "      <th>2021-11-30</th>\n",
              "      <td>159.990005</td>\n",
              "      <td>165.520004</td>\n",
              "      <td>159.919998</td>\n",
              "      <td>165.300003</td>\n",
              "      <td>174048100</td>\n",
              "      <td>0.0</td>\n",
              "      <td>0.0</td>\n",
              "    </tr>\n",
              "    <tr>\n",
              "      <th>2021-12-01</th>\n",
              "      <td>167.479996</td>\n",
              "      <td>170.300003</td>\n",
              "      <td>164.529999</td>\n",
              "      <td>164.770004</td>\n",
              "      <td>152052500</td>\n",
              "      <td>0.0</td>\n",
              "      <td>0.0</td>\n",
              "    </tr>\n",
              "    <tr>\n",
              "      <th>2021-12-02</th>\n",
              "      <td>158.740005</td>\n",
              "      <td>164.199997</td>\n",
              "      <td>157.800003</td>\n",
              "      <td>163.759995</td>\n",
              "      <td>136739200</td>\n",
              "      <td>0.0</td>\n",
              "      <td>0.0</td>\n",
              "    </tr>\n",
              "    <tr>\n",
              "      <th>2021-12-03</th>\n",
              "      <td>164.020004</td>\n",
              "      <td>164.960007</td>\n",
              "      <td>159.720001</td>\n",
              "      <td>161.839996</td>\n",
              "      <td>117938300</td>\n",
              "      <td>0.0</td>\n",
              "      <td>0.0</td>\n",
              "    </tr>\n",
              "  </tbody>\n",
              "</table>\n",
              "</div>"
            ],
            "text/plain": [
              "                  Open        High  ...  Dividends  Stock Splits\n",
              "Date                                ...                         \n",
              "2021-11-29  159.369995  161.190002  ...        0.0           0.0\n",
              "2021-11-30  159.990005  165.520004  ...        0.0           0.0\n",
              "2021-12-01  167.479996  170.300003  ...        0.0           0.0\n",
              "2021-12-02  158.740005  164.199997  ...        0.0           0.0\n",
              "2021-12-03  164.020004  164.960007  ...        0.0           0.0\n",
              "\n",
              "[5 rows x 7 columns]"
            ]
          },
          "metadata": {},
          "execution_count": 27
        }
      ]
    },
    {
      "cell_type": "code",
      "metadata": {
        "colab": {
          "base_uri": "https://localhost:8080/",
          "height": 238
        },
        "id": "6GI_fSgoygJL",
        "outputId": "3c293fbb-cceb-4f65-9d95-b77f22631f39"
      },
      "source": [
        "close_df = df[['Close']]\n",
        "close_df[['Close']].tail()"
      ],
      "execution_count": 28,
      "outputs": [
        {
          "output_type": "execute_result",
          "data": {
            "text/html": [
              "<div>\n",
              "<style scoped>\n",
              "    .dataframe tbody tr th:only-of-type {\n",
              "        vertical-align: middle;\n",
              "    }\n",
              "\n",
              "    .dataframe tbody tr th {\n",
              "        vertical-align: top;\n",
              "    }\n",
              "\n",
              "    .dataframe thead th {\n",
              "        text-align: right;\n",
              "    }\n",
              "</style>\n",
              "<table border=\"1\" class=\"dataframe\">\n",
              "  <thead>\n",
              "    <tr style=\"text-align: right;\">\n",
              "      <th></th>\n",
              "      <th>Close</th>\n",
              "    </tr>\n",
              "    <tr>\n",
              "      <th>Date</th>\n",
              "      <th></th>\n",
              "    </tr>\n",
              "  </thead>\n",
              "  <tbody>\n",
              "    <tr>\n",
              "      <th>2021-11-29</th>\n",
              "      <td>160.240005</td>\n",
              "    </tr>\n",
              "    <tr>\n",
              "      <th>2021-11-30</th>\n",
              "      <td>165.300003</td>\n",
              "    </tr>\n",
              "    <tr>\n",
              "      <th>2021-12-01</th>\n",
              "      <td>164.770004</td>\n",
              "    </tr>\n",
              "    <tr>\n",
              "      <th>2021-12-02</th>\n",
              "      <td>163.759995</td>\n",
              "    </tr>\n",
              "    <tr>\n",
              "      <th>2021-12-03</th>\n",
              "      <td>161.839996</td>\n",
              "    </tr>\n",
              "  </tbody>\n",
              "</table>\n",
              "</div>"
            ],
            "text/plain": [
              "                 Close\n",
              "Date                  \n",
              "2021-11-29  160.240005\n",
              "2021-11-30  165.300003\n",
              "2021-12-01  164.770004\n",
              "2021-12-02  163.759995\n",
              "2021-12-03  161.839996"
            ]
          },
          "metadata": {},
          "execution_count": 28
        }
      ]
    },
    {
      "cell_type": "code",
      "metadata": {
        "colab": {
          "base_uri": "https://localhost:8080/"
        },
        "id": "ayhBFFR50Iq1",
        "outputId": "895a3ae6-e563-451d-d8c2-23c2d092b95b"
      },
      "source": [
        "# lets create one more column which is having stock values 15 days in advance, by shifting 15 rows up.\n",
        "# create Machine learning LR model based on the current and 15 days later values and predict the values 15 days in advance.\n",
        "close_df['Prediction'] = close_df[['Close']].shift(-15)\n",
        "#print data set\n",
        "\n",
        "print('first 15 rows --- ',close_df[0:15])\n",
        "print('last 15 rows --- ',close_df[-15:])"
      ],
      "execution_count": 41,
      "outputs": [
        {
          "output_type": "stream",
          "name": "stdout",
          "text": [
            "first 15 rows ---                  Close  Prediction\n",
            "Date                             \n",
            "2016-12-05  25.675816   27.593676\n",
            "2016-12-06  25.873486   27.476017\n",
            "2016-12-07  26.127630   27.468958\n",
            "2016-12-08  26.384125   27.254816\n",
            "2016-12-09  26.814758   27.332472\n",
            "2016-12-12  26.661812   27.301876\n",
            "2016-12-13  27.106560   27.440718\n",
            "2016-12-14  27.106560   27.746635\n",
            "2016-12-15  27.254816   28.000784\n",
            "2016-12-16  27.290110   28.029020\n",
            "2016-12-19  27.447779   28.179626\n",
            "2016-12-20  27.520733   28.061960\n",
            "2016-12-21  27.546612   28.012550\n",
            "2016-12-22  27.365416   28.238457\n",
            "2016-12-23  27.419544   28.236099\n",
            "last 15 rows ---                   Close  Prediction\n",
            "Date                              \n",
            "2021-11-12  149.990005         NaN\n",
            "2021-11-15  150.000000         NaN\n",
            "2021-11-16  151.000000         NaN\n",
            "2021-11-17  153.490005         NaN\n",
            "2021-11-18  157.869995         NaN\n",
            "2021-11-19  160.550003         NaN\n",
            "2021-11-22  161.020004         NaN\n",
            "2021-11-23  161.410004         NaN\n",
            "2021-11-24  161.940002         NaN\n",
            "2021-11-26  156.809998         NaN\n",
            "2021-11-29  160.240005         NaN\n",
            "2021-11-30  165.300003         NaN\n",
            "2021-12-01  164.770004         NaN\n",
            "2021-12-02  163.759995         NaN\n",
            "2021-12-03  161.839996         NaN\n"
          ]
        },
        {
          "output_type": "stream",
          "name": "stderr",
          "text": [
            "/usr/local/lib/python3.7/dist-packages/ipykernel_launcher.py:3: SettingWithCopyWarning: \n",
            "A value is trying to be set on a copy of a slice from a DataFrame.\n",
            "Try using .loc[row_indexer,col_indexer] = value instead\n",
            "\n",
            "See the caveats in the documentation: https://pandas.pydata.org/pandas-docs/stable/user_guide/indexing.html#returning-a-view-versus-a-copy\n",
            "  This is separate from the ipykernel package so we can avoid doing imports until\n"
          ]
        }
      ]
    },
    {
      "cell_type": "code",
      "metadata": {
        "colab": {
          "base_uri": "https://localhost:8080/"
        },
        "id": "7yiWtWfz5XwY",
        "outputId": "2c0ee03b-24f4-4ffe-8532-fe416efc32d0"
      },
      "source": [
        "print('last 15 rows --- ',close_df[-15:])\n",
        "print('wihtout last 15 rows --- ',close_df[:-15])"
      ],
      "execution_count": 45,
      "outputs": [
        {
          "output_type": "stream",
          "name": "stdout",
          "text": [
            "last 15 rows ---                   Close  Prediction\n",
            "Date                              \n",
            "2021-11-12  149.990005         NaN\n",
            "2021-11-15  150.000000         NaN\n",
            "2021-11-16  151.000000         NaN\n",
            "2021-11-17  153.490005         NaN\n",
            "2021-11-18  157.869995         NaN\n",
            "2021-11-19  160.550003         NaN\n",
            "2021-11-22  161.020004         NaN\n",
            "2021-11-23  161.410004         NaN\n",
            "2021-11-24  161.940002         NaN\n",
            "2021-11-26  156.809998         NaN\n",
            "2021-11-29  160.240005         NaN\n",
            "2021-11-30  165.300003         NaN\n",
            "2021-12-01  164.770004         NaN\n",
            "2021-12-02  163.759995         NaN\n",
            "2021-12-03  161.839996         NaN\n",
            "wihtout last 15 rows ---                   Close  Prediction\n",
            "Date                              \n",
            "2016-12-05   25.675816   27.593676\n",
            "2016-12-06   25.873486   27.476017\n",
            "2016-12-07   26.127630   27.468958\n",
            "2016-12-08   26.384125   27.254816\n",
            "2016-12-09   26.814758   27.332472\n",
            "...                ...         ...\n",
            "2021-11-05  151.279999  160.240005\n",
            "2021-11-08  150.440002  165.300003\n",
            "2021-11-09  150.809998  164.770004\n",
            "2021-11-10  147.919998  163.759995\n",
            "2021-11-11  147.869995  161.839996\n",
            "\n",
            "[1244 rows x 2 columns]\n"
          ]
        }
      ]
    },
    {
      "cell_type": "code",
      "metadata": {
        "colab": {
          "base_uri": "https://localhost:8080/"
        },
        "id": "DBn5Is4t0yQP",
        "outputId": "db53cf55-393b-4b5a-ee61-ddcd3e6fcfa5"
      },
      "source": [
        "#Create a new data set 'xclose_df' and convert it into numpy array , which will be having actual values\n",
        "xclose_df = np.array(close_df.drop(['Prediction'],1))\n",
        "#Remove the last 15 rows\n",
        "xclose_df = xclose_df[:-15]\n",
        "print(xclose_df)"
      ],
      "execution_count": 46,
      "outputs": [
        {
          "output_type": "stream",
          "name": "stdout",
          "text": [
            "[[ 25.67581558]\n",
            " [ 25.87348557]\n",
            " [ 26.12763023]\n",
            " ...\n",
            " [150.80999756]\n",
            " [147.91999817]\n",
            " [147.86999512]]\n"
          ]
        }
      ]
    },
    {
      "cell_type": "code",
      "metadata": {
        "colab": {
          "base_uri": "https://localhost:8080/"
        },
        "id": "hD2Y2eCs1Dy2",
        "outputId": "accb5e2b-a947-49f7-ecfc-bf161b55b2b1"
      },
      "source": [
        "# Create a dataset 'yclose_df' which will be having Predicted values and convert into numpy array\n",
        "yclose_df = np.array(close_df['Prediction'])\n",
        "# Remove Last 15 rows\n",
        "yclose_df = yclose_df[:-15]\n",
        "print(yclose_df)"
      ],
      "execution_count": 47,
      "outputs": [
        {
          "output_type": "stream",
          "name": "stdout",
          "text": [
            "[ 27.59367561  27.476017    27.4689579  ... 164.77000427 163.75999451\n",
            " 161.83999634]\n"
          ]
        }
      ]
    },
    {
      "cell_type": "code",
      "metadata": {
        "id": "fzs-y6u61Z99"
      },
      "source": [
        "from sklearn.model_selection import train_test_split\n",
        "\n",
        "from sklearn.svm import SVR\n",
        "\n",
        "\n",
        "# Split the data into train and test with 90 & 10 % respectively\n",
        "x_train, x_test, y_train, y_test = train_test_split(xclose_df, yclose_df, test_size=0.1)"
      ],
      "execution_count": 48,
      "outputs": []
    },
    {
      "cell_type": "markdown",
      "metadata": {
        "id": "jxt-RmgW7zuZ"
      },
      "source": [
        "# using SVM"
      ]
    },
    {
      "cell_type": "code",
      "metadata": {
        "colab": {
          "base_uri": "https://localhost:8080/"
        },
        "id": "tgct2YJ_18g1",
        "outputId": "f7cdbf59-c693-45a1-e3c8-bf8a8bc09cf4"
      },
      "source": [
        "# SVM Model\n",
        "svr = SVR(kernel='rbf', C=1e3, gamma=0.1) # kernel{‘linear’, ‘poly’, ‘rbf’, ‘sigmoid’, ‘precomputed’}, default='rbf'\n",
        "# Train the model \n",
        "svr.fit(x_train, y_train)"
      ],
      "execution_count": 49,
      "outputs": [
        {
          "output_type": "execute_result",
          "data": {
            "text/plain": [
              "SVR(C=1000.0, gamma=0.1)"
            ]
          },
          "metadata": {},
          "execution_count": 49
        }
      ]
    },
    {
      "cell_type": "code",
      "metadata": {
        "colab": {
          "base_uri": "https://localhost:8080/"
        },
        "id": "9bqfzuIh3eIl",
        "outputId": "fb3727bd-35f1-484d-a642-77b042fa1e68"
      },
      "source": [
        "# The best possible score is 1.0\n",
        "svm_confidence = svr.score(x_test, y_test)\n",
        "print('svm confidence: ', svm_confidence)"
      ],
      "execution_count": 34,
      "outputs": [
        {
          "output_type": "stream",
          "name": "stdout",
          "text": [
            "svm confidence:  0.9816402645399981\n"
          ]
        }
      ]
    },
    {
      "cell_type": "code",
      "metadata": {
        "colab": {
          "base_uri": "https://localhost:8080/"
        },
        "id": "rndJuflE3oie",
        "outputId": "8360f378-6198-4320-99aa-73bbdc1dccf4"
      },
      "source": [
        "# get the last 15 rows of the original data set from Close column and convert into numpy array\n",
        "forecast = np.array(close_df.drop(['Prediction'],1))[-15:]\n",
        "print(forecast)"
      ],
      "execution_count": 50,
      "outputs": [
        {
          "output_type": "stream",
          "name": "stdout",
          "text": [
            "[[149.99000549]\n",
            " [150.        ]\n",
            " [151.        ]\n",
            " [153.49000549]\n",
            " [157.86999512]\n",
            " [160.55000305]\n",
            " [161.02000427]\n",
            " [161.41000366]\n",
            " [161.94000244]\n",
            " [156.80999756]\n",
            " [160.24000549]\n",
            " [165.30000305]\n",
            " [164.77000427]\n",
            " [163.75999451]\n",
            " [161.83999634]]\n"
          ]
        }
      ]
    },
    {
      "cell_type": "code",
      "metadata": {
        "colab": {
          "base_uri": "https://localhost:8080/"
        },
        "id": "EPMuq0Q23z6F",
        "outputId": "8e02a11f-688a-42f0-d920-73c5e0bf8e67"
      },
      "source": [
        "# support vector model predictions for the next ‘15’ days\n",
        "svm_prediction = svr.predict(forecast)\n",
        "\n",
        "for i in range(15):\n",
        "    print(forecast[i][0], ' ---> ',svm_prediction[i])\n",
        "\n",
        "# print(svm_prediction)\n",
        "# print(forecast)"
      ],
      "execution_count": 54,
      "outputs": [
        {
          "output_type": "stream",
          "name": "stdout",
          "text": [
            "149.99000549316406  --->  155.06788819337766\n",
            "150.0  --->  155.11169924359234\n",
            "151.0  --->  156.74337709548945\n",
            "153.49000549316406  --->  141.87834824818486\n",
            "157.8699951171875  --->  132.14517949450874\n",
            "160.5500030517578  --->  105.40026980243105\n",
            "161.02000427246094  --->  102.06431951745655\n",
            "161.41000366210938  --->  99.86758061690057\n",
            "161.94000244140625  --->  97.65807633380942\n",
            "156.80999755859375  --->  139.96657402537096\n",
            "160.24000549316406  --->  107.9998017827059\n",
            "165.3000030517578  --->  94.30615562320774\n",
            "164.77000427246094  --->  94.35495166599428\n",
            "163.75999450683594  --->  94.65208271672437\n",
            "161.83999633789062  --->  98.01199802192697\n"
          ]
        }
      ]
    },
    {
      "cell_type": "code",
      "metadata": {
        "colab": {
          "base_uri": "https://localhost:8080/"
        },
        "id": "5tnBWDmF9Fia",
        "outputId": "7ea47621-9864-43c9-a41a-dac32872796f"
      },
      "source": [
        "from prettytable import PrettyTable\n",
        "\n",
        "myTable = PrettyTable([\"closing price\", \"Prediction\"]) \n",
        "\n",
        "for i in range(15):\n",
        "    # print(forecast[i][0], ' ---> ',svm_prediction[i])\n",
        "    myTable.add_row([forecast[i][0], svm_prediction[i]])\n",
        "\n",
        "print(myTable)"
      ],
      "execution_count": 56,
      "outputs": [
        {
          "output_type": "stream",
          "name": "stdout",
          "text": [
            "+--------------------+--------------------+\n",
            "|   closing price    |     Prediction     |\n",
            "+--------------------+--------------------+\n",
            "| 149.99000549316406 | 155.06788819337766 |\n",
            "|       150.0        | 155.11169924359234 |\n",
            "|       151.0        | 156.74337709548945 |\n",
            "| 153.49000549316406 | 141.87834824818486 |\n",
            "| 157.8699951171875  | 132.14517949450874 |\n",
            "| 160.5500030517578  | 105.40026980243105 |\n",
            "| 161.02000427246094 | 102.06431951745655 |\n",
            "| 161.41000366210938 | 99.86758061690057  |\n",
            "| 161.94000244140625 | 97.65807633380942  |\n",
            "| 156.80999755859375 | 139.96657402537096 |\n",
            "| 160.24000549316406 | 107.9998017827059  |\n",
            "| 165.3000030517578  | 94.30615562320774  |\n",
            "| 164.77000427246094 | 94.35495166599428  |\n",
            "| 163.75999450683594 | 94.65208271672437  |\n",
            "| 161.83999633789062 | 98.01199802192697  |\n",
            "+--------------------+--------------------+\n"
          ]
        }
      ]
    },
    {
      "cell_type": "markdown",
      "metadata": {
        "id": "PqhAedgX74SI"
      },
      "source": [
        "# Using Linear Regression"
      ]
    },
    {
      "cell_type": "code",
      "metadata": {
        "id": "_2gsRqbQ9yES"
      },
      "source": [
        "from sklearn.linear_model import LinearRegression"
      ],
      "execution_count": 58,
      "outputs": []
    },
    {
      "cell_type": "code",
      "metadata": {
        "colab": {
          "base_uri": "https://localhost:8080/"
        },
        "id": "25_Wdg3h9ur7",
        "outputId": "805a22d8-32dd-46d3-8f01-5170e9c91cfa"
      },
      "source": [
        "# Linear Regression Model\n",
        "lr = LinearRegression()\n",
        "# Train the model\n",
        "lr.fit(x_train, y_train)"
      ],
      "execution_count": 59,
      "outputs": [
        {
          "output_type": "execute_result",
          "data": {
            "text/plain": [
              "LinearRegression()"
            ]
          },
          "metadata": {},
          "execution_count": 59
        }
      ]
    },
    {
      "cell_type": "code",
      "metadata": {
        "colab": {
          "base_uri": "https://localhost:8080/"
        },
        "id": "WgY-e9Da-ADd",
        "outputId": "3ebbd8c0-827d-42e8-e26a-1070451b79e9"
      },
      "source": [
        "# Testing Model: Return the coefficient of determination R² of the prediction.\n",
        "\n",
        "# The best possible score is 1.0\n",
        "lr_confidence = lr.score(x_test, y_test)\n",
        "print(lr_confidence)"
      ],
      "execution_count": 60,
      "outputs": [
        {
          "output_type": "stream",
          "name": "stdout",
          "text": [
            "0.986985520359951\n"
          ]
        }
      ]
    },
    {
      "cell_type": "code",
      "metadata": {
        "colab": {
          "base_uri": "https://localhost:8080/"
        },
        "id": "_hQEsA-P-HX8",
        "outputId": "99c92209-f9a3-44a3-87f7-9bcdfd60c1ea"
      },
      "source": [
        "# get the last 15 rows of the original data set from Adj. Close column and convert into numpy array\n",
        "\n",
        "forecast = np.array(close_df.drop(['Prediction'],1))[-15:]\n",
        "print(forecast)"
      ],
      "execution_count": 61,
      "outputs": [
        {
          "output_type": "stream",
          "name": "stdout",
          "text": [
            "[[149.99000549]\n",
            " [150.        ]\n",
            " [151.        ]\n",
            " [153.49000549]\n",
            " [157.86999512]\n",
            " [160.55000305]\n",
            " [161.02000427]\n",
            " [161.41000366]\n",
            " [161.94000244]\n",
            " [156.80999756]\n",
            " [160.24000549]\n",
            " [165.30000305]\n",
            " [164.77000427]\n",
            " [163.75999451]\n",
            " [161.83999634]]\n"
          ]
        }
      ]
    },
    {
      "cell_type": "code",
      "metadata": {
        "colab": {
          "base_uri": "https://localhost:8080/"
        },
        "id": "mrgJDEZn-TVk",
        "outputId": "6abdf2b6-5f99-45c6-9c15-aef32421ab73"
      },
      "source": [
        "# linear regression model predictions for the next 15 days\n",
        "lr_prediction = lr.predict(forecast)\n",
        "print(lr_prediction)"
      ],
      "execution_count": 62,
      "outputs": [
        {
          "output_type": "stream",
          "name": "stdout",
          "text": [
            "[152.68789525 152.69802548 153.71160513 156.23542403 160.67489238\n",
            " 163.39129389 163.86767756 164.26297301 164.80016899 159.60050043\n",
            " 163.07708667 168.20579723 167.66860125 166.64487591 164.69880483]\n"
          ]
        }
      ]
    },
    {
      "cell_type": "code",
      "metadata": {
        "colab": {
          "base_uri": "https://localhost:8080/"
        },
        "id": "XBHgssbc-XeT",
        "outputId": "93edf037-1a23-4747-af0e-e38645aec8ca"
      },
      "source": [
        "from prettytable import PrettyTable\n",
        "\n",
        "myTable = PrettyTable([\"closing price\", \"Prediction\"]) \n",
        "\n",
        "for i in range(15):\n",
        "    myTable.add_row([forecast[i][0], lr_prediction[i]])\n",
        "\n",
        "print(myTable)"
      ],
      "execution_count": 63,
      "outputs": [
        {
          "output_type": "stream",
          "name": "stdout",
          "text": [
            "+--------------------+--------------------+\n",
            "|   closing price    |     Prediction     |\n",
            "+--------------------+--------------------+\n",
            "| 149.99000549316406 | 152.6878952464989  |\n",
            "|       150.0        | 152.6980254752517  |\n",
            "|       151.0        | 153.71160512646577 |\n",
            "| 153.49000549316406 | 156.23542402574816 |\n",
            "| 157.8699951171875  | 160.6748923811872  |\n",
            "| 160.5500030517578  | 163.39129388875995 |\n",
            "| 161.02000427246094 | 163.86767756211043 |\n",
            "| 161.41000366210938 | 164.26297300744397 |\n",
            "| 161.94000244140625 | 164.8001689853076  |\n",
            "| 156.80999755859375 | 159.60050042545993 |\n",
            "| 160.24000549316406 | 163.07708667144328 |\n",
            "| 165.3000030517578  | 168.20579723202684 |\n",
            "| 164.77000427246094 | 167.6686012541632  |\n",
            "| 163.75999450683594 | 166.64487590819823 |\n",
            "| 161.83999633789062 | 164.69880483378694 |\n",
            "+--------------------+--------------------+\n"
          ]
        }
      ]
    }
  ]
}