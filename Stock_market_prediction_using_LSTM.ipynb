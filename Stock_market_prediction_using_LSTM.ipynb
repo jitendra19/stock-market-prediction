{
  "nbformat": 4,
  "nbformat_minor": 0,
  "metadata": {
    "colab": {
      "name": "Stock market prediction using LSTM.ipynb",
      "provenance": [],
      "collapsed_sections": [],
      "authorship_tag": "ABX9TyPdI02oiqCJzp1fdV6PqBqr",
      "include_colab_link": true
    },
    "kernelspec": {
      "name": "python3",
      "display_name": "Python 3"
    },
    "language_info": {
      "name": "python"
    }
  },
  "cells": [
    {
      "cell_type": "markdown",
      "metadata": {
        "id": "view-in-github",
        "colab_type": "text"
      },
      "source": [
        "<a href=\"https://colab.research.google.com/github/jitendra19/stock-market-prediction/blob/main/Stock_market_prediction_using_LSTM.ipynb\" target=\"_parent\"><img src=\"https://colab.research.google.com/assets/colab-badge.svg\" alt=\"Open In Colab\"/></a>"
      ]
    },
    {
      "cell_type": "code",
      "metadata": {
        "colab": {
          "base_uri": "https://localhost:8080/"
        },
        "id": "fbeGl7zV0teE",
        "outputId": "3f68752d-8abf-426e-ca1a-060c3971e6bd"
      },
      "source": [
        "pip install yfinance"
      ],
      "execution_count": 28,
      "outputs": [
        {
          "output_type": "stream",
          "name": "stdout",
          "text": [
            "Requirement already satisfied: yfinance in /usr/local/lib/python3.7/dist-packages (0.1.67)\n",
            "Requirement already satisfied: pandas>=0.24 in /usr/local/lib/python3.7/dist-packages (from yfinance) (1.1.5)\n",
            "Requirement already satisfied: multitasking>=0.0.7 in /usr/local/lib/python3.7/dist-packages (from yfinance) (0.0.10)\n",
            "Requirement already satisfied: lxml>=4.5.1 in /usr/local/lib/python3.7/dist-packages (from yfinance) (4.6.4)\n",
            "Requirement already satisfied: requests>=2.20 in /usr/local/lib/python3.7/dist-packages (from yfinance) (2.23.0)\n",
            "Requirement already satisfied: numpy>=1.15 in /usr/local/lib/python3.7/dist-packages (from yfinance) (1.19.5)\n",
            "Requirement already satisfied: python-dateutil>=2.7.3 in /usr/local/lib/python3.7/dist-packages (from pandas>=0.24->yfinance) (2.8.2)\n",
            "Requirement already satisfied: pytz>=2017.2 in /usr/local/lib/python3.7/dist-packages (from pandas>=0.24->yfinance) (2018.9)\n",
            "Requirement already satisfied: six>=1.5 in /usr/local/lib/python3.7/dist-packages (from python-dateutil>=2.7.3->pandas>=0.24->yfinance) (1.15.0)\n",
            "Requirement already satisfied: certifi>=2017.4.17 in /usr/local/lib/python3.7/dist-packages (from requests>=2.20->yfinance) (2021.10.8)\n",
            "Requirement already satisfied: urllib3!=1.25.0,!=1.25.1,<1.26,>=1.21.1 in /usr/local/lib/python3.7/dist-packages (from requests>=2.20->yfinance) (1.24.3)\n",
            "Requirement already satisfied: idna<3,>=2.5 in /usr/local/lib/python3.7/dist-packages (from requests>=2.20->yfinance) (2.10)\n",
            "Requirement already satisfied: chardet<4,>=3.0.2 in /usr/local/lib/python3.7/dist-packages (from requests>=2.20->yfinance) (3.0.4)\n"
          ]
        }
      ]
    },
    {
      "cell_type": "code",
      "metadata": {
        "id": "qT2Gu_3a0vNv"
      },
      "source": [
        "import pandas as pd\n",
        "import numpy as np\n",
        "\n",
        "import matplotlib.pyplot as plt\n",
        "\n",
        "import seaborn as sns\n",
        "\n",
        "sns.set_style('whitegrid')\n",
        "\n",
        "plt.style.use(\"fivethirtyeight\")\n",
        "%matplotlib inline\n",
        "\n",
        "# For reading stock data from yahoo\n",
        "# from pandas_datareader.data import DataReader\n",
        "import yfinance as yf\n",
        "\n",
        "# For time stamps\n",
        "from datetime import datetime"
      ],
      "execution_count": 29,
      "outputs": []
    },
    {
      "cell_type": "code",
      "metadata": {
        "colab": {
          "base_uri": "https://localhost:8080/",
          "height": 455
        },
        "id": "ePTZ45UF0zb9",
        "outputId": "d966fbc5-61d3-4ae6-de88-2f32299a1f88"
      },
      "source": [
        "stockName = 'AAPL'\n",
        "periodOfData = \"5y\"\n",
        "\n",
        "# df = DataReader('AAPL', data_source='yahoo', start='2012-01-01', end=datetime.now())\n",
        "ticker = yf.Ticker(stockName)\n",
        "df = ticker.history(period=periodOfData, auto_adjust=True)\n",
        "\n",
        "# Show the data\n",
        "df"
      ],
      "execution_count": 30,
      "outputs": [
        {
          "output_type": "execute_result",
          "data": {
            "text/html": [
              "<div>\n",
              "<style scoped>\n",
              "    .dataframe tbody tr th:only-of-type {\n",
              "        vertical-align: middle;\n",
              "    }\n",
              "\n",
              "    .dataframe tbody tr th {\n",
              "        vertical-align: top;\n",
              "    }\n",
              "\n",
              "    .dataframe thead th {\n",
              "        text-align: right;\n",
              "    }\n",
              "</style>\n",
              "<table border=\"1\" class=\"dataframe\">\n",
              "  <thead>\n",
              "    <tr style=\"text-align: right;\">\n",
              "      <th></th>\n",
              "      <th>Open</th>\n",
              "      <th>High</th>\n",
              "      <th>Low</th>\n",
              "      <th>Close</th>\n",
              "      <th>Volume</th>\n",
              "      <th>Dividends</th>\n",
              "      <th>Stock Splits</th>\n",
              "    </tr>\n",
              "    <tr>\n",
              "      <th>Date</th>\n",
              "      <th></th>\n",
              "      <th></th>\n",
              "      <th></th>\n",
              "      <th></th>\n",
              "      <th></th>\n",
              "      <th></th>\n",
              "      <th></th>\n",
              "    </tr>\n",
              "  </thead>\n",
              "  <tbody>\n",
              "    <tr>\n",
              "      <th>2016-12-05</th>\n",
              "      <td>25.885247</td>\n",
              "      <td>25.892306</td>\n",
              "      <td>25.473436</td>\n",
              "      <td>25.675812</td>\n",
              "      <td>137298000</td>\n",
              "      <td>0.0</td>\n",
              "      <td>0.0</td>\n",
              "    </tr>\n",
              "    <tr>\n",
              "      <th>2016-12-06</th>\n",
              "      <td>25.767588</td>\n",
              "      <td>25.969964</td>\n",
              "      <td>25.694640</td>\n",
              "      <td>25.873482</td>\n",
              "      <td>104782000</td>\n",
              "      <td>0.0</td>\n",
              "      <td>0.0</td>\n",
              "    </tr>\n",
              "    <tr>\n",
              "      <th>2016-12-07</th>\n",
              "      <td>25.711116</td>\n",
              "      <td>26.165284</td>\n",
              "      <td>25.687584</td>\n",
              "      <td>26.127632</td>\n",
              "      <td>119994800</td>\n",
              "      <td>0.0</td>\n",
              "      <td>0.0</td>\n",
              "    </tr>\n",
              "    <tr>\n",
              "      <th>2016-12-08</th>\n",
              "      <td>26.087628</td>\n",
              "      <td>26.457081</td>\n",
              "      <td>26.026444</td>\n",
              "      <td>26.384132</td>\n",
              "      <td>108273200</td>\n",
              "      <td>0.0</td>\n",
              "      <td>0.0</td>\n",
              "    </tr>\n",
              "    <tr>\n",
              "      <th>2016-12-09</th>\n",
              "      <td>26.428842</td>\n",
              "      <td>26.991258</td>\n",
              "      <td>26.428842</td>\n",
              "      <td>26.814768</td>\n",
              "      <td>137610400</td>\n",
              "      <td>0.0</td>\n",
              "      <td>0.0</td>\n",
              "    </tr>\n",
              "    <tr>\n",
              "      <th>...</th>\n",
              "      <td>...</td>\n",
              "      <td>...</td>\n",
              "      <td>...</td>\n",
              "      <td>...</td>\n",
              "      <td>...</td>\n",
              "      <td>...</td>\n",
              "      <td>...</td>\n",
              "    </tr>\n",
              "    <tr>\n",
              "      <th>2021-11-29</th>\n",
              "      <td>159.369995</td>\n",
              "      <td>161.190002</td>\n",
              "      <td>158.789993</td>\n",
              "      <td>160.240005</td>\n",
              "      <td>88748200</td>\n",
              "      <td>0.0</td>\n",
              "      <td>0.0</td>\n",
              "    </tr>\n",
              "    <tr>\n",
              "      <th>2021-11-30</th>\n",
              "      <td>159.990005</td>\n",
              "      <td>165.520004</td>\n",
              "      <td>159.919998</td>\n",
              "      <td>165.300003</td>\n",
              "      <td>174048100</td>\n",
              "      <td>0.0</td>\n",
              "      <td>0.0</td>\n",
              "    </tr>\n",
              "    <tr>\n",
              "      <th>2021-12-01</th>\n",
              "      <td>167.479996</td>\n",
              "      <td>170.300003</td>\n",
              "      <td>164.529999</td>\n",
              "      <td>164.770004</td>\n",
              "      <td>152052500</td>\n",
              "      <td>0.0</td>\n",
              "      <td>0.0</td>\n",
              "    </tr>\n",
              "    <tr>\n",
              "      <th>2021-12-02</th>\n",
              "      <td>158.740005</td>\n",
              "      <td>164.199997</td>\n",
              "      <td>157.800003</td>\n",
              "      <td>163.759995</td>\n",
              "      <td>136739200</td>\n",
              "      <td>0.0</td>\n",
              "      <td>0.0</td>\n",
              "    </tr>\n",
              "    <tr>\n",
              "      <th>2021-12-03</th>\n",
              "      <td>164.020004</td>\n",
              "      <td>164.960007</td>\n",
              "      <td>159.720001</td>\n",
              "      <td>161.839996</td>\n",
              "      <td>117938300</td>\n",
              "      <td>0.0</td>\n",
              "      <td>0.0</td>\n",
              "    </tr>\n",
              "  </tbody>\n",
              "</table>\n",
              "<p>1259 rows × 7 columns</p>\n",
              "</div>"
            ],
            "text/plain": [
              "                  Open        High  ...  Dividends  Stock Splits\n",
              "Date                                ...                         \n",
              "2016-12-05   25.885247   25.892306  ...        0.0           0.0\n",
              "2016-12-06   25.767588   25.969964  ...        0.0           0.0\n",
              "2016-12-07   25.711116   26.165284  ...        0.0           0.0\n",
              "2016-12-08   26.087628   26.457081  ...        0.0           0.0\n",
              "2016-12-09   26.428842   26.991258  ...        0.0           0.0\n",
              "...                ...         ...  ...        ...           ...\n",
              "2021-11-29  159.369995  161.190002  ...        0.0           0.0\n",
              "2021-11-30  159.990005  165.520004  ...        0.0           0.0\n",
              "2021-12-01  167.479996  170.300003  ...        0.0           0.0\n",
              "2021-12-02  158.740005  164.199997  ...        0.0           0.0\n",
              "2021-12-03  164.020004  164.960007  ...        0.0           0.0\n",
              "\n",
              "[1259 rows x 7 columns]"
            ]
          },
          "metadata": {},
          "execution_count": 30
        }
      ]
    },
    {
      "cell_type": "code",
      "metadata": {
        "colab": {
          "base_uri": "https://localhost:8080/",
          "height": 410
        },
        "id": "9X-CUVJb1Ode",
        "outputId": "2c463cd8-12d1-4dd6-aa9d-2d8fb8f004c9"
      },
      "source": [
        "plt.figure(figsize=(16,6))\n",
        "plt.title('Closing Price Chart')\n",
        "plt.plot(df['Close'])\n",
        "plt.xlabel('Date', fontsize=18)\n",
        "plt.ylabel('Close Price', fontsize=18)\n",
        "plt.show()"
      ],
      "execution_count": 31,
      "outputs": [
        {
          "output_type": "display_data",
          "data": {
            "image/png": "[encoded data removed]",
            "text/plain": [
              "<Figure size 1152x432 with 1 Axes>"
            ]
          },
          "metadata": {
            "needs_background": "light"
          }
        }
      ]
    },
    {
      "cell_type": "code",
      "metadata": {
        "colab": {
          "base_uri": "https://localhost:8080/"
        },
        "id": "EaYQ8CiX1TO4",
        "outputId": "b3362c54-d0ee-4afb-ba30-fdc5a6c1c4a0"
      },
      "source": [
        "# Create a new dataframe with only the 'Close column \n",
        "Close_DF = df.filter(['Close'])\n",
        "# Convert the dataframe to a numpy array\n",
        "Close_dataset = Close_DF.values\n",
        "print(Close_dataset[0])\n",
        "# Get the number of rows to train the model on\n",
        "training_data_len = int(np.ceil( len(Close_dataset) * .90 ))\n",
        "\n",
        "print(training_data_len)"
      ],
      "execution_count": 41,
      "outputs": [
        {
          "output_type": "stream",
          "name": "stdout",
          "text": [
            "[25.67581177]\n",
            "1134\n"
          ]
        }
      ]
    },
    {
      "cell_type": "code",
      "metadata": {
        "colab": {
          "base_uri": "https://localhost:8080/"
        },
        "id": "MSqT9pzw1V8H",
        "outputId": "e1183a8a-7b11-41cd-eee3-2d4cd590cad5"
      },
      "source": [
        "# Scale the data\n",
        "from sklearn.preprocessing import MinMaxScaler\n",
        "\n",
        "#MinMaxScaler\n",
        "# X_std = (X - X.min(axis=0)) / (X.max(axis=0) - X.min(axis=0))\n",
        "# X_scaled = X_std * (max - min) + min\n",
        "\n",
        "scaler = MinMaxScaler(feature_range=(0,1))\n",
        "\n",
        "\"\"\"\n",
        "Data standardization is the process of rescaling the attributes so that they have mean as 0 and variance as 1.\n",
        "The ultimate goal to perform standardization is to bring down all the features to a common scale without distorting the differences in the range of the values.\n",
        "We all know that we call fit_transform() method on our training data and transform() method on our test data.\n",
        "fit_transform() is used on the training data so that we can scale the training data and also learn the scaling parameters of that data. Here, the model built by us will learn the mean and variance of the features of the training set. \n",
        "we want scaling to be applied to our test data too and at the same time do not want to be biased with our model. \n",
        "transform() method we can use the same mean and variance as it is calculated from our training data to transform our test data.\n",
        "\"\"\"\n",
        "\n",
        "scaled_data = scaler.fit_transform(Close_dataset)\n",
        "\n",
        "print('fit_transform', scaled_data[0:5])"
      ],
      "execution_count": 42,
      "outputs": [
        {
          "output_type": "stream",
          "name": "stdout",
          "text": [
            "fit_transform [[0.        ]\n",
            " [0.00141573]\n",
            " [0.00323597]\n",
            " [0.00507305]\n",
            " [0.0081573 ]]\n"
          ]
        }
      ]
    },
    {
      "cell_type": "code",
      "metadata": {
        "colab": {
          "base_uri": "https://localhost:8080/"
        },
        "id": "9Uiq6UDc1bJ9",
        "outputId": "4f14b09f-80f8-4811-a364-25f1cd42a2bd"
      },
      "source": [
        "# Create the training data set \n",
        "# Create the scaled training data set\n",
        "train_data = scaled_data[0:int(training_data_len), :]\n",
        "\n",
        "# Split the data into x_train and y_train data sets\n",
        "x_train = []\n",
        "y_train = []\n",
        "\n",
        "for i in range(60, len(train_data)):\n",
        "    x_train.append(train_data[i-60:i, 0])\n",
        "    y_train.append(train_data[i, 0])\n",
        "    if i<= 61:\n",
        "        print('x_train --- ', x_train)\n",
        "        print('y_train --- ', y_train)\n",
        "        print()\n",
        "        \n",
        "# Convert the x_train and y_train to numpy arrays \n",
        "x_train, y_train = np.array(x_train), np.array(y_train)\n",
        "\n",
        "print()\n",
        "# Reshape the data\n",
        "x_train = np.reshape(x_train, (x_train.shape[0], x_train.shape[1], 1))\n",
        "# x_train.shape"
      ],
      "execution_count": 43,
      "outputs": [
        {
          "output_type": "stream",
          "name": "stdout",
          "text": [
            "x_train ---  [array([0.        , 0.00141573, 0.00323597, 0.00507305, 0.0081573 ,\n",
            "       0.00706176, 0.01024716, 0.01024716, 0.01130895, 0.01156175,\n",
            "       0.01269097, 0.01321342, 0.01339882, 0.0121011 , 0.0124887 ,\n",
            "       0.0137359 , 0.01289322, 0.01284265, 0.01130895, 0.01186512,\n",
            "       0.01164599, 0.0126404 , 0.01483141, 0.01665163, 0.01685386,\n",
            "       0.0179325 , 0.01708982, 0.0167359 , 0.01835385, 0.01833699,\n",
            "       0.01798307, 0.01835385, 0.01848871, 0.01830329, 0.02152239,\n",
            "       0.02162351, 0.02164035, 0.02110105, 0.02062913, 0.03310096,\n",
            "       0.03273021, 0.03365715, 0.03569647, 0.03778631, 0.03864586,\n",
            "       0.04025394, 0.03974621, 0.04172658, 0.04465496, 0.04548435,\n",
            "       0.04521352, 0.04583983, 0.04749863, 0.04819264, 0.04721086,\n",
            "       0.0474309 , 0.04788796, 0.04798959, 0.05272908, 0.05132414])]\n",
            "y_train ---  [0.05271222243459886]\n",
            "\n",
            "x_train ---  [array([0.        , 0.00141573, 0.00323597, 0.00507305, 0.0081573 ,\n",
            "       0.00706176, 0.01024716, 0.01024716, 0.01130895, 0.01156175,\n",
            "       0.01269097, 0.01321342, 0.01339882, 0.0121011 , 0.0124887 ,\n",
            "       0.0137359 , 0.01289322, 0.01284265, 0.01130895, 0.01186512,\n",
            "       0.01164599, 0.0126404 , 0.01483141, 0.01665163, 0.01685386,\n",
            "       0.0179325 , 0.01708982, 0.0167359 , 0.01835385, 0.01833699,\n",
            "       0.01798307, 0.01835385, 0.01848871, 0.01830329, 0.02152239,\n",
            "       0.02162351, 0.02164035, 0.02110105, 0.02062913, 0.03310096,\n",
            "       0.03273021, 0.03365715, 0.03569647, 0.03778631, 0.03864586,\n",
            "       0.04025394, 0.03974621, 0.04172658, 0.04465496, 0.04548435,\n",
            "       0.04521352, 0.04583983, 0.04749863, 0.04819264, 0.04721086,\n",
            "       0.0474309 , 0.04788796, 0.04798959, 0.05272908, 0.05132414]), array([0.00141573, 0.00323597, 0.00507305, 0.0081573 , 0.00706176,\n",
            "       0.01024716, 0.01024716, 0.01130895, 0.01156175, 0.01269097,\n",
            "       0.01321342, 0.01339882, 0.0121011 , 0.0124887 , 0.0137359 ,\n",
            "       0.01289322, 0.01284265, 0.01130895, 0.01186512, 0.01164599,\n",
            "       0.0126404 , 0.01483141, 0.01665163, 0.01685386, 0.0179325 ,\n",
            "       0.01708982, 0.0167359 , 0.01835385, 0.01833699, 0.01798307,\n",
            "       0.01835385, 0.01848871, 0.01830329, 0.02152239, 0.02162351,\n",
            "       0.02164035, 0.02110105, 0.02062913, 0.03310096, 0.03273021,\n",
            "       0.03365715, 0.03569647, 0.03778631, 0.03864586, 0.04025394,\n",
            "       0.03974621, 0.04172658, 0.04465496, 0.04548435, 0.04521352,\n",
            "       0.04583983, 0.04749863, 0.04819264, 0.04721086, 0.0474309 ,\n",
            "       0.04788796, 0.04798959, 0.05272908, 0.05132414, 0.05271222])]\n",
            "y_train ---  [0.05271222243459886, 0.05196733786056168]\n",
            "\n",
            "\n"
          ]
        }
      ]
    },
    {
      "cell_type": "code",
      "metadata": {
        "colab": {
          "base_uri": "https://localhost:8080/"
        },
        "id": "hdNgbh1n1eYW",
        "outputId": "f7b53b81-0cf5-4ecb-cd63-2092f5c37b82"
      },
      "source": [
        "from keras.models import Sequential\n",
        "from keras.layers import Dense, LSTM\n",
        "\n",
        "# Build the LSTM model\n",
        "model = Sequential()\n",
        "model.add(LSTM(128, return_sequences=True, input_shape= (x_train.shape[1], 1)))\n",
        "model.add(LSTM(64, return_sequences=False))\n",
        "model.add(Dense(25))\n",
        "model.add(Dense(1))\n",
        "\n",
        "# Compile the model\n",
        "model.compile(optimizer='adam', loss='mean_squared_error')\n",
        "\n",
        "# Train the model\n",
        "model.fit(x_train, y_train, batch_size=1, epochs=1)"
      ],
      "execution_count": 44,
      "outputs": [
        {
          "output_type": "stream",
          "name": "stdout",
          "text": [
            "1074/1074 [==============================] - 39s 34ms/step - loss: 0.0022\n"
          ]
        },
        {
          "output_type": "execute_result",
          "data": {
            "text/plain": [
              "<keras.callbacks.History at 0x7fe37c0e2810>"
            ]
          },
          "metadata": {},
          "execution_count": 44
        }
      ]
    },
    {
      "cell_type": "code",
      "metadata": {
        "colab": {
          "base_uri": "https://localhost:8080/"
        },
        "id": "Qjqjt-JW1gtR",
        "outputId": "f09675ff-0964-43d6-f3f5-e7739659283d"
      },
      "source": [
        "# Create the testing data set\n",
        "# Create a new array containing scaled values from index 1543 to 2002 \n",
        "test_data = scaled_data[training_data_len - 60: , :]\n",
        "# Create the data sets x_test and y_test\n",
        "x_test = []\n",
        "y_test = Close_dataset[training_data_len:, :]\n",
        "for i in range(60, len(test_data)):\n",
        "    x_test.append(test_data[i-60:i, 0])\n",
        "    \n",
        "# Convert the data to a numpy array\n",
        "x_test = np.array(x_test)\n",
        "\n",
        "# Reshape the data\n",
        "x_test = np.reshape(x_test, (x_test.shape[0], x_test.shape[1], 1 ))\n",
        "\n",
        "# Get the models predicted price values \n",
        "predictions = model.predict(x_test)\n",
        "predictions = scaler.inverse_transform(predictions)\n",
        "# Get the root mean squared error (RMSE)\n",
        "rmse = np.sqrt(np.mean(((predictions - y_test) ** 2)))\n",
        "rmse"
      ],
      "execution_count": 45,
      "outputs": [
        {
          "output_type": "execute_result",
          "data": {
            "text/plain": [
              "10.949119534500802"
            ]
          },
          "metadata": {},
          "execution_count": 45
        }
      ]
    },
    {
      "cell_type": "code",
      "metadata": {
        "colab": {
          "base_uri": "https://localhost:8080/",
          "height": 514
        },
        "id": "NG6AYwzD1jte",
        "outputId": "d74e9a57-2249-407f-ced7-3574791984bb"
      },
      "source": [
        "# Plot the data\n",
        "train = Close_DF[:training_data_len]\n",
        "valid = Close_DF[training_data_len:]\n",
        "valid['Predictions'] = predictions\n",
        "# Visualize the data\n",
        "plt.figure(figsize=(16,6))\n",
        "plt.title('Model')\n",
        "plt.xlabel('Date', fontsize=18)\n",
        "plt.ylabel('Close Price USD ($)', fontsize=18)\n",
        "plt.plot(train['Close'])\n",
        "plt.plot(valid[['Close', 'Predictions']])\n",
        "plt.legend(['Train', 'Val', 'Predictions'], loc='lower right')\n",
        "plt.show()"
      ],
      "execution_count": 46,
      "outputs": [
        {
          "output_type": "stream",
          "name": "stderr",
          "text": [
            "/usr/local/lib/python3.7/dist-packages/ipykernel_launcher.py:4: SettingWithCopyWarning: \n",
            "A value is trying to be set on a copy of a slice from a DataFrame.\n",
            "Try using .loc[row_indexer,col_indexer] = value instead\n",
            "\n",
            "See the caveats in the documentation: https://pandas.pydata.org/pandas-docs/stable/user_guide/indexing.html#returning-a-view-versus-a-copy\n",
            "  after removing the cwd from sys.path.\n"
          ]
        },
        {
          "output_type": "display_data",
          "data": {
            "image/png": "[encoded data removed]",
            "text/plain": [
              "<Figure size 1152x432 with 1 Axes>"
            ]
          },
          "metadata": {
            "needs_background": "light"
          }
        }
      ]
    },
    {
      "cell_type": "code",
      "metadata": {
        "colab": {
          "base_uri": "https://localhost:8080/",
          "height": 455
        },
        "id": "mmxfXZmf1ljl",
        "outputId": "2f1f1169-1efa-41c2-f48e-47f1389ca955"
      },
      "source": [
        "valid"
      ],
      "execution_count": 47,
      "outputs": [
        {
          "output_type": "execute_result",
          "data": {
            "text/html": [
              "<div>\n",
              "<style scoped>\n",
              "    .dataframe tbody tr th:only-of-type {\n",
              "        vertical-align: middle;\n",
              "    }\n",
              "\n",
              "    .dataframe tbody tr th {\n",
              "        vertical-align: top;\n",
              "    }\n",
              "\n",
              "    .dataframe thead th {\n",
              "        text-align: right;\n",
              "    }\n",
              "</style>\n",
              "<table border=\"1\" class=\"dataframe\">\n",
              "  <thead>\n",
              "    <tr style=\"text-align: right;\">\n",
              "      <th></th>\n",
              "      <th>Close</th>\n",
              "      <th>Predictions</th>\n",
              "    </tr>\n",
              "    <tr>\n",
              "      <th>Date</th>\n",
              "      <th></th>\n",
              "      <th></th>\n",
              "    </tr>\n",
              "  </thead>\n",
              "  <tbody>\n",
              "    <tr>\n",
              "      <th>2021-06-09</th>\n",
              "      <td>126.754814</td>\n",
              "      <td>135.508682</td>\n",
              "    </tr>\n",
              "    <tr>\n",
              "      <th>2021-06-10</th>\n",
              "      <td>125.737831</td>\n",
              "      <td>135.833267</td>\n",
              "    </tr>\n",
              "    <tr>\n",
              "      <th>2021-06-11</th>\n",
              "      <td>126.974167</td>\n",
              "      <td>136.069672</td>\n",
              "    </tr>\n",
              "    <tr>\n",
              "      <th>2021-06-14</th>\n",
              "      <td>130.094925</td>\n",
              "      <td>136.381027</td>\n",
              "    </tr>\n",
              "    <tr>\n",
              "      <th>2021-06-15</th>\n",
              "      <td>129.257401</td>\n",
              "      <td>137.061295</td>\n",
              "    </tr>\n",
              "    <tr>\n",
              "      <th>...</th>\n",
              "      <td>...</td>\n",
              "      <td>...</td>\n",
              "    </tr>\n",
              "    <tr>\n",
              "      <th>2021-11-29</th>\n",
              "      <td>160.240005</td>\n",
              "      <td>171.026398</td>\n",
              "    </tr>\n",
              "    <tr>\n",
              "      <th>2021-11-30</th>\n",
              "      <td>165.300003</td>\n",
              "      <td>171.587967</td>\n",
              "    </tr>\n",
              "    <tr>\n",
              "      <th>2021-12-01</th>\n",
              "      <td>164.770004</td>\n",
              "      <td>172.587753</td>\n",
              "    </tr>\n",
              "    <tr>\n",
              "      <th>2021-12-02</th>\n",
              "      <td>163.759995</td>\n",
              "      <td>173.620804</td>\n",
              "    </tr>\n",
              "    <tr>\n",
              "      <th>2021-12-03</th>\n",
              "      <td>161.839996</td>\n",
              "      <td>174.449432</td>\n",
              "    </tr>\n",
              "  </tbody>\n",
              "</table>\n",
              "<p>125 rows × 2 columns</p>\n",
              "</div>"
            ],
            "text/plain": [
              "                 Close  Predictions\n",
              "Date                               \n",
              "2021-06-09  126.754814   135.508682\n",
              "2021-06-10  125.737831   135.833267\n",
              "2021-06-11  126.974167   136.069672\n",
              "2021-06-14  130.094925   136.381027\n",
              "2021-06-15  129.257401   137.061295\n",
              "...                ...          ...\n",
              "2021-11-29  160.240005   171.026398\n",
              "2021-11-30  165.300003   171.587967\n",
              "2021-12-01  164.770004   172.587753\n",
              "2021-12-02  163.759995   173.620804\n",
              "2021-12-03  161.839996   174.449432\n",
              "\n",
              "[125 rows x 2 columns]"
            ]
          },
          "metadata": {},
          "execution_count": 47
        }
      ]
    }
  ]
}