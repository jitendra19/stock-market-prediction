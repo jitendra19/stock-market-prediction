{
  "nbformat": 4,
  "nbformat_minor": 0,
  "metadata": {
    "colab": {
      "name": "Stock market prediction using LSTM.ipynb",
      "provenance": [],
      "collapsed_sections": [],
      "authorship_tag": "ABX9TyOpmRs03uLGnpV9RUoFhIv5",
      "include_colab_link": true
    },
    "kernelspec": {
      "name": "python3",
      "display_name": "Python 3"
    },
    "language_info": {
      "name": "python"
    }
  },
  "cells": [
    {
      "cell_type": "markdown",
      "metadata": {
        "id": "view-in-github",
        "colab_type": "text"
      },
      "source": [
        "<a href=\"https://colab.research.google.com/github/jitendra19/stock-market-prediction/blob/main/Stock_market_prediction_using_LSTM.ipynb\" target=\"_parent\"><img src=\"https://colab.research.google.com/assets/colab-badge.svg\" alt=\"Open In Colab\"/></a>"
      ]
    },
    {
      "cell_type": "code",
      "metadata": {
        "id": "fbeGl7zV0teE"
      },
      "source": [
        "!pip install yfinance"
      ],
      "execution_count": null,
      "outputs": []
    },
    {
      "cell_type": "code",
      "metadata": {
        "id": "qT2Gu_3a0vNv"
      },
      "source": [
        "import pandas as pd\n",
        "import numpy as np\n",
        "\n",
        "import matplotlib.pyplot as plt\n",
        "\n",
        "import seaborn as sns\n",
        "\n",
        "sns.set_style('whitegrid')\n",
        "\n",
        "plt.style.use(\"fivethirtyeight\")\n",
        "%matplotlib inline\n",
        "\n",
        "# For reading stock data from yahoo\n",
        "# from pandas_datareader.data import DataReader\n",
        "import yfinance as yf\n",
        "\n",
        "# For time stamps\n",
        "from datetime import datetime"
      ],
      "execution_count": 4,
      "outputs": []
    },
    {
      "cell_type": "code",
      "metadata": {
        "id": "ePTZ45UF0zb9",
        "colab": {
          "base_uri": "https://localhost:8080/",
          "height": 455
        },
        "outputId": "013d6766-e64b-49bf-f55a-12983c65af78"
      },
      "source": [
        "stockName = 'AAPL'\n",
        "periodOfData = \"max\"\n",
        "\n",
        "# df = DataReader('AAPL', data_source='yahoo', start='2012-01-01', end=datetime.now())\n",
        "ticker = yf.Ticker(stockName)\n",
        "df = ticker.history(period=periodOfData, auto_adjust=True)\n",
        "\n",
        "# Show the data\n",
        "df"
      ],
      "execution_count": 5,
      "outputs": [
        {
          "output_type": "execute_result",
          "data": {
            "text/html": [
              "\n",
              "  <div id=\"df-6df46043-33fd-4827-99b9-1096198abdcd\">\n",
              "    <div class=\"colab-df-container\">\n",
              "      <div>\n",
              "<style scoped>\n",
              "    .dataframe tbody tr th:only-of-type {\n",
              "        vertical-align: middle;\n",
              "    }\n",
              "\n",
              "    .dataframe tbody tr th {\n",
              "        vertical-align: top;\n",
              "    }\n",
              "\n",
              "    .dataframe thead th {\n",
              "        text-align: right;\n",
              "    }\n",
              "</style>\n",
              "<table border=\"1\" class=\"dataframe\">\n",
              "  <thead>\n",
              "    <tr style=\"text-align: right;\">\n",
              "      <th></th>\n",
              "      <th>Open</th>\n",
              "      <th>High</th>\n",
              "      <th>Low</th>\n",
              "      <th>Close</th>\n",
              "      <th>Volume</th>\n",
              "      <th>Dividends</th>\n",
              "      <th>Stock Splits</th>\n",
              "    </tr>\n",
              "    <tr>\n",
              "      <th>Date</th>\n",
              "      <th></th>\n",
              "      <th></th>\n",
              "      <th></th>\n",
              "      <th></th>\n",
              "      <th></th>\n",
              "      <th></th>\n",
              "      <th></th>\n",
              "    </tr>\n",
              "  </thead>\n",
              "  <tbody>\n",
              "    <tr>\n",
              "      <th>1980-12-12</th>\n",
              "      <td>0.100453</td>\n",
              "      <td>0.100890</td>\n",
              "      <td>0.100453</td>\n",
              "      <td>0.100453</td>\n",
              "      <td>469033600</td>\n",
              "      <td>0.0</td>\n",
              "      <td>0.0</td>\n",
              "    </tr>\n",
              "    <tr>\n",
              "      <th>1980-12-15</th>\n",
              "      <td>0.095649</td>\n",
              "      <td>0.095649</td>\n",
              "      <td>0.095213</td>\n",
              "      <td>0.095213</td>\n",
              "      <td>175884800</td>\n",
              "      <td>0.0</td>\n",
              "      <td>0.0</td>\n",
              "    </tr>\n",
              "    <tr>\n",
              "      <th>1980-12-16</th>\n",
              "      <td>0.088661</td>\n",
              "      <td>0.088661</td>\n",
              "      <td>0.088224</td>\n",
              "      <td>0.088224</td>\n",
              "      <td>105728000</td>\n",
              "      <td>0.0</td>\n",
              "      <td>0.0</td>\n",
              "    </tr>\n",
              "    <tr>\n",
              "      <th>1980-12-17</th>\n",
              "      <td>0.090408</td>\n",
              "      <td>0.090845</td>\n",
              "      <td>0.090408</td>\n",
              "      <td>0.090408</td>\n",
              "      <td>86441600</td>\n",
              "      <td>0.0</td>\n",
              "      <td>0.0</td>\n",
              "    </tr>\n",
              "    <tr>\n",
              "      <th>1980-12-18</th>\n",
              "      <td>0.093029</td>\n",
              "      <td>0.093466</td>\n",
              "      <td>0.093029</td>\n",
              "      <td>0.093029</td>\n",
              "      <td>73449600</td>\n",
              "      <td>0.0</td>\n",
              "      <td>0.0</td>\n",
              "    </tr>\n",
              "    <tr>\n",
              "      <th>...</th>\n",
              "      <td>...</td>\n",
              "      <td>...</td>\n",
              "      <td>...</td>\n",
              "      <td>...</td>\n",
              "      <td>...</td>\n",
              "      <td>...</td>\n",
              "      <td>...</td>\n",
              "    </tr>\n",
              "    <tr>\n",
              "      <th>2022-01-14</th>\n",
              "      <td>171.339996</td>\n",
              "      <td>173.779999</td>\n",
              "      <td>171.089996</td>\n",
              "      <td>173.070007</td>\n",
              "      <td>80355000</td>\n",
              "      <td>0.0</td>\n",
              "      <td>0.0</td>\n",
              "    </tr>\n",
              "    <tr>\n",
              "      <th>2022-01-18</th>\n",
              "      <td>171.509995</td>\n",
              "      <td>172.539993</td>\n",
              "      <td>169.410004</td>\n",
              "      <td>169.800003</td>\n",
              "      <td>90956700</td>\n",
              "      <td>0.0</td>\n",
              "      <td>0.0</td>\n",
              "    </tr>\n",
              "    <tr>\n",
              "      <th>2022-01-19</th>\n",
              "      <td>170.000000</td>\n",
              "      <td>171.080002</td>\n",
              "      <td>165.940002</td>\n",
              "      <td>166.229996</td>\n",
              "      <td>94815000</td>\n",
              "      <td>0.0</td>\n",
              "      <td>0.0</td>\n",
              "    </tr>\n",
              "    <tr>\n",
              "      <th>2022-01-20</th>\n",
              "      <td>166.979996</td>\n",
              "      <td>169.679993</td>\n",
              "      <td>164.179993</td>\n",
              "      <td>164.509995</td>\n",
              "      <td>91420500</td>\n",
              "      <td>0.0</td>\n",
              "      <td>0.0</td>\n",
              "    </tr>\n",
              "    <tr>\n",
              "      <th>2022-01-21</th>\n",
              "      <td>164.419998</td>\n",
              "      <td>166.330002</td>\n",
              "      <td>162.300003</td>\n",
              "      <td>162.410004</td>\n",
              "      <td>122501300</td>\n",
              "      <td>0.0</td>\n",
              "      <td>0.0</td>\n",
              "    </tr>\n",
              "  </tbody>\n",
              "</table>\n",
              "<p>10366 rows × 7 columns</p>\n",
              "</div>\n",
              "      <button class=\"colab-df-convert\" onclick=\"convertToInteractive('df-6df46043-33fd-4827-99b9-1096198abdcd')\"\n",
              "              title=\"Convert this dataframe to an interactive table.\"\n",
              "              style=\"display:none;\">\n",
              "        \n",
              "  <svg xmlns=\"http://www.w3.org/2000/svg\" height=\"24px\"viewBox=\"0 0 24 24\"\n",
              "       width=\"24px\">\n",
              "    <path d=\"M0 0h24v24H0V0z\" fill=\"none\"/>\n",
              "    <path d=\"M18.56 5.44l.94 2.06.94-2.06 2.06-.94-2.06-.94-.94-2.06-.94 2.06-2.06.94zm-11 1L8.5 8.5l.94-2.06 2.06-.94-2.06-.94L8.5 2.5l-.94 2.06-2.06.94zm10 10l.94 2.06.94-2.06 2.06-.94-2.06-.94-.94-2.06-.94 2.06-2.06.94z\"/><path d=\"M17.41 7.96l-1.37-1.37c-.4-.4-.92-.59-1.43-.59-.52 0-1.04.2-1.43.59L10.3 9.45l-7.72 7.72c-.78.78-.78 2.05 0 2.83L4 21.41c.39.39.9.59 1.41.59.51 0 1.02-.2 1.41-.59l7.78-7.78 2.81-2.81c.8-.78.8-2.07 0-2.86zM5.41 20L4 18.59l7.72-7.72 1.47 1.35L5.41 20z\"/>\n",
              "  </svg>\n",
              "      </button>\n",
              "      \n",
              "  <style>\n",
              "    .colab-df-container {\n",
              "      display:flex;\n",
              "      flex-wrap:wrap;\n",
              "      gap: 12px;\n",
              "    }\n",
              "\n",
              "    .colab-df-convert {\n",
              "      background-color: #E8F0FE;\n",
              "      border: none;\n",
              "      border-radius: 50%;\n",
              "      cursor: pointer;\n",
              "      display: none;\n",
              "      fill: #1967D2;\n",
              "      height: 32px;\n",
              "      padding: 0 0 0 0;\n",
              "      width: 32px;\n",
              "    }\n",
              "\n",
              "    .colab-df-convert:hover {\n",
              "      background-color: #E2EBFA;\n",
              "      box-shadow: 0px 1px 2px rgba(60, 64, 67, 0.3), 0px 1px 3px 1px rgba(60, 64, 67, 0.15);\n",
              "      fill: #174EA6;\n",
              "    }\n",
              "\n",
              "    [theme=dark] .colab-df-convert {\n",
              "      background-color: #3B4455;\n",
              "      fill: #D2E3FC;\n",
              "    }\n",
              "\n",
              "    [theme=dark] .colab-df-convert:hover {\n",
              "      background-color: #434B5C;\n",
              "      box-shadow: 0px 1px 3px 1px rgba(0, 0, 0, 0.15);\n",
              "      filter: drop-shadow(0px 1px 2px rgba(0, 0, 0, 0.3));\n",
              "      fill: #FFFFFF;\n",
              "    }\n",
              "  </style>\n",
              "\n",
              "      <script>\n",
              "        const buttonEl =\n",
              "          document.querySelector('#df-6df46043-33fd-4827-99b9-1096198abdcd button.colab-df-convert');\n",
              "        buttonEl.style.display =\n",
              "          google.colab.kernel.accessAllowed ? 'block' : 'none';\n",
              "\n",
              "        async function convertToInteractive(key) {\n",
              "          const element = document.querySelector('#df-6df46043-33fd-4827-99b9-1096198abdcd');\n",
              "          const dataTable =\n",
              "            await google.colab.kernel.invokeFunction('convertToInteractive',\n",
              "                                                     [key], {});\n",
              "          if (!dataTable) return;\n",
              "\n",
              "          const docLinkHtml = 'Like what you see? Visit the ' +\n",
              "            '<a target=\"_blank\" href=https://colab.research.google.com/notebooks/data_table.ipynb>data table notebook</a>'\n",
              "            + ' to learn more about interactive tables.';\n",
              "          element.innerHTML = '';\n",
              "          dataTable['output_type'] = 'display_data';\n",
              "          await google.colab.output.renderOutput(dataTable, element);\n",
              "          const docLink = document.createElement('div');\n",
              "          docLink.innerHTML = docLinkHtml;\n",
              "          element.appendChild(docLink);\n",
              "        }\n",
              "      </script>\n",
              "    </div>\n",
              "  </div>\n",
              "  "
            ],
            "text/plain": [
              "                  Open        High  ...  Dividends  Stock Splits\n",
              "Date                                ...                         \n",
              "1980-12-12    0.100453    0.100890  ...        0.0           0.0\n",
              "1980-12-15    0.095649    0.095649  ...        0.0           0.0\n",
              "1980-12-16    0.088661    0.088661  ...        0.0           0.0\n",
              "1980-12-17    0.090408    0.090845  ...        0.0           0.0\n",
              "1980-12-18    0.093029    0.093466  ...        0.0           0.0\n",
              "...                ...         ...  ...        ...           ...\n",
              "2022-01-14  171.339996  173.779999  ...        0.0           0.0\n",
              "2022-01-18  171.509995  172.539993  ...        0.0           0.0\n",
              "2022-01-19  170.000000  171.080002  ...        0.0           0.0\n",
              "2022-01-20  166.979996  169.679993  ...        0.0           0.0\n",
              "2022-01-21  164.419998  166.330002  ...        0.0           0.0\n",
              "\n",
              "[10366 rows x 7 columns]"
            ]
          },
          "metadata": {},
          "execution_count": 5
        }
      ]
    },
    {
      "cell_type": "code",
      "metadata": {
        "colab": {
          "base_uri": "https://localhost:8080/",
          "height": 410
        },
        "id": "9X-CUVJb1Ode",
        "outputId": "7886d1a8-36f6-4c44-837f-6683c5b33b1a"
      },
      "source": [
        "plt.figure(figsize=(16,6))\n",
        "plt.title('Closing Price Chart')\n",
        "plt.plot(df['Close'])\n",
        "plt.xlabel('Date', fontsize=18)\n",
        "plt.ylabel('Close Price', fontsize=18)\n",
        "plt.show()"
      ],
      "execution_count": 6,
      "outputs": [
        {
          "output_type": "display_data",
          "data": {
            "image/png": "[encoded data removed]",
            "text/plain": [
              "<Figure size 1152x432 with 1 Axes>"
            ]
          },
          "metadata": {
            "needs_background": "light"
          }
        }
      ]
    },
    {
      "cell_type": "code",
      "metadata": {
        "colab": {
          "base_uri": "https://localhost:8080/"
        },
        "id": "EaYQ8CiX1TO4",
        "outputId": "7fadadeb-b79a-48ce-c436-0044281ca40c"
      },
      "source": [
        "# Create a new dataframe with only the 'Close column \n",
        "Close_DF = df.filter(['Close'])\n",
        "# Convert the dataframe to a numpy array\n",
        "Close_dataset = Close_DF.values\n",
        "print(Close_dataset[0])\n",
        "# Get the number of rows to train the model on\n",
        "training_data_len = int(np.ceil( len(Close_dataset) * .90 ))\n",
        "\n",
        "print(training_data_len)"
      ],
      "execution_count": 7,
      "outputs": [
        {
          "output_type": "stream",
          "name": "stdout",
          "text": [
            "[0.10045345]\n",
            "9330\n"
          ]
        }
      ]
    },
    {
      "cell_type": "code",
      "metadata": {
        "colab": {
          "base_uri": "https://localhost:8080/"
        },
        "id": "MSqT9pzw1V8H",
        "outputId": "955fb11d-9061-4d87-d920-1609cf7aabf2"
      },
      "source": [
        "# Scale the data\n",
        "from sklearn.preprocessing import MinMaxScaler\n",
        "\n",
        "#MinMaxScaler\n",
        "# X_std = (X - X.min(axis=0)) / (X.max(axis=0) - X.min(axis=0))\n",
        "# X_scaled = X_std * (max - min) + min\n",
        "\n",
        "scaler = MinMaxScaler(feature_range=(0,1))\n",
        "\n",
        "\"\"\"\n",
        "Data standardization is the process of rescaling the attributes so that they have mean as 0 and variance as 1.\n",
        "The ultimate goal to perform standardization is to bring down all the features to a common scale without distorting the differences in the range of the values.\n",
        "We all know that we call fit_transform() method on our training data and transform() method on our test data.\n",
        "fit_transform() is used on the training data so that we can scale the training data and also learn the scaling parameters of that data. Here, the model built by us will learn the mean and variance of the features of the training set. \n",
        "we want scaling to be applied to our test data too and at the same time do not want to be biased with our model. \n",
        "transform() method we can use the same mean and variance as it is calculated from our training data to transform our test data.\n",
        "\"\"\"\n",
        "\n",
        "scaled_data = scaler.fit_transform(Close_dataset)\n",
        "\n",
        "print('fit_transform', scaled_data[0:5])"
      ],
      "execution_count": 8,
      "outputs": [
        {
          "output_type": "stream",
          "name": "stdout",
          "text": [
            "fit_transform [[0.00034082]\n",
            " [0.00031202]\n",
            " [0.00027361]\n",
            " [0.00028561]\n",
            " [0.00030002]]\n"
          ]
        }
      ]
    },
    {
      "cell_type": "code",
      "metadata": {
        "colab": {
          "base_uri": "https://localhost:8080/"
        },
        "id": "9Uiq6UDc1bJ9",
        "outputId": "c5b7a789-a9b3-4d7f-ad07-e0cd770d2ac9"
      },
      "source": [
        "# Create the training data set \n",
        "# Create the scaled training data set\n",
        "train_data = scaled_data[0:int(training_data_len), :]\n",
        "\n",
        "# Split the data into x_train and y_train data sets\n",
        "x_train = []\n",
        "y_train = []\n",
        "\n",
        "for i in range(60, len(train_data)):\n",
        "    x_train.append(train_data[i-60:i, 0])\n",
        "    y_train.append(train_data[i, 0])\n",
        "    if i<= 61:\n",
        "        print('x_train --- ', x_train)\n",
        "        print('y_train --- ', y_train)\n",
        "        print()\n",
        "        \n",
        "# Convert the x_train and y_train to numpy arrays \n",
        "x_train, y_train = np.array(x_train), np.array(y_train)\n",
        "\n",
        "print()\n",
        "# Reshape the data\n",
        "x_train = np.reshape(x_train, (x_train.shape[0], x_train.shape[1], 1))\n",
        "# x_train.shape"
      ],
      "execution_count": 9,
      "outputs": [
        {
          "output_type": "stream",
          "name": "stdout",
          "text": [
            "x_train ---  [array([0.00034082, 0.00031202, 0.00027361, 0.00028561, 0.00030002,\n",
            "       0.00033122, 0.00035762, 0.00038162, 0.00041282, 0.00047042,\n",
            "       0.00048002, 0.00046323, 0.00044403, 0.00045123, 0.00043683,\n",
            "       0.00040802, 0.00038162, 0.00036962, 0.00040082, 0.00039602,\n",
            "       0.00037442, 0.00037682, 0.00038882, 0.00038402, 0.00042002,\n",
            "       0.00040082, 0.00041282, 0.00042002, 0.00041762, 0.00040802,\n",
            "       0.00040322, 0.00038402, 0.00036242, 0.00033122, 0.00030002,\n",
            "       0.00031922, 0.00033842, 0.00033842, 0.00034082, 0.00031202,\n",
            "       0.00031202, 0.00029522, 0.00029041, 0.00027841, 0.00029041,\n",
            "       0.00031202, 0.00028081, 0.00025441, 0.00026161, 0.00024481,\n",
            "       0.00027361, 0.00028081, 0.00029762, 0.00030002, 0.00029282,\n",
            "       0.00028801, 0.00028561, 0.00028081, 0.00024241, 0.00022081])]\n",
            "y_train ---  [0.0002040104975037326]\n",
            "\n",
            "x_train ---  [array([0.00034082, 0.00031202, 0.00027361, 0.00028561, 0.00030002,\n",
            "       0.00033122, 0.00035762, 0.00038162, 0.00041282, 0.00047042,\n",
            "       0.00048002, 0.00046323, 0.00044403, 0.00045123, 0.00043683,\n",
            "       0.00040802, 0.00038162, 0.00036962, 0.00040082, 0.00039602,\n",
            "       0.00037442, 0.00037682, 0.00038882, 0.00038402, 0.00042002,\n",
            "       0.00040082, 0.00041282, 0.00042002, 0.00041762, 0.00040802,\n",
            "       0.00040322, 0.00038402, 0.00036242, 0.00033122, 0.00030002,\n",
            "       0.00031922, 0.00033842, 0.00033842, 0.00034082, 0.00031202,\n",
            "       0.00031202, 0.00029522, 0.00029041, 0.00027841, 0.00029041,\n",
            "       0.00031202, 0.00028081, 0.00025441, 0.00026161, 0.00024481,\n",
            "       0.00027361, 0.00028081, 0.00029762, 0.00030002, 0.00029282,\n",
            "       0.00028801, 0.00028561, 0.00028081, 0.00024241, 0.00022081]), array([0.00031202, 0.00027361, 0.00028561, 0.00030002, 0.00033122,\n",
            "       0.00035762, 0.00038162, 0.00041282, 0.00047042, 0.00048002,\n",
            "       0.00046323, 0.00044403, 0.00045123, 0.00043683, 0.00040802,\n",
            "       0.00038162, 0.00036962, 0.00040082, 0.00039602, 0.00037442,\n",
            "       0.00037682, 0.00038882, 0.00038402, 0.00042002, 0.00040082,\n",
            "       0.00041282, 0.00042002, 0.00041762, 0.00040802, 0.00040322,\n",
            "       0.00038402, 0.00036242, 0.00033122, 0.00030002, 0.00031922,\n",
            "       0.00033842, 0.00033842, 0.00034082, 0.00031202, 0.00031202,\n",
            "       0.00029522, 0.00029041, 0.00027841, 0.00029041, 0.00031202,\n",
            "       0.00028081, 0.00025441, 0.00026161, 0.00024481, 0.00027361,\n",
            "       0.00028081, 0.00029762, 0.00030002, 0.00029282, 0.00028801,\n",
            "       0.00028561, 0.00028081, 0.00024241, 0.00022081, 0.00020401])]\n",
            "y_train ---  [0.0002040104975037326, 0.0002208103747802887]\n",
            "\n",
            "\n"
          ]
        }
      ]
    },
    {
      "cell_type": "code",
      "metadata": {
        "colab": {
          "base_uri": "https://localhost:8080/"
        },
        "id": "hdNgbh1n1eYW",
        "outputId": "5c4294b1-1933-4463-d607-be90fb918e3a"
      },
      "source": [
        "from keras.models import Sequential\n",
        "from keras.layers import Dense, LSTM\n",
        "\n",
        "# Build the LSTM model\n",
        "model = Sequential()\n",
        "model.add(LSTM(128, return_sequences=True, input_shape= (x_train.shape[1], 1)))\n",
        "model.add(LSTM(64, return_sequences=False))\n",
        "model.add(Dense(25))\n",
        "model.add(Dense(1))\n",
        "\n",
        "# Compile the model\n",
        "model.compile(optimizer='adam', loss='mean_squared_error')\n",
        "\n",
        "# Train the model\n",
        "model.fit(x_train, y_train, batch_size=1, epochs=1)"
      ],
      "execution_count": 10,
      "outputs": [
        {
          "output_type": "stream",
          "name": "stdout",
          "text": [
            "9270/9270 [==============================] - 270s 29ms/step - loss: 5.7728e-05\n"
          ]
        },
        {
          "output_type": "execute_result",
          "data": {
            "text/plain": [
              "<keras.callbacks.History at 0x7f58f16a90d0>"
            ]
          },
          "metadata": {},
          "execution_count": 10
        }
      ]
    },
    {
      "cell_type": "code",
      "metadata": {
        "id": "Qjqjt-JW1gtR"
      },
      "source": [
        "# Create the testing data set\n",
        "# Create a new array containing scaled values from index 1543 to 2002 \n",
        "test_data = scaled_data[training_data_len - 60: , :]\n",
        "# Create the data sets x_test and y_test\n",
        "x_test = []\n",
        "y_test = Close_dataset[training_data_len:, :]\n",
        "for i in range(60, len(test_data)):\n",
        "    x_test.append(test_data[i-60:i, 0])\n",
        "    \n",
        "# Convert the data to a numpy array\n",
        "x_test = np.array(x_test)\n",
        "\n",
        "# Reshape the data\n",
        "x_test = np.reshape(x_test, (x_test.shape[0], x_test.shape[1], 1 ))\n",
        "\n",
        "# Get the models predicted price values \n",
        "predictions = model.predict(x_test)\n",
        "predictions = scaler.inverse_transform(predictions)\n"
      ],
      "execution_count": 15,
      "outputs": []
    },
    {
      "cell_type": "code",
      "source": [
        "# Plot the data\n",
        "train = Close_DF[:training_data_len]\n",
        "valid = Close_DF[training_data_len:]\n",
        "valid['Predictions'] = predictions\n",
        "# Visualize the data\n",
        "plt.figure(figsize=(16,6))\n",
        "plt.title('Model')\n",
        "plt.xlabel('Date', fontsize=18)\n",
        "plt.ylabel('Close Price USD ($)', fontsize=18)\n",
        "# plt.plot(train['Close'])\n",
        "plt.plot(valid[['Close', 'Predictions']])\n",
        "plt.legend(['Train', 'Val', 'Predictions'], loc='lower right')\n",
        "plt.show()"
      ],
      "metadata": {
        "colab": {
          "base_uri": "https://localhost:8080/",
          "height": 514
        },
        "id": "kCwIGblwFJ70",
        "outputId": "a3c5ab19-c69f-491f-e082-43d67213943f"
      },
      "execution_count": 13,
      "outputs": [
        {
          "output_type": "stream",
          "name": "stderr",
          "text": [
            "/usr/local/lib/python3.7/dist-packages/ipykernel_launcher.py:4: SettingWithCopyWarning: \n",
            "A value is trying to be set on a copy of a slice from a DataFrame.\n",
            "Try using .loc[row_indexer,col_indexer] = value instead\n",
            "\n",
            "See the caveats in the documentation: https://pandas.pydata.org/pandas-docs/stable/user_guide/indexing.html#returning-a-view-versus-a-copy\n",
            "  after removing the cwd from sys.path.\n"
          ]
        },
        {
          "output_type": "display_data",
          "data": {
            "image/png": "[encoded data removed]",
            "text/plain": [
              "<Figure size 1152x432 with 1 Axes>"
            ]
          },
          "metadata": {
            "needs_background": "light"
          }
        }
      ]
    },
    {
      "cell_type": "code",
      "metadata": {
        "colab": {
          "base_uri": "https://localhost:8080/",
          "height": 514
        },
        "id": "NG6AYwzD1jte",
        "outputId": "6f86bcf2-5eaa-4fac-a888-1c9958622b79"
      },
      "source": [
        "# Plot the data\n",
        "train = Close_DF[:training_data_len]\n",
        "valid = Close_DF[training_data_len:]\n",
        "valid['Predictions'] = predictions\n",
        "# Visualize the data\n",
        "plt.figure(figsize=(16,6))\n",
        "plt.title('Model')\n",
        "plt.xlabel('Date', fontsize=18)\n",
        "plt.ylabel('Close Price USD ($)', fontsize=18)\n",
        "plt.plot(train['Close'])\n",
        "plt.plot(valid[['Close', 'Predictions']])\n",
        "plt.legend(['Train', 'Val', 'Predictions'], loc='lower right')\n",
        "plt.show()"
      ],
      "execution_count": 12,
      "outputs": [
        {
          "output_type": "stream",
          "name": "stderr",
          "text": [
            "/usr/local/lib/python3.7/dist-packages/ipykernel_launcher.py:4: SettingWithCopyWarning: \n",
            "A value is trying to be set on a copy of a slice from a DataFrame.\n",
            "Try using .loc[row_indexer,col_indexer] = value instead\n",
            "\n",
            "See the caveats in the documentation: https://pandas.pydata.org/pandas-docs/stable/user_guide/indexing.html#returning-a-view-versus-a-copy\n",
            "  after removing the cwd from sys.path.\n"
          ]
        },
        {
          "output_type": "display_data",
          "data": {
            "image/png": "[encoded data removed]",
            "text/plain": [
              "<Figure size 1152x432 with 1 Axes>"
            ]
          },
          "metadata": {
            "needs_background": "light"
          }
        }
      ]
    },
    {
      "cell_type": "code",
      "metadata": {
        "colab": {
          "base_uri": "https://localhost:8080/",
          "height": 455
        },
        "id": "mmxfXZmf1ljl",
        "outputId": "92107ee3-e68e-45bd-ac88-1818acb29216"
      },
      "source": [
        "valid"
      ],
      "execution_count": 14,
      "outputs": [
        {
          "output_type": "execute_result",
          "data": {
            "text/html": [
              "\n",
              "  <div id=\"df-7e743bed-20bb-4b9b-a0d2-9cd9424e04c9\">\n",
              "    <div class=\"colab-df-container\">\n",
              "      <div>\n",
              "<style scoped>\n",
              "    .dataframe tbody tr th:only-of-type {\n",
              "        vertical-align: middle;\n",
              "    }\n",
              "\n",
              "    .dataframe tbody tr th {\n",
              "        vertical-align: top;\n",
              "    }\n",
              "\n",
              "    .dataframe thead th {\n",
              "        text-align: right;\n",
              "    }\n",
              "</style>\n",
              "<table border=\"1\" class=\"dataframe\">\n",
              "  <thead>\n",
              "    <tr style=\"text-align: right;\">\n",
              "      <th></th>\n",
              "      <th>Close</th>\n",
              "      <th>Predictions</th>\n",
              "    </tr>\n",
              "    <tr>\n",
              "      <th>Date</th>\n",
              "      <th></th>\n",
              "      <th></th>\n",
              "    </tr>\n",
              "  </thead>\n",
              "  <tbody>\n",
              "    <tr>\n",
              "      <th>2017-12-11</th>\n",
              "      <td>41.286201</td>\n",
              "      <td>40.156357</td>\n",
              "    </tr>\n",
              "    <tr>\n",
              "      <th>2017-12-12</th>\n",
              "      <td>41.054272</td>\n",
              "      <td>40.406754</td>\n",
              "    </tr>\n",
              "    <tr>\n",
              "      <th>2017-12-13</th>\n",
              "      <td>41.190559</td>\n",
              "      <td>40.532726</td>\n",
              "    </tr>\n",
              "    <tr>\n",
              "      <th>2017-12-14</th>\n",
              "      <td>41.178596</td>\n",
              "      <td>40.634941</td>\n",
              "    </tr>\n",
              "    <tr>\n",
              "      <th>2017-12-15</th>\n",
              "      <td>41.597031</td>\n",
              "      <td>40.690571</td>\n",
              "    </tr>\n",
              "    <tr>\n",
              "      <th>...</th>\n",
              "      <td>...</td>\n",
              "      <td>...</td>\n",
              "    </tr>\n",
              "    <tr>\n",
              "      <th>2022-01-14</th>\n",
              "      <td>173.070007</td>\n",
              "      <td>154.568329</td>\n",
              "    </tr>\n",
              "    <tr>\n",
              "      <th>2022-01-18</th>\n",
              "      <td>169.800003</td>\n",
              "      <td>154.325302</td>\n",
              "    </tr>\n",
              "    <tr>\n",
              "      <th>2022-01-19</th>\n",
              "      <td>166.229996</td>\n",
              "      <td>153.343445</td>\n",
              "    </tr>\n",
              "    <tr>\n",
              "      <th>2022-01-20</th>\n",
              "      <td>164.509995</td>\n",
              "      <td>151.692795</td>\n",
              "    </tr>\n",
              "    <tr>\n",
              "      <th>2022-01-21</th>\n",
              "      <td>162.410004</td>\n",
              "      <td>150.102295</td>\n",
              "    </tr>\n",
              "  </tbody>\n",
              "</table>\n",
              "<p>1036 rows × 2 columns</p>\n",
              "</div>\n",
              "      <button class=\"colab-df-convert\" onclick=\"convertToInteractive('df-7e743bed-20bb-4b9b-a0d2-9cd9424e04c9')\"\n",
              "              title=\"Convert this dataframe to an interactive table.\"\n",
              "              style=\"display:none;\">\n",
              "        \n",
              "  <svg xmlns=\"http://www.w3.org/2000/svg\" height=\"24px\"viewBox=\"0 0 24 24\"\n",
              "       width=\"24px\">\n",
              "    <path d=\"M0 0h24v24H0V0z\" fill=\"none\"/>\n",
              "    <path d=\"M18.56 5.44l.94 2.06.94-2.06 2.06-.94-2.06-.94-.94-2.06-.94 2.06-2.06.94zm-11 1L8.5 8.5l.94-2.06 2.06-.94-2.06-.94L8.5 2.5l-.94 2.06-2.06.94zm10 10l.94 2.06.94-2.06 2.06-.94-2.06-.94-.94-2.06-.94 2.06-2.06.94z\"/><path d=\"M17.41 7.96l-1.37-1.37c-.4-.4-.92-.59-1.43-.59-.52 0-1.04.2-1.43.59L10.3 9.45l-7.72 7.72c-.78.78-.78 2.05 0 2.83L4 21.41c.39.39.9.59 1.41.59.51 0 1.02-.2 1.41-.59l7.78-7.78 2.81-2.81c.8-.78.8-2.07 0-2.86zM5.41 20L4 18.59l7.72-7.72 1.47 1.35L5.41 20z\"/>\n",
              "  </svg>\n",
              "      </button>\n",
              "      \n",
              "  <style>\n",
              "    .colab-df-container {\n",
              "      display:flex;\n",
              "      flex-wrap:wrap;\n",
              "      gap: 12px;\n",
              "    }\n",
              "\n",
              "    .colab-df-convert {\n",
              "      background-color: #E8F0FE;\n",
              "      border: none;\n",
              "      border-radius: 50%;\n",
              "      cursor: pointer;\n",
              "      display: none;\n",
              "      fill: #1967D2;\n",
              "      height: 32px;\n",
              "      padding: 0 0 0 0;\n",
              "      width: 32px;\n",
              "    }\n",
              "\n",
              "    .colab-df-convert:hover {\n",
              "      background-color: #E2EBFA;\n",
              "      box-shadow: 0px 1px 2px rgba(60, 64, 67, 0.3), 0px 1px 3px 1px rgba(60, 64, 67, 0.15);\n",
              "      fill: #174EA6;\n",
              "    }\n",
              "\n",
              "    [theme=dark] .colab-df-convert {\n",
              "      background-color: #3B4455;\n",
              "      fill: #D2E3FC;\n",
              "    }\n",
              "\n",
              "    [theme=dark] .colab-df-convert:hover {\n",
              "      background-color: #434B5C;\n",
              "      box-shadow: 0px 1px 3px 1px rgba(0, 0, 0, 0.15);\n",
              "      filter: drop-shadow(0px 1px 2px rgba(0, 0, 0, 0.3));\n",
              "      fill: #FFFFFF;\n",
              "    }\n",
              "  </style>\n",
              "\n",
              "      <script>\n",
              "        const buttonEl =\n",
              "          document.querySelector('#df-7e743bed-20bb-4b9b-a0d2-9cd9424e04c9 button.colab-df-convert');\n",
              "        buttonEl.style.display =\n",
              "          google.colab.kernel.accessAllowed ? 'block' : 'none';\n",
              "\n",
              "        async function convertToInteractive(key) {\n",
              "          const element = document.querySelector('#df-7e743bed-20bb-4b9b-a0d2-9cd9424e04c9');\n",
              "          const dataTable =\n",
              "            await google.colab.kernel.invokeFunction('convertToInteractive',\n",
              "                                                     [key], {});\n",
              "          if (!dataTable) return;\n",
              "\n",
              "          const docLinkHtml = 'Like what you see? Visit the ' +\n",
              "            '<a target=\"_blank\" href=https://colab.research.google.com/notebooks/data_table.ipynb>data table notebook</a>'\n",
              "            + ' to learn more about interactive tables.';\n",
              "          element.innerHTML = '';\n",
              "          dataTable['output_type'] = 'display_data';\n",
              "          await google.colab.output.renderOutput(dataTable, element);\n",
              "          const docLink = document.createElement('div');\n",
              "          docLink.innerHTML = docLinkHtml;\n",
              "          element.appendChild(docLink);\n",
              "        }\n",
              "      </script>\n",
              "    </div>\n",
              "  </div>\n",
              "  "
            ],
            "text/plain": [
              "                 Close  Predictions\n",
              "Date                               \n",
              "2017-12-11   41.286201    40.156357\n",
              "2017-12-12   41.054272    40.406754\n",
              "2017-12-13   41.190559    40.532726\n",
              "2017-12-14   41.178596    40.634941\n",
              "2017-12-15   41.597031    40.690571\n",
              "...                ...          ...\n",
              "2022-01-14  173.070007   154.568329\n",
              "2022-01-18  169.800003   154.325302\n",
              "2022-01-19  166.229996   153.343445\n",
              "2022-01-20  164.509995   151.692795\n",
              "2022-01-21  162.410004   150.102295\n",
              "\n",
              "[1036 rows x 2 columns]"
            ]
          },
          "metadata": {},
          "execution_count": 14
        }
      ]
    },
    {
      "cell_type": "code",
      "source": [
        "from prettytable import PrettyTable\n",
        "myTable = PrettyTable([\"closing price\", \"Prediction\"]) \n",
        "\n",
        "for i in range(15):\n",
        "    # print(forecast[i][0], ' ---> ',svm_prediction[i])\n",
        "    myTable.add_row([y_test[i][0], predictions[i][0]])\n",
        "\n",
        "print(myTable)"
      ],
      "metadata": {
        "colab": {
          "base_uri": "https://localhost:8080/"
        },
        "id": "OeTTBg2tJXsw",
        "outputId": "67acf2d9-e596-4fcb-dc22-eb16a5aed64e"
      },
      "execution_count": 23,
      "outputs": [
        {
          "output_type": "stream",
          "name": "stdout",
          "text": [
            "+--------------------+------------+\n",
            "|   closing price    | Prediction |\n",
            "+--------------------+------------+\n",
            "| 41.28620147705078  | 40.156357  |\n",
            "| 41.05427169799805  | 40.406754  |\n",
            "| 41.19055938720703  | 40.532726  |\n",
            "| 41.17859649658203  |  40.63494  |\n",
            "| 41.59703063964844  |  40.69057  |\n",
            "| 42.182838439941406 | 40.856014  |\n",
            "| 41.73332214355469  |  41.17356  |\n",
            "| 41.687896728515625 | 41.254124  |\n",
            "|  41.8457145690918  |  41.25242  |\n",
            "|  41.8457145690918  |  41.29194  |\n",
            "| 40.784088134765625 | 41.327175  |\n",
            "| 40.79125213623047  |  41.00185  |\n",
            "| 40.90602111816406  | 40.739338  |\n",
            "| 40.463680267333984 |  40.62275  |\n",
            "| 41.18815994262695  |  40.4284   |\n",
            "+--------------------+------------+\n"
          ]
        }
      ]
    },
    {
      "cell_type": "code",
      "source": [
        "from sklearn.metrics import mean_squared_error, mean_absolute_error\n",
        "from math import sqrt\n",
        "\n",
        "mse = mean_squared_error(y_test, predictions)\n",
        "print('MSE: '+str(mse))\n",
        "mae = mean_absolute_error(y_test, predictions)\n",
        "print('MAE: '+str(mae))\n",
        "# evaluate forecasts\n",
        "rmse = sqrt(mean_squared_error(y_test, predictions))\n",
        "print('RMSE: %.3f' % rmse)\n",
        "mape = np.mean(np.abs(predictions - y_test)/np.abs(y_test))\n",
        "print('MAPE: '+str(mape))"
      ],
      "metadata": {
        "colab": {
          "base_uri": "https://localhost:8080/"
        },
        "id": "EnIpR9BKItCf",
        "outputId": "e4c72bd3-8f7c-43b0-84df-7f9d79d8009e"
      },
      "execution_count": 20,
      "outputs": [
        {
          "output_type": "stream",
          "name": "stdout",
          "text": [
            "MSE: 54.16270395886438\n",
            "MAE: 4.9956890349222425\n",
            "RMSE: 7.360\n",
            "MAPE: 0.04602559868825127\n"
          ]
        }
      ]
    }
  ]
}