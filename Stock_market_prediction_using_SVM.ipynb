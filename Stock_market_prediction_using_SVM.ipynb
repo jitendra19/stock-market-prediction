{
  "nbformat": 4,
  "nbformat_minor": 0,
  "metadata": {
    "colab": {
      "name": "Stock market prediction using SVM.ipynb",
      "provenance": [],
      "collapsed_sections": [],
      "authorship_tag": "ABX9TyNia+36SR770zX8w/Snizna",
      "include_colab_link": true
    },
    "kernelspec": {
      "name": "python3",
      "display_name": "Python 3"
    },
    "language_info": {
      "name": "python"
    }
  },
  "cells": [
    {
      "cell_type": "markdown",
      "metadata": {
        "id": "view-in-github",
        "colab_type": "text"
      },
      "source": [
        "<a href=\"https://colab.research.google.com/github/jitendra19/stock-market-prediction/blob/main/Stock_market_prediction_using_SVM.ipynb\" target=\"_parent\"><img src=\"https://colab.research.google.com/assets/colab-badge.svg\" alt=\"Open In Colab\"/></a>"
      ]
    },
    {
      "cell_type": "code",
      "metadata": {
        "id": "Cxu9zU8Dx1fQ",
        "colab": {
          "base_uri": "https://localhost:8080/"
        },
        "outputId": "bba68d61-359a-472e-a3aa-edde018237ce"
      },
      "source": [
        "pip install yfinance"
      ],
      "execution_count": 60,
      "outputs": [
        {
          "output_type": "stream",
          "name": "stdout",
          "text": [
            "Requirement already satisfied: yfinance in /usr/local/lib/python3.7/dist-packages (0.1.69)\n",
            "Requirement already satisfied: numpy>=1.15 in /usr/local/lib/python3.7/dist-packages (from yfinance) (1.19.5)\n",
            "Requirement already satisfied: requests>=2.26 in /usr/local/lib/python3.7/dist-packages (from yfinance) (2.27.1)\n",
            "Requirement already satisfied: lxml>=4.5.1 in /usr/local/lib/python3.7/dist-packages (from yfinance) (4.7.1)\n",
            "Requirement already satisfied: pandas>=0.24 in /usr/local/lib/python3.7/dist-packages (from yfinance) (1.1.5)\n",
            "Requirement already satisfied: multitasking>=0.0.7 in /usr/local/lib/python3.7/dist-packages (from yfinance) (0.0.10)\n",
            "Requirement already satisfied: python-dateutil>=2.7.3 in /usr/local/lib/python3.7/dist-packages (from pandas>=0.24->yfinance) (2.8.2)\n",
            "Requirement already satisfied: pytz>=2017.2 in /usr/local/lib/python3.7/dist-packages (from pandas>=0.24->yfinance) (2018.9)\n",
            "Requirement already satisfied: six>=1.5 in /usr/local/lib/python3.7/dist-packages (from python-dateutil>=2.7.3->pandas>=0.24->yfinance) (1.15.0)\n",
            "Requirement already satisfied: urllib3<1.27,>=1.21.1 in /usr/local/lib/python3.7/dist-packages (from requests>=2.26->yfinance) (1.24.3)\n",
            "Requirement already satisfied: idna<4,>=2.5 in /usr/local/lib/python3.7/dist-packages (from requests>=2.26->yfinance) (2.10)\n",
            "Requirement already satisfied: certifi>=2017.4.17 in /usr/local/lib/python3.7/dist-packages (from requests>=2.26->yfinance) (2021.10.8)\n",
            "Requirement already satisfied: charset-normalizer~=2.0.0 in /usr/local/lib/python3.7/dist-packages (from requests>=2.26->yfinance) (2.0.10)\n"
          ]
        }
      ]
    },
    {
      "cell_type": "code",
      "metadata": {
        "id": "40sVABSiyQxL"
      },
      "source": [
        "# Import Python Libraries\n",
        "import pandas as pd\n",
        "import numpy as np\n",
        "\n",
        "import matplotlib.pyplot as plt\n",
        "\n",
        "import seaborn as sns\n",
        "\n",
        "sns.set_style('whitegrid')\n",
        "\n",
        "plt.style.use(\"fivethirtyeight\")\n",
        "%matplotlib inline\n",
        "\n",
        "# To ignore warnings\n",
        "import warnings\n",
        "warnings.filterwarnings(\"ignore\")\n",
        "\n",
        "# For reading stock data from yahoo\n",
        "# from pandas_datareader.data import DataReader\n",
        "import yfinance as yf\n",
        "\n",
        "# For time stamps\n",
        "from datetime import datetime"
      ],
      "execution_count": 61,
      "outputs": []
    },
    {
      "cell_type": "code",
      "metadata": {
        "id": "H3FgX9BIyTnP",
        "colab": {
          "base_uri": "https://localhost:8080/",
          "height": 238
        },
        "outputId": "b83a695a-3edd-496e-ad0f-81ed94771448"
      },
      "source": [
        "stockName = 'AAPL'\n",
        "periodOfData = \"1mo\"\n",
        "\n",
        "# df = DataReader('AAPL', data_source='yahoo', start='2012-01-01', end=datetime.now())\n",
        "ticker = yf.Ticker(stockName)\n",
        "df = ticker.history(period=periodOfData, auto_adjust=True)\n",
        "\n",
        "# Show the data\n",
        "df.tail()"
      ],
      "execution_count": 62,
      "outputs": [
        {
          "output_type": "execute_result",
          "data": {
            "text/html": [
              "\n",
              "  <div id=\"df-4eeb34b8-7a88-44a8-afbc-0927a367be07\">\n",
              "    <div class=\"colab-df-container\">\n",
              "      <div>\n",
              "<style scoped>\n",
              "    .dataframe tbody tr th:only-of-type {\n",
              "        vertical-align: middle;\n",
              "    }\n",
              "\n",
              "    .dataframe tbody tr th {\n",
              "        vertical-align: top;\n",
              "    }\n",
              "\n",
              "    .dataframe thead th {\n",
              "        text-align: right;\n",
              "    }\n",
              "</style>\n",
              "<table border=\"1\" class=\"dataframe\">\n",
              "  <thead>\n",
              "    <tr style=\"text-align: right;\">\n",
              "      <th></th>\n",
              "      <th>Open</th>\n",
              "      <th>High</th>\n",
              "      <th>Low</th>\n",
              "      <th>Close</th>\n",
              "      <th>Volume</th>\n",
              "      <th>Dividends</th>\n",
              "      <th>Stock Splits</th>\n",
              "    </tr>\n",
              "    <tr>\n",
              "      <th>Date</th>\n",
              "      <th></th>\n",
              "      <th></th>\n",
              "      <th></th>\n",
              "      <th></th>\n",
              "      <th></th>\n",
              "      <th></th>\n",
              "      <th></th>\n",
              "    </tr>\n",
              "  </thead>\n",
              "  <tbody>\n",
              "    <tr>\n",
              "      <th>2022-01-14</th>\n",
              "      <td>171.339996</td>\n",
              "      <td>173.779999</td>\n",
              "      <td>171.089996</td>\n",
              "      <td>173.070007</td>\n",
              "      <td>80355000</td>\n",
              "      <td>0</td>\n",
              "      <td>0</td>\n",
              "    </tr>\n",
              "    <tr>\n",
              "      <th>2022-01-18</th>\n",
              "      <td>171.509995</td>\n",
              "      <td>172.539993</td>\n",
              "      <td>169.410004</td>\n",
              "      <td>169.800003</td>\n",
              "      <td>90956700</td>\n",
              "      <td>0</td>\n",
              "      <td>0</td>\n",
              "    </tr>\n",
              "    <tr>\n",
              "      <th>2022-01-19</th>\n",
              "      <td>170.000000</td>\n",
              "      <td>171.080002</td>\n",
              "      <td>165.940002</td>\n",
              "      <td>166.229996</td>\n",
              "      <td>94815000</td>\n",
              "      <td>0</td>\n",
              "      <td>0</td>\n",
              "    </tr>\n",
              "    <tr>\n",
              "      <th>2022-01-20</th>\n",
              "      <td>166.979996</td>\n",
              "      <td>169.679993</td>\n",
              "      <td>164.179993</td>\n",
              "      <td>164.509995</td>\n",
              "      <td>91420500</td>\n",
              "      <td>0</td>\n",
              "      <td>0</td>\n",
              "    </tr>\n",
              "    <tr>\n",
              "      <th>2022-01-21</th>\n",
              "      <td>164.419998</td>\n",
              "      <td>166.330002</td>\n",
              "      <td>162.300003</td>\n",
              "      <td>162.410004</td>\n",
              "      <td>122501300</td>\n",
              "      <td>0</td>\n",
              "      <td>0</td>\n",
              "    </tr>\n",
              "  </tbody>\n",
              "</table>\n",
              "</div>\n",
              "      <button class=\"colab-df-convert\" onclick=\"convertToInteractive('df-4eeb34b8-7a88-44a8-afbc-0927a367be07')\"\n",
              "              title=\"Convert this dataframe to an interactive table.\"\n",
              "              style=\"display:none;\">\n",
              "        \n",
              "  <svg xmlns=\"http://www.w3.org/2000/svg\" height=\"24px\"viewBox=\"0 0 24 24\"\n",
              "       width=\"24px\">\n",
              "    <path d=\"M0 0h24v24H0V0z\" fill=\"none\"/>\n",
              "    <path d=\"M18.56 5.44l.94 2.06.94-2.06 2.06-.94-2.06-.94-.94-2.06-.94 2.06-2.06.94zm-11 1L8.5 8.5l.94-2.06 2.06-.94-2.06-.94L8.5 2.5l-.94 2.06-2.06.94zm10 10l.94 2.06.94-2.06 2.06-.94-2.06-.94-.94-2.06-.94 2.06-2.06.94z\"/><path d=\"M17.41 7.96l-1.37-1.37c-.4-.4-.92-.59-1.43-.59-.52 0-1.04.2-1.43.59L10.3 9.45l-7.72 7.72c-.78.78-.78 2.05 0 2.83L4 21.41c.39.39.9.59 1.41.59.51 0 1.02-.2 1.41-.59l7.78-7.78 2.81-2.81c.8-.78.8-2.07 0-2.86zM5.41 20L4 18.59l7.72-7.72 1.47 1.35L5.41 20z\"/>\n",
              "  </svg>\n",
              "      </button>\n",
              "      \n",
              "  <style>\n",
              "    .colab-df-container {\n",
              "      display:flex;\n",
              "      flex-wrap:wrap;\n",
              "      gap: 12px;\n",
              "    }\n",
              "\n",
              "    .colab-df-convert {\n",
              "      background-color: #E8F0FE;\n",
              "      border: none;\n",
              "      border-radius: 50%;\n",
              "      cursor: pointer;\n",
              "      display: none;\n",
              "      fill: #1967D2;\n",
              "      height: 32px;\n",
              "      padding: 0 0 0 0;\n",
              "      width: 32px;\n",
              "    }\n",
              "\n",
              "    .colab-df-convert:hover {\n",
              "      background-color: #E2EBFA;\n",
              "      box-shadow: 0px 1px 2px rgba(60, 64, 67, 0.3), 0px 1px 3px 1px rgba(60, 64, 67, 0.15);\n",
              "      fill: #174EA6;\n",
              "    }\n",
              "\n",
              "    [theme=dark] .colab-df-convert {\n",
              "      background-color: #3B4455;\n",
              "      fill: #D2E3FC;\n",
              "    }\n",
              "\n",
              "    [theme=dark] .colab-df-convert:hover {\n",
              "      background-color: #434B5C;\n",
              "      box-shadow: 0px 1px 3px 1px rgba(0, 0, 0, 0.15);\n",
              "      filter: drop-shadow(0px 1px 2px rgba(0, 0, 0, 0.3));\n",
              "      fill: #FFFFFF;\n",
              "    }\n",
              "  </style>\n",
              "\n",
              "      <script>\n",
              "        const buttonEl =\n",
              "          document.querySelector('#df-4eeb34b8-7a88-44a8-afbc-0927a367be07 button.colab-df-convert');\n",
              "        buttonEl.style.display =\n",
              "          google.colab.kernel.accessAllowed ? 'block' : 'none';\n",
              "\n",
              "        async function convertToInteractive(key) {\n",
              "          const element = document.querySelector('#df-4eeb34b8-7a88-44a8-afbc-0927a367be07');\n",
              "          const dataTable =\n",
              "            await google.colab.kernel.invokeFunction('convertToInteractive',\n",
              "                                                     [key], {});\n",
              "          if (!dataTable) return;\n",
              "\n",
              "          const docLinkHtml = 'Like what you see? Visit the ' +\n",
              "            '<a target=\"_blank\" href=https://colab.research.google.com/notebooks/data_table.ipynb>data table notebook</a>'\n",
              "            + ' to learn more about interactive tables.';\n",
              "          element.innerHTML = '';\n",
              "          dataTable['output_type'] = 'display_data';\n",
              "          await google.colab.output.renderOutput(dataTable, element);\n",
              "          const docLink = document.createElement('div');\n",
              "          docLink.innerHTML = docLinkHtml;\n",
              "          element.appendChild(docLink);\n",
              "        }\n",
              "      </script>\n",
              "    </div>\n",
              "  </div>\n",
              "  "
            ],
            "text/plain": [
              "                  Open        High  ...  Dividends  Stock Splits\n",
              "Date                                ...                         \n",
              "2022-01-14  171.339996  173.779999  ...          0             0\n",
              "2022-01-18  171.509995  172.539993  ...          0             0\n",
              "2022-01-19  170.000000  171.080002  ...          0             0\n",
              "2022-01-20  166.979996  169.679993  ...          0             0\n",
              "2022-01-21  164.419998  166.330002  ...          0             0\n",
              "\n",
              "[5 rows x 7 columns]"
            ]
          },
          "metadata": {},
          "execution_count": 62
        }
      ]
    },
    {
      "cell_type": "code",
      "source": [
        "withDateColumn = df.reset_index();\n",
        "withDateColumn.info()"
      ],
      "metadata": {
        "colab": {
          "base_uri": "https://localhost:8080/"
        },
        "id": "8DcPa19qyYKN",
        "outputId": "5615a41b-105a-4a80-a37c-99308cc6b809"
      },
      "execution_count": 63,
      "outputs": [
        {
          "output_type": "stream",
          "name": "stdout",
          "text": [
            "<class 'pandas.core.frame.DataFrame'>\n",
            "RangeIndex: 21 entries, 0 to 20\n",
            "Data columns (total 8 columns):\n",
            " #   Column        Non-Null Count  Dtype         \n",
            "---  ------        --------------  -----         \n",
            " 0   Date          21 non-null     datetime64[ns]\n",
            " 1   Open          21 non-null     float64       \n",
            " 2   High          21 non-null     float64       \n",
            " 3   Low           21 non-null     float64       \n",
            " 4   Close         21 non-null     float64       \n",
            " 5   Volume        21 non-null     int64         \n",
            " 6   Dividends     21 non-null     int64         \n",
            " 7   Stock Splits  21 non-null     int64         \n",
            "dtypes: datetime64[ns](1), float64(4), int64(3)\n",
            "memory usage: 1.4 KB\n"
          ]
        }
      ]
    },
    {
      "cell_type": "code",
      "metadata": {
        "id": "6GI_fSgoygJL",
        "colab": {
          "base_uri": "https://localhost:8080/",
          "height": 238
        },
        "outputId": "70995df5-f430-4eae-c181-aa3c630aae05"
      },
      "source": [
        "df['Open-Close'] = df.Open - df.Close\n",
        "df['High-Low'] = df.High - df.Low\n",
        "  \n",
        "# Store all predictor variables in a variable X\n",
        "X = df[['Open-Close', 'High-Low']]\n",
        "X.head()\n",
        "\n",
        "close_df = df[['Close']]\n",
        "close_df[['Close']].tail()"
      ],
      "execution_count": 64,
      "outputs": [
        {
          "output_type": "execute_result",
          "data": {
            "text/html": [
              "\n",
              "  <div id=\"df-17af6824-06be-4f89-8843-b6ec4c9e6824\">\n",
              "    <div class=\"colab-df-container\">\n",
              "      <div>\n",
              "<style scoped>\n",
              "    .dataframe tbody tr th:only-of-type {\n",
              "        vertical-align: middle;\n",
              "    }\n",
              "\n",
              "    .dataframe tbody tr th {\n",
              "        vertical-align: top;\n",
              "    }\n",
              "\n",
              "    .dataframe thead th {\n",
              "        text-align: right;\n",
              "    }\n",
              "</style>\n",
              "<table border=\"1\" class=\"dataframe\">\n",
              "  <thead>\n",
              "    <tr style=\"text-align: right;\">\n",
              "      <th></th>\n",
              "      <th>Close</th>\n",
              "    </tr>\n",
              "    <tr>\n",
              "      <th>Date</th>\n",
              "      <th></th>\n",
              "    </tr>\n",
              "  </thead>\n",
              "  <tbody>\n",
              "    <tr>\n",
              "      <th>2022-01-14</th>\n",
              "      <td>173.070007</td>\n",
              "    </tr>\n",
              "    <tr>\n",
              "      <th>2022-01-18</th>\n",
              "      <td>169.800003</td>\n",
              "    </tr>\n",
              "    <tr>\n",
              "      <th>2022-01-19</th>\n",
              "      <td>166.229996</td>\n",
              "    </tr>\n",
              "    <tr>\n",
              "      <th>2022-01-20</th>\n",
              "      <td>164.509995</td>\n",
              "    </tr>\n",
              "    <tr>\n",
              "      <th>2022-01-21</th>\n",
              "      <td>162.410004</td>\n",
              "    </tr>\n",
              "  </tbody>\n",
              "</table>\n",
              "</div>\n",
              "      <button class=\"colab-df-convert\" onclick=\"convertToInteractive('df-17af6824-06be-4f89-8843-b6ec4c9e6824')\"\n",
              "              title=\"Convert this dataframe to an interactive table.\"\n",
              "              style=\"display:none;\">\n",
              "        \n",
              "  <svg xmlns=\"http://www.w3.org/2000/svg\" height=\"24px\"viewBox=\"0 0 24 24\"\n",
              "       width=\"24px\">\n",
              "    <path d=\"M0 0h24v24H0V0z\" fill=\"none\"/>\n",
              "    <path d=\"M18.56 5.44l.94 2.06.94-2.06 2.06-.94-2.06-.94-.94-2.06-.94 2.06-2.06.94zm-11 1L8.5 8.5l.94-2.06 2.06-.94-2.06-.94L8.5 2.5l-.94 2.06-2.06.94zm10 10l.94 2.06.94-2.06 2.06-.94-2.06-.94-.94-2.06-.94 2.06-2.06.94z\"/><path d=\"M17.41 7.96l-1.37-1.37c-.4-.4-.92-.59-1.43-.59-.52 0-1.04.2-1.43.59L10.3 9.45l-7.72 7.72c-.78.78-.78 2.05 0 2.83L4 21.41c.39.39.9.59 1.41.59.51 0 1.02-.2 1.41-.59l7.78-7.78 2.81-2.81c.8-.78.8-2.07 0-2.86zM5.41 20L4 18.59l7.72-7.72 1.47 1.35L5.41 20z\"/>\n",
              "  </svg>\n",
              "      </button>\n",
              "      \n",
              "  <style>\n",
              "    .colab-df-container {\n",
              "      display:flex;\n",
              "      flex-wrap:wrap;\n",
              "      gap: 12px;\n",
              "    }\n",
              "\n",
              "    .colab-df-convert {\n",
              "      background-color: #E8F0FE;\n",
              "      border: none;\n",
              "      border-radius: 50%;\n",
              "      cursor: pointer;\n",
              "      display: none;\n",
              "      fill: #1967D2;\n",
              "      height: 32px;\n",
              "      padding: 0 0 0 0;\n",
              "      width: 32px;\n",
              "    }\n",
              "\n",
              "    .colab-df-convert:hover {\n",
              "      background-color: #E2EBFA;\n",
              "      box-shadow: 0px 1px 2px rgba(60, 64, 67, 0.3), 0px 1px 3px 1px rgba(60, 64, 67, 0.15);\n",
              "      fill: #174EA6;\n",
              "    }\n",
              "\n",
              "    [theme=dark] .colab-df-convert {\n",
              "      background-color: #3B4455;\n",
              "      fill: #D2E3FC;\n",
              "    }\n",
              "\n",
              "    [theme=dark] .colab-df-convert:hover {\n",
              "      background-color: #434B5C;\n",
              "      box-shadow: 0px 1px 3px 1px rgba(0, 0, 0, 0.15);\n",
              "      filter: drop-shadow(0px 1px 2px rgba(0, 0, 0, 0.3));\n",
              "      fill: #FFFFFF;\n",
              "    }\n",
              "  </style>\n",
              "\n",
              "      <script>\n",
              "        const buttonEl =\n",
              "          document.querySelector('#df-17af6824-06be-4f89-8843-b6ec4c9e6824 button.colab-df-convert');\n",
              "        buttonEl.style.display =\n",
              "          google.colab.kernel.accessAllowed ? 'block' : 'none';\n",
              "\n",
              "        async function convertToInteractive(key) {\n",
              "          const element = document.querySelector('#df-17af6824-06be-4f89-8843-b6ec4c9e6824');\n",
              "          const dataTable =\n",
              "            await google.colab.kernel.invokeFunction('convertToInteractive',\n",
              "                                                     [key], {});\n",
              "          if (!dataTable) return;\n",
              "\n",
              "          const docLinkHtml = 'Like what you see? Visit the ' +\n",
              "            '<a target=\"_blank\" href=https://colab.research.google.com/notebooks/data_table.ipynb>data table notebook</a>'\n",
              "            + ' to learn more about interactive tables.';\n",
              "          element.innerHTML = '';\n",
              "          dataTable['output_type'] = 'display_data';\n",
              "          await google.colab.output.renderOutput(dataTable, element);\n",
              "          const docLink = document.createElement('div');\n",
              "          docLink.innerHTML = docLinkHtml;\n",
              "          element.appendChild(docLink);\n",
              "        }\n",
              "      </script>\n",
              "    </div>\n",
              "  </div>\n",
              "  "
            ],
            "text/plain": [
              "                 Close\n",
              "Date                  \n",
              "2022-01-14  173.070007\n",
              "2022-01-18  169.800003\n",
              "2022-01-19  166.229996\n",
              "2022-01-20  164.509995\n",
              "2022-01-21  162.410004"
            ]
          },
          "metadata": {},
          "execution_count": 64
        }
      ]
    },
    {
      "cell_type": "markdown",
      "source": [
        "The target variable is the outcome which the machine learning model will predict based on the explanatory variables. y is a target dataset storing the correct trading signal which the machine learning algorithm will try to predict. If tomorrow’s price is greater than today’s price then we will buy the particular Stock else we will have no position in the. We will store +1 for a buy signal and 0 for a no position in y."
      ],
      "metadata": {
        "id": "h66ERioWXIXA"
      }
    },
    {
      "cell_type": "code",
      "source": [
        "y = np.where(df['Close'].shift(-1) > df['Close'], 1, 0)\n",
        "y"
      ],
      "metadata": {
        "colab": {
          "base_uri": "https://localhost:8080/"
        },
        "id": "3hdVGgutXHQ6",
        "outputId": "b4f6d614-07a1-4332-c594-51cf1ae1d707"
      },
      "execution_count": 65,
      "outputs": [
        {
          "output_type": "execute_result",
          "data": {
            "text/plain": [
              "array([1, 1, 0, 1, 0, 0, 1, 0, 0, 0, 1, 1, 1, 1, 0, 1, 0, 0, 0, 0, 0])"
            ]
          },
          "metadata": {},
          "execution_count": 65
        }
      ]
    },
    {
      "cell_type": "code",
      "source": [
        "split_percentage = 0.9\n",
        "split = int(split_percentage*len(df))\n",
        "  \n",
        "# Train data set\n",
        "X_train = X[:split]\n",
        "y_train = y[:split]\n",
        "  \n",
        "# Test data set\n",
        "X_test = X[split:]\n",
        "y_test = y[split:]"
      ],
      "metadata": {
        "id": "zMBYwbS8XRlY"
      },
      "execution_count": 66,
      "outputs": []
    },
    {
      "cell_type": "markdown",
      "source": [
        "Support Vector Classifier (SVC)"
      ],
      "metadata": {
        "id": "I_Be_D_lXah4"
      }
    },
    {
      "cell_type": "code",
      "source": [
        "from sklearn.svm import SVR, SVC"
      ],
      "metadata": {
        "id": "95Q82JbJw1rv"
      },
      "execution_count": 67,
      "outputs": []
    },
    {
      "cell_type": "code",
      "source": [
        "# Support vector classifier\n",
        "cls = SVC().fit(X_train, y_train)"
      ],
      "metadata": {
        "id": "fOlH6_ylXaNc"
      },
      "execution_count": 68,
      "outputs": []
    },
    {
      "cell_type": "code",
      "source": [
        "from sklearn.metrics import accuracy_score"
      ],
      "metadata": {
        "id": "ZF0E1p45XsIv"
      },
      "execution_count": 69,
      "outputs": []
    },
    {
      "cell_type": "code",
      "source": [
        "Y = cls.predict(X_test)\n",
        "accuracy_score(Y, y_test)"
      ],
      "metadata": {
        "colab": {
          "base_uri": "https://localhost:8080/"
        },
        "id": "nJClb_31XyEz",
        "outputId": "761cf54f-30e0-4bd7-d70a-b257af3f283d"
      },
      "execution_count": 70,
      "outputs": [
        {
          "output_type": "execute_result",
          "data": {
            "text/plain": [
              "1.0"
            ]
          },
          "metadata": {},
          "execution_count": 70
        }
      ]
    },
    {
      "cell_type": "code",
      "source": [
        "# from prettytable import PrettyTable\n",
        "\n",
        "# myTable = PrettyTable([\"target\", \"Prediction\"]) \n",
        "\n",
        "# for i in range(15):\n",
        "#     # print(forecast[i][0], ' ---> ',svm_prediction[i])\n",
        "#     myTable.add_row([Y[i], y_test[i]])\n",
        "\n",
        "# print(myTable)"
      ],
      "metadata": {
        "id": "rmtp_PMAZB9J"
      },
      "execution_count": 71,
      "outputs": []
    },
    {
      "cell_type": "code",
      "source": [
        "df['Predicted_Signal'] = cls.predict(X)\n",
        "df['Return'] = df.Close.pct_change()\n",
        "df['Strategy_Return'] = df.Return *df.Predicted_Signal.shift(1)\n",
        "df['Cum_Ret'] = df['Return'].cumsum()\n",
        "df['Cum_Strategy'] = df['Strategy_Return'].cumsum()\n",
        "df"
      ],
      "metadata": {
        "colab": {
          "base_uri": "https://localhost:8080/",
          "height": 1000
        },
        "id": "oSJ8qn5DaUBT",
        "outputId": "013f54cc-5bfb-4d77-9f94-df282871829d"
      },
      "execution_count": 72,
      "outputs": [
        {
          "output_type": "execute_result",
          "data": {
            "text/html": [
              "\n",
              "  <div id=\"df-91c80671-2574-45f1-8088-ca9dd2aec8d9\">\n",
              "    <div class=\"colab-df-container\">\n",
              "      <div>\n",
              "<style scoped>\n",
              "    .dataframe tbody tr th:only-of-type {\n",
              "        vertical-align: middle;\n",
              "    }\n",
              "\n",
              "    .dataframe tbody tr th {\n",
              "        vertical-align: top;\n",
              "    }\n",
              "\n",
              "    .dataframe thead th {\n",
              "        text-align: right;\n",
              "    }\n",
              "</style>\n",
              "<table border=\"1\" class=\"dataframe\">\n",
              "  <thead>\n",
              "    <tr style=\"text-align: right;\">\n",
              "      <th></th>\n",
              "      <th>Open</th>\n",
              "      <th>High</th>\n",
              "      <th>Low</th>\n",
              "      <th>Close</th>\n",
              "      <th>Volume</th>\n",
              "      <th>Dividends</th>\n",
              "      <th>Stock Splits</th>\n",
              "      <th>Open-Close</th>\n",
              "      <th>High-Low</th>\n",
              "      <th>Predicted_Signal</th>\n",
              "      <th>Return</th>\n",
              "      <th>Strategy_Return</th>\n",
              "      <th>Cum_Ret</th>\n",
              "      <th>Cum_Strategy</th>\n",
              "    </tr>\n",
              "    <tr>\n",
              "      <th>Date</th>\n",
              "      <th></th>\n",
              "      <th></th>\n",
              "      <th></th>\n",
              "      <th></th>\n",
              "      <th></th>\n",
              "      <th></th>\n",
              "      <th></th>\n",
              "      <th></th>\n",
              "      <th></th>\n",
              "      <th></th>\n",
              "      <th></th>\n",
              "      <th></th>\n",
              "      <th></th>\n",
              "      <th></th>\n",
              "    </tr>\n",
              "  </thead>\n",
              "  <tbody>\n",
              "    <tr>\n",
              "      <th>2021-12-22</th>\n",
              "      <td>173.039993</td>\n",
              "      <td>175.860001</td>\n",
              "      <td>172.149994</td>\n",
              "      <td>175.639999</td>\n",
              "      <td>92135300</td>\n",
              "      <td>0</td>\n",
              "      <td>0</td>\n",
              "      <td>-2.600006</td>\n",
              "      <td>3.710007</td>\n",
              "      <td>1</td>\n",
              "      <td>NaN</td>\n",
              "      <td>NaN</td>\n",
              "      <td>NaN</td>\n",
              "      <td>NaN</td>\n",
              "    </tr>\n",
              "    <tr>\n",
              "      <th>2021-12-23</th>\n",
              "      <td>175.850006</td>\n",
              "      <td>176.850006</td>\n",
              "      <td>175.270004</td>\n",
              "      <td>176.279999</td>\n",
              "      <td>68356600</td>\n",
              "      <td>0</td>\n",
              "      <td>0</td>\n",
              "      <td>-0.429993</td>\n",
              "      <td>1.580002</td>\n",
              "      <td>1</td>\n",
              "      <td>0.003644</td>\n",
              "      <td>0.003644</td>\n",
              "      <td>0.003644</td>\n",
              "      <td>0.003644</td>\n",
              "    </tr>\n",
              "    <tr>\n",
              "      <th>2021-12-27</th>\n",
              "      <td>177.089996</td>\n",
              "      <td>180.419998</td>\n",
              "      <td>177.070007</td>\n",
              "      <td>180.330002</td>\n",
              "      <td>74919600</td>\n",
              "      <td>0</td>\n",
              "      <td>0</td>\n",
              "      <td>-3.240005</td>\n",
              "      <td>3.349991</td>\n",
              "      <td>1</td>\n",
              "      <td>0.022975</td>\n",
              "      <td>0.022975</td>\n",
              "      <td>0.026619</td>\n",
              "      <td>0.026619</td>\n",
              "    </tr>\n",
              "    <tr>\n",
              "      <th>2021-12-28</th>\n",
              "      <td>180.160004</td>\n",
              "      <td>181.330002</td>\n",
              "      <td>178.529999</td>\n",
              "      <td>179.289993</td>\n",
              "      <td>79144300</td>\n",
              "      <td>0</td>\n",
              "      <td>0</td>\n",
              "      <td>0.870010</td>\n",
              "      <td>2.800003</td>\n",
              "      <td>1</td>\n",
              "      <td>-0.005767</td>\n",
              "      <td>-0.005767</td>\n",
              "      <td>0.020851</td>\n",
              "      <td>0.020851</td>\n",
              "    </tr>\n",
              "    <tr>\n",
              "      <th>2021-12-29</th>\n",
              "      <td>179.330002</td>\n",
              "      <td>180.630005</td>\n",
              "      <td>178.139999</td>\n",
              "      <td>179.380005</td>\n",
              "      <td>62348900</td>\n",
              "      <td>0</td>\n",
              "      <td>0</td>\n",
              "      <td>-0.050003</td>\n",
              "      <td>2.490005</td>\n",
              "      <td>1</td>\n",
              "      <td>0.000502</td>\n",
              "      <td>0.000502</td>\n",
              "      <td>0.021353</td>\n",
              "      <td>0.021353</td>\n",
              "    </tr>\n",
              "    <tr>\n",
              "      <th>2021-12-30</th>\n",
              "      <td>179.470001</td>\n",
              "      <td>180.570007</td>\n",
              "      <td>178.089996</td>\n",
              "      <td>178.199997</td>\n",
              "      <td>59773000</td>\n",
              "      <td>0</td>\n",
              "      <td>0</td>\n",
              "      <td>1.270004</td>\n",
              "      <td>2.480011</td>\n",
              "      <td>1</td>\n",
              "      <td>-0.006578</td>\n",
              "      <td>-0.006578</td>\n",
              "      <td>0.014775</td>\n",
              "      <td>0.014775</td>\n",
              "    </tr>\n",
              "    <tr>\n",
              "      <th>2021-12-31</th>\n",
              "      <td>178.089996</td>\n",
              "      <td>179.229996</td>\n",
              "      <td>177.259995</td>\n",
              "      <td>177.570007</td>\n",
              "      <td>64062300</td>\n",
              "      <td>0</td>\n",
              "      <td>0</td>\n",
              "      <td>0.519989</td>\n",
              "      <td>1.970001</td>\n",
              "      <td>1</td>\n",
              "      <td>-0.003535</td>\n",
              "      <td>-0.003535</td>\n",
              "      <td>0.011240</td>\n",
              "      <td>0.011240</td>\n",
              "    </tr>\n",
              "    <tr>\n",
              "      <th>2022-01-03</th>\n",
              "      <td>177.830002</td>\n",
              "      <td>182.880005</td>\n",
              "      <td>177.710007</td>\n",
              "      <td>182.009995</td>\n",
              "      <td>104487900</td>\n",
              "      <td>0</td>\n",
              "      <td>0</td>\n",
              "      <td>-4.179993</td>\n",
              "      <td>5.169998</td>\n",
              "      <td>1</td>\n",
              "      <td>0.025004</td>\n",
              "      <td>0.025004</td>\n",
              "      <td>0.036244</td>\n",
              "      <td>0.036244</td>\n",
              "    </tr>\n",
              "    <tr>\n",
              "      <th>2022-01-04</th>\n",
              "      <td>182.630005</td>\n",
              "      <td>182.940002</td>\n",
              "      <td>179.119995</td>\n",
              "      <td>179.699997</td>\n",
              "      <td>99310400</td>\n",
              "      <td>0</td>\n",
              "      <td>0</td>\n",
              "      <td>2.930008</td>\n",
              "      <td>3.820007</td>\n",
              "      <td>0</td>\n",
              "      <td>-0.012692</td>\n",
              "      <td>-0.012692</td>\n",
              "      <td>0.023552</td>\n",
              "      <td>0.023552</td>\n",
              "    </tr>\n",
              "    <tr>\n",
              "      <th>2022-01-05</th>\n",
              "      <td>179.610001</td>\n",
              "      <td>180.169998</td>\n",
              "      <td>174.639999</td>\n",
              "      <td>174.919998</td>\n",
              "      <td>94537600</td>\n",
              "      <td>0</td>\n",
              "      <td>0</td>\n",
              "      <td>4.690002</td>\n",
              "      <td>5.529999</td>\n",
              "      <td>0</td>\n",
              "      <td>-0.026600</td>\n",
              "      <td>-0.000000</td>\n",
              "      <td>-0.003047</td>\n",
              "      <td>0.023552</td>\n",
              "    </tr>\n",
              "    <tr>\n",
              "      <th>2022-01-06</th>\n",
              "      <td>172.699997</td>\n",
              "      <td>175.300003</td>\n",
              "      <td>171.639999</td>\n",
              "      <td>172.000000</td>\n",
              "      <td>96904000</td>\n",
              "      <td>0</td>\n",
              "      <td>0</td>\n",
              "      <td>0.699997</td>\n",
              "      <td>3.660004</td>\n",
              "      <td>1</td>\n",
              "      <td>-0.016693</td>\n",
              "      <td>-0.000000</td>\n",
              "      <td>-0.019741</td>\n",
              "      <td>0.023552</td>\n",
              "    </tr>\n",
              "    <tr>\n",
              "      <th>2022-01-07</th>\n",
              "      <td>172.889999</td>\n",
              "      <td>174.139999</td>\n",
              "      <td>171.029999</td>\n",
              "      <td>172.169998</td>\n",
              "      <td>86580100</td>\n",
              "      <td>0</td>\n",
              "      <td>0</td>\n",
              "      <td>0.720001</td>\n",
              "      <td>3.110001</td>\n",
              "      <td>1</td>\n",
              "      <td>0.000988</td>\n",
              "      <td>0.000988</td>\n",
              "      <td>-0.018752</td>\n",
              "      <td>0.024541</td>\n",
              "    </tr>\n",
              "    <tr>\n",
              "      <th>2022-01-10</th>\n",
              "      <td>169.080002</td>\n",
              "      <td>172.500000</td>\n",
              "      <td>168.169998</td>\n",
              "      <td>172.190002</td>\n",
              "      <td>106765600</td>\n",
              "      <td>0</td>\n",
              "      <td>0</td>\n",
              "      <td>-3.110001</td>\n",
              "      <td>4.330002</td>\n",
              "      <td>1</td>\n",
              "      <td>0.000116</td>\n",
              "      <td>0.000116</td>\n",
              "      <td>-0.018636</td>\n",
              "      <td>0.024657</td>\n",
              "    </tr>\n",
              "    <tr>\n",
              "      <th>2022-01-11</th>\n",
              "      <td>172.320007</td>\n",
              "      <td>175.179993</td>\n",
              "      <td>170.820007</td>\n",
              "      <td>175.080002</td>\n",
              "      <td>76138300</td>\n",
              "      <td>0</td>\n",
              "      <td>0</td>\n",
              "      <td>-2.759995</td>\n",
              "      <td>4.359985</td>\n",
              "      <td>1</td>\n",
              "      <td>0.016784</td>\n",
              "      <td>0.016784</td>\n",
              "      <td>-0.001852</td>\n",
              "      <td>0.041441</td>\n",
              "    </tr>\n",
              "    <tr>\n",
              "      <th>2022-01-12</th>\n",
              "      <td>176.119995</td>\n",
              "      <td>177.179993</td>\n",
              "      <td>174.820007</td>\n",
              "      <td>175.529999</td>\n",
              "      <td>74805200</td>\n",
              "      <td>0</td>\n",
              "      <td>0</td>\n",
              "      <td>0.589996</td>\n",
              "      <td>2.359985</td>\n",
              "      <td>1</td>\n",
              "      <td>0.002570</td>\n",
              "      <td>0.002570</td>\n",
              "      <td>0.000718</td>\n",
              "      <td>0.044011</td>\n",
              "    </tr>\n",
              "    <tr>\n",
              "      <th>2022-01-13</th>\n",
              "      <td>175.779999</td>\n",
              "      <td>176.619995</td>\n",
              "      <td>171.789993</td>\n",
              "      <td>172.190002</td>\n",
              "      <td>84505800</td>\n",
              "      <td>0</td>\n",
              "      <td>0</td>\n",
              "      <td>3.589996</td>\n",
              "      <td>4.830002</td>\n",
              "      <td>0</td>\n",
              "      <td>-0.019028</td>\n",
              "      <td>-0.019028</td>\n",
              "      <td>-0.018310</td>\n",
              "      <td>0.024983</td>\n",
              "    </tr>\n",
              "    <tr>\n",
              "      <th>2022-01-14</th>\n",
              "      <td>171.339996</td>\n",
              "      <td>173.779999</td>\n",
              "      <td>171.089996</td>\n",
              "      <td>173.070007</td>\n",
              "      <td>80355000</td>\n",
              "      <td>0</td>\n",
              "      <td>0</td>\n",
              "      <td>-1.730011</td>\n",
              "      <td>2.690002</td>\n",
              "      <td>1</td>\n",
              "      <td>0.005111</td>\n",
              "      <td>0.000000</td>\n",
              "      <td>-0.013200</td>\n",
              "      <td>0.024983</td>\n",
              "    </tr>\n",
              "    <tr>\n",
              "      <th>2022-01-18</th>\n",
              "      <td>171.509995</td>\n",
              "      <td>172.539993</td>\n",
              "      <td>169.410004</td>\n",
              "      <td>169.800003</td>\n",
              "      <td>90956700</td>\n",
              "      <td>0</td>\n",
              "      <td>0</td>\n",
              "      <td>1.709991</td>\n",
              "      <td>3.129990</td>\n",
              "      <td>0</td>\n",
              "      <td>-0.018894</td>\n",
              "      <td>-0.018894</td>\n",
              "      <td>-0.032094</td>\n",
              "      <td>0.006089</td>\n",
              "    </tr>\n",
              "    <tr>\n",
              "      <th>2022-01-19</th>\n",
              "      <td>170.000000</td>\n",
              "      <td>171.080002</td>\n",
              "      <td>165.940002</td>\n",
              "      <td>166.229996</td>\n",
              "      <td>94815000</td>\n",
              "      <td>0</td>\n",
              "      <td>0</td>\n",
              "      <td>3.770004</td>\n",
              "      <td>5.139999</td>\n",
              "      <td>0</td>\n",
              "      <td>-0.021025</td>\n",
              "      <td>-0.000000</td>\n",
              "      <td>-0.053119</td>\n",
              "      <td>0.006089</td>\n",
              "    </tr>\n",
              "    <tr>\n",
              "      <th>2022-01-20</th>\n",
              "      <td>166.979996</td>\n",
              "      <td>169.679993</td>\n",
              "      <td>164.179993</td>\n",
              "      <td>164.509995</td>\n",
              "      <td>91420500</td>\n",
              "      <td>0</td>\n",
              "      <td>0</td>\n",
              "      <td>2.470001</td>\n",
              "      <td>5.500000</td>\n",
              "      <td>0</td>\n",
              "      <td>-0.010347</td>\n",
              "      <td>-0.000000</td>\n",
              "      <td>-0.063466</td>\n",
              "      <td>0.006089</td>\n",
              "    </tr>\n",
              "    <tr>\n",
              "      <th>2022-01-21</th>\n",
              "      <td>164.419998</td>\n",
              "      <td>166.330002</td>\n",
              "      <td>162.300003</td>\n",
              "      <td>162.410004</td>\n",
              "      <td>122501300</td>\n",
              "      <td>0</td>\n",
              "      <td>0</td>\n",
              "      <td>2.009995</td>\n",
              "      <td>4.029999</td>\n",
              "      <td>0</td>\n",
              "      <td>-0.012765</td>\n",
              "      <td>-0.000000</td>\n",
              "      <td>-0.076231</td>\n",
              "      <td>0.006089</td>\n",
              "    </tr>\n",
              "  </tbody>\n",
              "</table>\n",
              "</div>\n",
              "      <button class=\"colab-df-convert\" onclick=\"convertToInteractive('df-91c80671-2574-45f1-8088-ca9dd2aec8d9')\"\n",
              "              title=\"Convert this dataframe to an interactive table.\"\n",
              "              style=\"display:none;\">\n",
              "        \n",
              "  <svg xmlns=\"http://www.w3.org/2000/svg\" height=\"24px\"viewBox=\"0 0 24 24\"\n",
              "       width=\"24px\">\n",
              "    <path d=\"M0 0h24v24H0V0z\" fill=\"none\"/>\n",
              "    <path d=\"M18.56 5.44l.94 2.06.94-2.06 2.06-.94-2.06-.94-.94-2.06-.94 2.06-2.06.94zm-11 1L8.5 8.5l.94-2.06 2.06-.94-2.06-.94L8.5 2.5l-.94 2.06-2.06.94zm10 10l.94 2.06.94-2.06 2.06-.94-2.06-.94-.94-2.06-.94 2.06-2.06.94z\"/><path d=\"M17.41 7.96l-1.37-1.37c-.4-.4-.92-.59-1.43-.59-.52 0-1.04.2-1.43.59L10.3 9.45l-7.72 7.72c-.78.78-.78 2.05 0 2.83L4 21.41c.39.39.9.59 1.41.59.51 0 1.02-.2 1.41-.59l7.78-7.78 2.81-2.81c.8-.78.8-2.07 0-2.86zM5.41 20L4 18.59l7.72-7.72 1.47 1.35L5.41 20z\"/>\n",
              "  </svg>\n",
              "      </button>\n",
              "      \n",
              "  <style>\n",
              "    .colab-df-container {\n",
              "      display:flex;\n",
              "      flex-wrap:wrap;\n",
              "      gap: 12px;\n",
              "    }\n",
              "\n",
              "    .colab-df-convert {\n",
              "      background-color: #E8F0FE;\n",
              "      border: none;\n",
              "      border-radius: 50%;\n",
              "      cursor: pointer;\n",
              "      display: none;\n",
              "      fill: #1967D2;\n",
              "      height: 32px;\n",
              "      padding: 0 0 0 0;\n",
              "      width: 32px;\n",
              "    }\n",
              "\n",
              "    .colab-df-convert:hover {\n",
              "      background-color: #E2EBFA;\n",
              "      box-shadow: 0px 1px 2px rgba(60, 64, 67, 0.3), 0px 1px 3px 1px rgba(60, 64, 67, 0.15);\n",
              "      fill: #174EA6;\n",
              "    }\n",
              "\n",
              "    [theme=dark] .colab-df-convert {\n",
              "      background-color: #3B4455;\n",
              "      fill: #D2E3FC;\n",
              "    }\n",
              "\n",
              "    [theme=dark] .colab-df-convert:hover {\n",
              "      background-color: #434B5C;\n",
              "      box-shadow: 0px 1px 3px 1px rgba(0, 0, 0, 0.15);\n",
              "      filter: drop-shadow(0px 1px 2px rgba(0, 0, 0, 0.3));\n",
              "      fill: #FFFFFF;\n",
              "    }\n",
              "  </style>\n",
              "\n",
              "      <script>\n",
              "        const buttonEl =\n",
              "          document.querySelector('#df-91c80671-2574-45f1-8088-ca9dd2aec8d9 button.colab-df-convert');\n",
              "        buttonEl.style.display =\n",
              "          google.colab.kernel.accessAllowed ? 'block' : 'none';\n",
              "\n",
              "        async function convertToInteractive(key) {\n",
              "          const element = document.querySelector('#df-91c80671-2574-45f1-8088-ca9dd2aec8d9');\n",
              "          const dataTable =\n",
              "            await google.colab.kernel.invokeFunction('convertToInteractive',\n",
              "                                                     [key], {});\n",
              "          if (!dataTable) return;\n",
              "\n",
              "          const docLinkHtml = 'Like what you see? Visit the ' +\n",
              "            '<a target=\"_blank\" href=https://colab.research.google.com/notebooks/data_table.ipynb>data table notebook</a>'\n",
              "            + ' to learn more about interactive tables.';\n",
              "          element.innerHTML = '';\n",
              "          dataTable['output_type'] = 'display_data';\n",
              "          await google.colab.output.renderOutput(dataTable, element);\n",
              "          const docLink = document.createElement('div');\n",
              "          docLink.innerHTML = docLinkHtml;\n",
              "          element.appendChild(docLink);\n",
              "        }\n",
              "      </script>\n",
              "    </div>\n",
              "  </div>\n",
              "  "
            ],
            "text/plain": [
              "                  Open        High  ...   Cum_Ret  Cum_Strategy\n",
              "Date                                ...                        \n",
              "2021-12-22  173.039993  175.860001  ...       NaN           NaN\n",
              "2021-12-23  175.850006  176.850006  ...  0.003644      0.003644\n",
              "2021-12-27  177.089996  180.419998  ...  0.026619      0.026619\n",
              "2021-12-28  180.160004  181.330002  ...  0.020851      0.020851\n",
              "2021-12-29  179.330002  180.630005  ...  0.021353      0.021353\n",
              "2021-12-30  179.470001  180.570007  ...  0.014775      0.014775\n",
              "2021-12-31  178.089996  179.229996  ...  0.011240      0.011240\n",
              "2022-01-03  177.830002  182.880005  ...  0.036244      0.036244\n",
              "2022-01-04  182.630005  182.940002  ...  0.023552      0.023552\n",
              "2022-01-05  179.610001  180.169998  ... -0.003047      0.023552\n",
              "2022-01-06  172.699997  175.300003  ... -0.019741      0.023552\n",
              "2022-01-07  172.889999  174.139999  ... -0.018752      0.024541\n",
              "2022-01-10  169.080002  172.500000  ... -0.018636      0.024657\n",
              "2022-01-11  172.320007  175.179993  ... -0.001852      0.041441\n",
              "2022-01-12  176.119995  177.179993  ...  0.000718      0.044011\n",
              "2022-01-13  175.779999  176.619995  ... -0.018310      0.024983\n",
              "2022-01-14  171.339996  173.779999  ... -0.013200      0.024983\n",
              "2022-01-18  171.509995  172.539993  ... -0.032094      0.006089\n",
              "2022-01-19  170.000000  171.080002  ... -0.053119      0.006089\n",
              "2022-01-20  166.979996  169.679993  ... -0.063466      0.006089\n",
              "2022-01-21  164.419998  166.330002  ... -0.076231      0.006089\n",
              "\n",
              "[21 rows x 14 columns]"
            ]
          },
          "metadata": {},
          "execution_count": 72
        }
      ]
    },
    {
      "cell_type": "markdown",
      "source": [
        "#Plot Strategy Returns vs Original Returns"
      ],
      "metadata": {
        "id": "K5iuuMopbDxh"
      }
    },
    {
      "cell_type": "code",
      "source": [
        "import matplotlib.pyplot as plt\n",
        "%matplotlib inline\n",
        "  \n",
        "plt.plot(df['Cum_Ret'],color='red',label= 'return')\n",
        "plt.plot(df['Cum_Strategy'],color='blue', label= 'strategy')\n",
        "plt.legend()\n",
        "\n",
        "# plt.xlabel('Date')\n",
        "# plt.ylabel('Price')\n",
        "# plt.legend()"
      ],
      "metadata": {
        "colab": {
          "base_uri": "https://localhost:8080/",
          "height": 279
        },
        "id": "Is1u9iSBaq6t",
        "outputId": "a40b4d2b-1ee2-42c6-d69b-8a7e961f9df0"
      },
      "execution_count": 73,
      "outputs": [
        {
          "output_type": "execute_result",
          "data": {
            "text/plain": [
              "<matplotlib.legend.Legend at 0x7f2f89eddd50>"
            ]
          },
          "metadata": {},
          "execution_count": 73
        },
        {
          "output_type": "display_data",
          "data": {
            "image/png": "[encoded data removed]",
            "text/plain": [
              "<Figure size 432x288 with 1 Axes>"
            ]
          },
          "metadata": {
            "needs_background": "light"
          }
        }
      ]
    },
    {
      "cell_type": "markdown",
      "metadata": {
        "id": "jxt-RmgW7zuZ"
      },
      "source": [
        "# using SVR\n",
        "# Support Vector Regression (SVR) is the combination of a Support Vector Machines and Regression.\n",
        "\n",
        "#### Linear Regression won’t work on our data because our data has many fluctuations and a linear line of best fit would give poor predictions on stock data. A SVM will not work on our data because we aren’t classifying between two different classes."
      ]
    },
    {
      "cell_type": "code",
      "source": [
        "withDateColumn.info()\n",
        "# withDateColumn['Date']"
      ],
      "metadata": {
        "id": "vLMPVVwGyA5r"
      },
      "execution_count": null,
      "outputs": []
    },
    {
      "cell_type": "code",
      "source": [
        "dates = withDateColumn['Date'].to_numpy()\n",
        "prices = withDateColumn['Close'].to_numpy()\n",
        "org_dates = withDateColumn['Date']\n",
        "\n",
        "#Convert to 1d Vector\n",
        "dates = np.reshape(dates, (len(dates), 1))\n",
        "prices = np.reshape(prices, (len(prices), 1))\n",
        "\n",
        "svr_rbf = SVR(kernel= 'rbf', C= 1e3, gamma= 0.1)\n",
        "svr_rbf.fit(dates, prices)"
      ],
      "metadata": {
        "colab": {
          "base_uri": "https://localhost:8080/"
        },
        "id": "fQR0EhQqx7lP",
        "outputId": "798b43f7-5aaf-4ca4-a0ab-3b49936f69b3"
      },
      "execution_count": 75,
      "outputs": [
        {
          "output_type": "execute_result",
          "data": {
            "text/plain": [
              "SVR(C=1000.0, gamma=0.1)"
            ]
          },
          "metadata": {},
          "execution_count": 75
        }
      ]
    },
    {
      "cell_type": "code",
      "source": [
        "plt.figure(figsize = (12,6))\n",
        "plt.plot(dates, prices, color= 'black', label= 'Data')\n",
        "plt.plot(org_dates, svr_rbf.predict(dates), color= 'red', label= 'RBF model') \n",
        "plt.xlabel('Date')\n",
        "plt.ylabel('Price')\n",
        "plt.legend()\n",
        "plt.show()"
      ],
      "metadata": {
        "colab": {
          "base_uri": "https://localhost:8080/",
          "height": 388
        },
        "id": "4SqT-G1N0aIV",
        "outputId": "4a7bf560-747f-4b42-aabe-a276c2a642df"
      },
      "execution_count": 76,
      "outputs": [
        {
          "output_type": "display_data",
          "data": {
            "image/png": "[encoded data removed]",
            "text/plain": [
              "<Figure size 864x432 with 1 Axes>"
            ]
          },
          "metadata": {
            "needs_background": "light"
          }
        }
      ]
    },
    {
      "cell_type": "code",
      "source": [
        "# ML Model Based on Siraj Raval's Stock Price Prediction Tutorial\n",
        "# Support Vector Regression Models (Linear, Polynomial, RBF) for predicting future stock high prices\n",
        "\n",
        "dfdates  = withDateColumn['Date'].to_numpy()\n",
        "dfprices = withDateColumn['Close'].to_numpy()\n",
        "\n",
        "#input: dates, prices of length n for n days\n",
        "#trains models, plots models, returns each model's prediction on day #x\n",
        "def predict_prices(dates, prices, x):\n",
        "    dates = np.reshape(dates,(len(dates), 1)) # converting to matrix of n X 1\n",
        "\n",
        "    svr_lin = SVR(kernel= 'linear', C= 1e3)\n",
        "    svr_poly = SVR(kernel= 'poly', C= 1e3, degree= 2)\n",
        "    svr_rbf = SVR(kernel= 'rbf', C= 1e3, gamma= 0.1) # defining the support vector regression models\n",
        "    svr_rbf.fit(dates, prices) # fitting the data points in the models\n",
        "    svr_lin.fit(dates, prices)\n",
        "    svr_poly.fit(dates, prices)\n",
        "\n",
        "    plt.scatter(dates, prices, color= 'black', label= 'Data') # plotting the initial datapoints\n",
        "    plt.plot(dates, svr_rbf.predict(dates), color= 'red', label= 'RBF model') # plotting the line made by the RBF kernel\n",
        "    plt.plot(dates,svr_lin.predict(dates), color= 'green', label= 'Linear model') # plotting the line made by linear kernel\n",
        "    plt.plot(dates,svr_poly.predict(dates), color= 'blue', label= 'Polynomial model') # plotting the line made by polynomial kernel\n",
        "    plt.xlabel('Date')\n",
        "    plt.ylabel('Price')\n",
        "    plt.title('Support Vector Regression')\n",
        "    plt.legend()\n",
        "    plt.show()\n",
        "    # print(svr_rbf.predict([[x]]))\n",
        "    withDateColumn['rbf'] = svr_rbf.predict(dates)\n",
        "    withDateColumn['lin'] = svr_lin.predict(dates)\n",
        "    withDateColumn['poly'] = svr_poly.predict(dates)\n",
        "    # return svr_rbf.predict(x)[0], svr_lin.predict(x)[0], svr_poly.predict(x)[0]\n",
        "    return svr_rbf.predict([[x]]), svr_lin.predict([[x]]), svr_poly.predict([[x]])\n",
        "\n",
        "#reverses prices list, which was fed in reverse chronological order originally\n",
        "# dfprices.reverse()\n",
        "dfprices[:] = dfprices[::-1]\n",
        "\n",
        "#trains models, so far model not fast enough for >20 day inputs\n",
        "predicted_price = predict_prices(dfdates, dfprices, 5)\n",
        "\n",
        "#prints out predictions from prediction function\n",
        "# print(\"RBF:\", predicted_price[0],\"LIN:\", predicted_price[1],\"POLY:\", predicted_price[2])\n",
        "print(\"RBF:\", predicted_price[0],\"LIN:\", predicted_price[1],\"POLY:\", predicted_price[2])"
      ],
      "metadata": {
        "id": "TSaMuyj44nH-",
        "colab": {
          "base_uri": "https://localhost:8080/",
          "height": 313
        },
        "outputId": "4ffe5d40-9723-4652-afd8-2a71415b9fa7"
      },
      "execution_count": 94,
      "outputs": [
        {
          "output_type": "display_data",
          "data": {
            "image/png": "[encoded data removed]",
            "text/plain": [
              "<Figure size 432x288 with 1 Axes>"
            ]
          },
          "metadata": {
            "needs_background": "light"
          }
        },
        {
          "output_type": "stream",
          "name": "stdout",
          "text": [
            "RBF: [174.2] LIN: [7.09884333e+34] POLY: [-2.11177985e+11]\n"
          ]
        }
      ]
    },
    {
      "cell_type": "code",
      "source": [
        "from prettytable import PrettyTable\n",
        "\n",
        "myTable = PrettyTable([\"closing price\", \"Prediction\"]) \n",
        "\n",
        "for i in range(15):\n",
        "    myTable.add_row([withDateColumn['Close'][i], withDateColumn['rbf'][i]])\n",
        "\n",
        "print(myTable)"
      ],
      "metadata": {
        "colab": {
          "base_uri": "https://localhost:8080/"
        },
        "id": "UV2KOJeOHPkS",
        "outputId": "40f41614-9406-44b8-e4f8-4a364c412bac"
      },
      "execution_count": 99,
      "outputs": [
        {
          "output_type": "stream",
          "name": "stdout",
          "text": [
            "+--------------------+--------------------+\n",
            "|   closing price    |     Prediction     |\n",
            "+--------------------+--------------------+\n",
            "| 162.41000366210938 | 162.50992639064782 |\n",
            "| 164.50999450683594 | 164.61022999286644 |\n",
            "| 166.22999572753906 | 166.3299947738647  |\n",
            "| 169.8000030517578  | 169.89953241348263 |\n",
            "| 173.07000732421875 | 173.16953668594357 |\n",
            "| 172.19000244140625 | 172.2900014877319  |\n",
            "| 175.52999877929688 | 175.43023426532739 |\n",
            "| 175.0800018310547  | 174.9800017356872  |\n",
            "| 172.19000244140625 | 172.28953180313107 |\n",
            "| 172.1699981689453  | 172.27015388011927 |\n",
            "|       172.0        | 172.0999227285385  |\n",
            "| 174.9199981689453  | 174.82034975290296 |\n",
            "| 179.6999969482422  | 179.59991967678064 |\n",
            "| 182.00999450683594 | 181.91019054651258 |\n",
            "| 177.57000732421875 | 177.4699300527572  |\n",
            "+--------------------+--------------------+\n"
          ]
        }
      ]
    },
    {
      "cell_type": "code",
      "source": [
        "from sklearn.metrics import mean_squared_error, mean_absolute_error\n",
        "from math import sqrt\n",
        "\n",
        "mse = mean_squared_error(withDateColumn['Close'], withDateColumn['rbf'])\n",
        "print('MSE: '+str(mse))\n",
        "\n",
        "mae = mean_absolute_error(withDateColumn['Close'], withDateColumn['rbf'])\n",
        "print('MAE: '+str(mae))\n",
        "\n",
        "rmse = sqrt(mean_squared_error(withDateColumn['Close'], withDateColumn['rbf']))\n",
        "print('RMSE: %.3f' % rmse)\n",
        "\n",
        "mape = np.mean(np.abs(withDateColumn['rbf'] - withDateColumn['Close'])/np.abs(withDateColumn['Close']))\n",
        "print('MAPE: '+str(mape))"
      ],
      "metadata": {
        "colab": {
          "base_uri": "https://localhost:8080/"
        },
        "id": "30BsOZy_LRK8",
        "outputId": "ce8bf489-4851-4e59-a342-4ddd7decf1a0"
      },
      "execution_count": 105,
      "outputs": [
        {
          "output_type": "stream",
          "name": "stdout",
          "text": [
            "MSE: 0.009977634126487942\n",
            "MAE: 0.09988788877215002\n",
            "RMSE: 0.100\n",
            "MAPE: 0.0005738715465216427\n"
          ]
        }
      ]
    }
  ]
}