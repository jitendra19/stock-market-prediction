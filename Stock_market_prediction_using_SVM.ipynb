{
  "nbformat": 4,
  "nbformat_minor": 0,
  "metadata": {
    "colab": {
      "name": "Stock market prediction using SVM.ipynb",
      "provenance": [],
      "collapsed_sections": [],
      "authorship_tag": "ABX9TyN5aIwg5LF7ay7OVWWOD/sb",
      "include_colab_link": true
    },
    "kernelspec": {
      "name": "python3",
      "display_name": "Python 3"
    },
    "language_info": {
      "name": "python"
    }
  },
  "cells": [
    {
      "cell_type": "markdown",
      "metadata": {
        "id": "view-in-github",
        "colab_type": "text"
      },
      "source": [
        "<a href=\"https://colab.research.google.com/github/jitendra19/stock-market-prediction/blob/main/Stock_market_prediction_using_SVM.ipynb\" target=\"_parent\"><img src=\"https://colab.research.google.com/assets/colab-badge.svg\" alt=\"Open In Colab\"/></a>"
      ]
    },
    {
      "cell_type": "code",
      "metadata": {
        "id": "Cxu9zU8Dx1fQ"
      },
      "source": [
        "pip install yfinance"
      ],
      "execution_count": null,
      "outputs": []
    },
    {
      "cell_type": "code",
      "metadata": {
        "id": "40sVABSiyQxL"
      },
      "source": [
        "# Import Python Libraries\n",
        "import pandas as pd\n",
        "import numpy as np\n",
        "\n",
        "import matplotlib.pyplot as plt\n",
        "\n",
        "import seaborn as sns\n",
        "\n",
        "sns.set_style('whitegrid')\n",
        "\n",
        "plt.style.use(\"fivethirtyeight\")\n",
        "%matplotlib inline\n",
        "\n",
        "# To ignore warnings\n",
        "import warnings\n",
        "warnings.filterwarnings(\"ignore\")\n",
        "\n",
        "# For reading stock data from yahoo\n",
        "# from pandas_datareader.data import DataReader\n",
        "import yfinance as yf\n",
        "\n",
        "# For time stamps\n",
        "from datetime import datetime"
      ],
      "execution_count": 31,
      "outputs": []
    },
    {
      "cell_type": "code",
      "metadata": {
        "id": "H3FgX9BIyTnP",
        "colab": {
          "base_uri": "https://localhost:8080/",
          "height": 238
        },
        "outputId": "685ac5db-fa75-4ff9-c787-a02d05346737"
      },
      "source": [
        "stockName = 'AAPL'\n",
        "periodOfData = \"max\"\n",
        "\n",
        "# df = DataReader('AAPL', data_source='yahoo', start='2012-01-01', end=datetime.now())\n",
        "ticker = yf.Ticker(stockName)\n",
        "df = ticker.history(period=periodOfData, auto_adjust=True)\n",
        "\n",
        "# Show the data\n",
        "df.tail()"
      ],
      "execution_count": 32,
      "outputs": [
        {
          "output_type": "execute_result",
          "data": {
            "text/html": [
              "\n",
              "  <div id=\"df-8a82be27-38b2-42cb-99c3-7d1e26207f5e\">\n",
              "    <div class=\"colab-df-container\">\n",
              "      <div>\n",
              "<style scoped>\n",
              "    .dataframe tbody tr th:only-of-type {\n",
              "        vertical-align: middle;\n",
              "    }\n",
              "\n",
              "    .dataframe tbody tr th {\n",
              "        vertical-align: top;\n",
              "    }\n",
              "\n",
              "    .dataframe thead th {\n",
              "        text-align: right;\n",
              "    }\n",
              "</style>\n",
              "<table border=\"1\" class=\"dataframe\">\n",
              "  <thead>\n",
              "    <tr style=\"text-align: right;\">\n",
              "      <th></th>\n",
              "      <th>Open</th>\n",
              "      <th>High</th>\n",
              "      <th>Low</th>\n",
              "      <th>Close</th>\n",
              "      <th>Volume</th>\n",
              "      <th>Dividends</th>\n",
              "      <th>Stock Splits</th>\n",
              "    </tr>\n",
              "    <tr>\n",
              "      <th>Date</th>\n",
              "      <th></th>\n",
              "      <th></th>\n",
              "      <th></th>\n",
              "      <th></th>\n",
              "      <th></th>\n",
              "      <th></th>\n",
              "      <th></th>\n",
              "    </tr>\n",
              "  </thead>\n",
              "  <tbody>\n",
              "    <tr>\n",
              "      <th>2022-01-14</th>\n",
              "      <td>171.339996</td>\n",
              "      <td>173.779999</td>\n",
              "      <td>171.089996</td>\n",
              "      <td>173.070007</td>\n",
              "      <td>80355000</td>\n",
              "      <td>0.0</td>\n",
              "      <td>0.0</td>\n",
              "    </tr>\n",
              "    <tr>\n",
              "      <th>2022-01-18</th>\n",
              "      <td>171.509995</td>\n",
              "      <td>172.539993</td>\n",
              "      <td>169.410004</td>\n",
              "      <td>169.800003</td>\n",
              "      <td>90956700</td>\n",
              "      <td>0.0</td>\n",
              "      <td>0.0</td>\n",
              "    </tr>\n",
              "    <tr>\n",
              "      <th>2022-01-19</th>\n",
              "      <td>170.000000</td>\n",
              "      <td>171.080002</td>\n",
              "      <td>165.940002</td>\n",
              "      <td>166.229996</td>\n",
              "      <td>94815000</td>\n",
              "      <td>0.0</td>\n",
              "      <td>0.0</td>\n",
              "    </tr>\n",
              "    <tr>\n",
              "      <th>2022-01-20</th>\n",
              "      <td>166.979996</td>\n",
              "      <td>169.679993</td>\n",
              "      <td>164.179993</td>\n",
              "      <td>164.509995</td>\n",
              "      <td>91420500</td>\n",
              "      <td>0.0</td>\n",
              "      <td>0.0</td>\n",
              "    </tr>\n",
              "    <tr>\n",
              "      <th>2022-01-21</th>\n",
              "      <td>164.419998</td>\n",
              "      <td>166.330002</td>\n",
              "      <td>162.300003</td>\n",
              "      <td>162.410004</td>\n",
              "      <td>122501300</td>\n",
              "      <td>0.0</td>\n",
              "      <td>0.0</td>\n",
              "    </tr>\n",
              "  </tbody>\n",
              "</table>\n",
              "</div>\n",
              "      <button class=\"colab-df-convert\" onclick=\"convertToInteractive('df-8a82be27-38b2-42cb-99c3-7d1e26207f5e')\"\n",
              "              title=\"Convert this dataframe to an interactive table.\"\n",
              "              style=\"display:none;\">\n",
              "        \n",
              "  <svg xmlns=\"http://www.w3.org/2000/svg\" height=\"24px\"viewBox=\"0 0 24 24\"\n",
              "       width=\"24px\">\n",
              "    <path d=\"M0 0h24v24H0V0z\" fill=\"none\"/>\n",
              "    <path d=\"M18.56 5.44l.94 2.06.94-2.06 2.06-.94-2.06-.94-.94-2.06-.94 2.06-2.06.94zm-11 1L8.5 8.5l.94-2.06 2.06-.94-2.06-.94L8.5 2.5l-.94 2.06-2.06.94zm10 10l.94 2.06.94-2.06 2.06-.94-2.06-.94-.94-2.06-.94 2.06-2.06.94z\"/><path d=\"M17.41 7.96l-1.37-1.37c-.4-.4-.92-.59-1.43-.59-.52 0-1.04.2-1.43.59L10.3 9.45l-7.72 7.72c-.78.78-.78 2.05 0 2.83L4 21.41c.39.39.9.59 1.41.59.51 0 1.02-.2 1.41-.59l7.78-7.78 2.81-2.81c.8-.78.8-2.07 0-2.86zM5.41 20L4 18.59l7.72-7.72 1.47 1.35L5.41 20z\"/>\n",
              "  </svg>\n",
              "      </button>\n",
              "      \n",
              "  <style>\n",
              "    .colab-df-container {\n",
              "      display:flex;\n",
              "      flex-wrap:wrap;\n",
              "      gap: 12px;\n",
              "    }\n",
              "\n",
              "    .colab-df-convert {\n",
              "      background-color: #E8F0FE;\n",
              "      border: none;\n",
              "      border-radius: 50%;\n",
              "      cursor: pointer;\n",
              "      display: none;\n",
              "      fill: #1967D2;\n",
              "      height: 32px;\n",
              "      padding: 0 0 0 0;\n",
              "      width: 32px;\n",
              "    }\n",
              "\n",
              "    .colab-df-convert:hover {\n",
              "      background-color: #E2EBFA;\n",
              "      box-shadow: 0px 1px 2px rgba(60, 64, 67, 0.3), 0px 1px 3px 1px rgba(60, 64, 67, 0.15);\n",
              "      fill: #174EA6;\n",
              "    }\n",
              "\n",
              "    [theme=dark] .colab-df-convert {\n",
              "      background-color: #3B4455;\n",
              "      fill: #D2E3FC;\n",
              "    }\n",
              "\n",
              "    [theme=dark] .colab-df-convert:hover {\n",
              "      background-color: #434B5C;\n",
              "      box-shadow: 0px 1px 3px 1px rgba(0, 0, 0, 0.15);\n",
              "      filter: drop-shadow(0px 1px 2px rgba(0, 0, 0, 0.3));\n",
              "      fill: #FFFFFF;\n",
              "    }\n",
              "  </style>\n",
              "\n",
              "      <script>\n",
              "        const buttonEl =\n",
              "          document.querySelector('#df-8a82be27-38b2-42cb-99c3-7d1e26207f5e button.colab-df-convert');\n",
              "        buttonEl.style.display =\n",
              "          google.colab.kernel.accessAllowed ? 'block' : 'none';\n",
              "\n",
              "        async function convertToInteractive(key) {\n",
              "          const element = document.querySelector('#df-8a82be27-38b2-42cb-99c3-7d1e26207f5e');\n",
              "          const dataTable =\n",
              "            await google.colab.kernel.invokeFunction('convertToInteractive',\n",
              "                                                     [key], {});\n",
              "          if (!dataTable) return;\n",
              "\n",
              "          const docLinkHtml = 'Like what you see? Visit the ' +\n",
              "            '<a target=\"_blank\" href=https://colab.research.google.com/notebooks/data_table.ipynb>data table notebook</a>'\n",
              "            + ' to learn more about interactive tables.';\n",
              "          element.innerHTML = '';\n",
              "          dataTable['output_type'] = 'display_data';\n",
              "          await google.colab.output.renderOutput(dataTable, element);\n",
              "          const docLink = document.createElement('div');\n",
              "          docLink.innerHTML = docLinkHtml;\n",
              "          element.appendChild(docLink);\n",
              "        }\n",
              "      </script>\n",
              "    </div>\n",
              "  </div>\n",
              "  "
            ],
            "text/plain": [
              "                  Open        High  ...  Dividends  Stock Splits\n",
              "Date                                ...                         \n",
              "2022-01-14  171.339996  173.779999  ...        0.0           0.0\n",
              "2022-01-18  171.509995  172.539993  ...        0.0           0.0\n",
              "2022-01-19  170.000000  171.080002  ...        0.0           0.0\n",
              "2022-01-20  166.979996  169.679993  ...        0.0           0.0\n",
              "2022-01-21  164.419998  166.330002  ...        0.0           0.0\n",
              "\n",
              "[5 rows x 7 columns]"
            ]
          },
          "metadata": {},
          "execution_count": 32
        }
      ]
    },
    {
      "cell_type": "code",
      "metadata": {
        "id": "6GI_fSgoygJL",
        "colab": {
          "base_uri": "https://localhost:8080/",
          "height": 238
        },
        "outputId": "51081d0a-8b45-40b4-863a-ae1bc442d552"
      },
      "source": [
        "df['Open-Close'] = df.Open - df.Close\n",
        "df['High-Low'] = df.High - df.Low\n",
        "  \n",
        "# Store all predictor variables in a variable X\n",
        "X = df[['Open-Close', 'High-Low']]\n",
        "X.head()\n",
        "\n",
        "close_df = df[['Close']]\n",
        "close_df[['Close']].tail()"
      ],
      "execution_count": 33,
      "outputs": [
        {
          "output_type": "execute_result",
          "data": {
            "text/html": [
              "\n",
              "  <div id=\"df-22bee61d-bff5-4167-98db-c605328ff2c1\">\n",
              "    <div class=\"colab-df-container\">\n",
              "      <div>\n",
              "<style scoped>\n",
              "    .dataframe tbody tr th:only-of-type {\n",
              "        vertical-align: middle;\n",
              "    }\n",
              "\n",
              "    .dataframe tbody tr th {\n",
              "        vertical-align: top;\n",
              "    }\n",
              "\n",
              "    .dataframe thead th {\n",
              "        text-align: right;\n",
              "    }\n",
              "</style>\n",
              "<table border=\"1\" class=\"dataframe\">\n",
              "  <thead>\n",
              "    <tr style=\"text-align: right;\">\n",
              "      <th></th>\n",
              "      <th>Close</th>\n",
              "    </tr>\n",
              "    <tr>\n",
              "      <th>Date</th>\n",
              "      <th></th>\n",
              "    </tr>\n",
              "  </thead>\n",
              "  <tbody>\n",
              "    <tr>\n",
              "      <th>2022-01-14</th>\n",
              "      <td>173.070007</td>\n",
              "    </tr>\n",
              "    <tr>\n",
              "      <th>2022-01-18</th>\n",
              "      <td>169.800003</td>\n",
              "    </tr>\n",
              "    <tr>\n",
              "      <th>2022-01-19</th>\n",
              "      <td>166.229996</td>\n",
              "    </tr>\n",
              "    <tr>\n",
              "      <th>2022-01-20</th>\n",
              "      <td>164.509995</td>\n",
              "    </tr>\n",
              "    <tr>\n",
              "      <th>2022-01-21</th>\n",
              "      <td>162.410004</td>\n",
              "    </tr>\n",
              "  </tbody>\n",
              "</table>\n",
              "</div>\n",
              "      <button class=\"colab-df-convert\" onclick=\"convertToInteractive('df-22bee61d-bff5-4167-98db-c605328ff2c1')\"\n",
              "              title=\"Convert this dataframe to an interactive table.\"\n",
              "              style=\"display:none;\">\n",
              "        \n",
              "  <svg xmlns=\"http://www.w3.org/2000/svg\" height=\"24px\"viewBox=\"0 0 24 24\"\n",
              "       width=\"24px\">\n",
              "    <path d=\"M0 0h24v24H0V0z\" fill=\"none\"/>\n",
              "    <path d=\"M18.56 5.44l.94 2.06.94-2.06 2.06-.94-2.06-.94-.94-2.06-.94 2.06-2.06.94zm-11 1L8.5 8.5l.94-2.06 2.06-.94-2.06-.94L8.5 2.5l-.94 2.06-2.06.94zm10 10l.94 2.06.94-2.06 2.06-.94-2.06-.94-.94-2.06-.94 2.06-2.06.94z\"/><path d=\"M17.41 7.96l-1.37-1.37c-.4-.4-.92-.59-1.43-.59-.52 0-1.04.2-1.43.59L10.3 9.45l-7.72 7.72c-.78.78-.78 2.05 0 2.83L4 21.41c.39.39.9.59 1.41.59.51 0 1.02-.2 1.41-.59l7.78-7.78 2.81-2.81c.8-.78.8-2.07 0-2.86zM5.41 20L4 18.59l7.72-7.72 1.47 1.35L5.41 20z\"/>\n",
              "  </svg>\n",
              "      </button>\n",
              "      \n",
              "  <style>\n",
              "    .colab-df-container {\n",
              "      display:flex;\n",
              "      flex-wrap:wrap;\n",
              "      gap: 12px;\n",
              "    }\n",
              "\n",
              "    .colab-df-convert {\n",
              "      background-color: #E8F0FE;\n",
              "      border: none;\n",
              "      border-radius: 50%;\n",
              "      cursor: pointer;\n",
              "      display: none;\n",
              "      fill: #1967D2;\n",
              "      height: 32px;\n",
              "      padding: 0 0 0 0;\n",
              "      width: 32px;\n",
              "    }\n",
              "\n",
              "    .colab-df-convert:hover {\n",
              "      background-color: #E2EBFA;\n",
              "      box-shadow: 0px 1px 2px rgba(60, 64, 67, 0.3), 0px 1px 3px 1px rgba(60, 64, 67, 0.15);\n",
              "      fill: #174EA6;\n",
              "    }\n",
              "\n",
              "    [theme=dark] .colab-df-convert {\n",
              "      background-color: #3B4455;\n",
              "      fill: #D2E3FC;\n",
              "    }\n",
              "\n",
              "    [theme=dark] .colab-df-convert:hover {\n",
              "      background-color: #434B5C;\n",
              "      box-shadow: 0px 1px 3px 1px rgba(0, 0, 0, 0.15);\n",
              "      filter: drop-shadow(0px 1px 2px rgba(0, 0, 0, 0.3));\n",
              "      fill: #FFFFFF;\n",
              "    }\n",
              "  </style>\n",
              "\n",
              "      <script>\n",
              "        const buttonEl =\n",
              "          document.querySelector('#df-22bee61d-bff5-4167-98db-c605328ff2c1 button.colab-df-convert');\n",
              "        buttonEl.style.display =\n",
              "          google.colab.kernel.accessAllowed ? 'block' : 'none';\n",
              "\n",
              "        async function convertToInteractive(key) {\n",
              "          const element = document.querySelector('#df-22bee61d-bff5-4167-98db-c605328ff2c1');\n",
              "          const dataTable =\n",
              "            await google.colab.kernel.invokeFunction('convertToInteractive',\n",
              "                                                     [key], {});\n",
              "          if (!dataTable) return;\n",
              "\n",
              "          const docLinkHtml = 'Like what you see? Visit the ' +\n",
              "            '<a target=\"_blank\" href=https://colab.research.google.com/notebooks/data_table.ipynb>data table notebook</a>'\n",
              "            + ' to learn more about interactive tables.';\n",
              "          element.innerHTML = '';\n",
              "          dataTable['output_type'] = 'display_data';\n",
              "          await google.colab.output.renderOutput(dataTable, element);\n",
              "          const docLink = document.createElement('div');\n",
              "          docLink.innerHTML = docLinkHtml;\n",
              "          element.appendChild(docLink);\n",
              "        }\n",
              "      </script>\n",
              "    </div>\n",
              "  </div>\n",
              "  "
            ],
            "text/plain": [
              "                 Close\n",
              "Date                  \n",
              "2022-01-14  173.070007\n",
              "2022-01-18  169.800003\n",
              "2022-01-19  166.229996\n",
              "2022-01-20  164.509995\n",
              "2022-01-21  162.410004"
            ]
          },
          "metadata": {},
          "execution_count": 33
        }
      ]
    },
    {
      "cell_type": "markdown",
      "source": [
        "The target variable is the outcome which the machine learning model will predict based on the explanatory variables. y is a target dataset storing the correct trading signal which the machine learning algorithm will try to predict. If tomorrow’s price is greater than today’s price then we will buy the particular Stock else we will have no position in the. We will store +1 for a buy signal and 0 for a no position in y."
      ],
      "metadata": {
        "id": "h66ERioWXIXA"
      }
    },
    {
      "cell_type": "code",
      "source": [
        "y = np.where(df['Close'].shift(-1) > df['Close'], 1, 0)\n",
        "y"
      ],
      "metadata": {
        "colab": {
          "base_uri": "https://localhost:8080/"
        },
        "id": "3hdVGgutXHQ6",
        "outputId": "98728766-7362-4051-952b-2aa8f3d8c7b3"
      },
      "execution_count": 34,
      "outputs": [
        {
          "output_type": "execute_result",
          "data": {
            "text/plain": [
              "array([0, 0, 1, ..., 0, 0, 0])"
            ]
          },
          "metadata": {},
          "execution_count": 34
        }
      ]
    },
    {
      "cell_type": "code",
      "source": [
        "split_percentage = 0.9\n",
        "split = int(split_percentage*len(df))\n",
        "  \n",
        "# Train data set\n",
        "X_train = X[:split]\n",
        "y_train = y[:split]\n",
        "  \n",
        "# Test data set\n",
        "X_test = X[split:]\n",
        "y_test = y[split:]"
      ],
      "metadata": {
        "id": "zMBYwbS8XRlY"
      },
      "execution_count": 35,
      "outputs": []
    },
    {
      "cell_type": "markdown",
      "source": [
        "Support Vector Classifier (SVC)"
      ],
      "metadata": {
        "id": "I_Be_D_lXah4"
      }
    },
    {
      "cell_type": "code",
      "source": [
        "# Support vector classifier\n",
        "cls = SVC().fit(X_train, y_train)"
      ],
      "metadata": {
        "id": "fOlH6_ylXaNc"
      },
      "execution_count": 36,
      "outputs": []
    },
    {
      "cell_type": "code",
      "source": [
        "from sklearn.metrics import accuracy_score"
      ],
      "metadata": {
        "id": "ZF0E1p45XsIv"
      },
      "execution_count": 37,
      "outputs": []
    },
    {
      "cell_type": "code",
      "source": [
        "Y = cls.predict(X_test)\n",
        "accuracy_score(Y, y_test)"
      ],
      "metadata": {
        "colab": {
          "base_uri": "https://localhost:8080/"
        },
        "id": "nJClb_31XyEz",
        "outputId": "efb69e4b-a36e-46cd-e15f-f280c5c803aa"
      },
      "execution_count": 38,
      "outputs": [
        {
          "output_type": "execute_result",
          "data": {
            "text/plain": [
              "0.502410800385728"
            ]
          },
          "metadata": {},
          "execution_count": 38
        }
      ]
    },
    {
      "cell_type": "code",
      "source": [
        "from prettytable import PrettyTable\n",
        "\n",
        "myTable = PrettyTable([\"target\", \"Prediction\"]) \n",
        "\n",
        "for i in range(15):\n",
        "    # print(forecast[i][0], ' ---> ',svm_prediction[i])\n",
        "    myTable.add_row([Y[i], y_test[i]])\n",
        "\n",
        "print(myTable)"
      ],
      "metadata": {
        "colab": {
          "base_uri": "https://localhost:8080/"
        },
        "id": "rmtp_PMAZB9J",
        "outputId": "3474cf39-4761-446f-f26d-c5ee76da766d"
      },
      "execution_count": 40,
      "outputs": [
        {
          "output_type": "stream",
          "name": "stdout",
          "text": [
            "+--------+------------+\n",
            "| target | Prediction |\n",
            "+--------+------------+\n",
            "|   1    |     1      |\n",
            "|   0    |     0      |\n",
            "|   1    |     1      |\n",
            "|   1    |     0      |\n",
            "|   1    |     1      |\n",
            "|   1    |     1      |\n",
            "|   0    |     0      |\n",
            "|   1    |     0      |\n",
            "|   1    |     1      |\n",
            "|   1    |     0      |\n",
            "|   1    |     0      |\n",
            "|   1    |     1      |\n",
            "|   1    |     1      |\n",
            "|   1    |     0      |\n",
            "|   0    |     1      |\n",
            "+--------+------------+\n"
          ]
        }
      ]
    },
    {
      "cell_type": "code",
      "source": [
        "df['Predicted_Signal'] = cls.predict(X)\n",
        "df['Return'] = df.Close.pct_change()\n",
        "df['Strategy_Return'] = df.Return *df.Predicted_Signal.shift(1)\n",
        "df['Cum_Ret'] = df['Return'].cumsum()\n",
        "df['Cum_Strategy'] = df['Strategy_Return'].cumsum()\n",
        "df"
      ],
      "metadata": {
        "colab": {
          "base_uri": "https://localhost:8080/",
          "height": 710
        },
        "id": "oSJ8qn5DaUBT",
        "outputId": "8dcf9f68-5acd-4092-ca76-dc09a4bca6cb"
      },
      "execution_count": 41,
      "outputs": [
        {
          "output_type": "execute_result",
          "data": {
            "text/html": [
              "\n",
              "  <div id=\"df-3c0da625-3f73-4e13-8bcc-cb87875f8f7c\">\n",
              "    <div class=\"colab-df-container\">\n",
              "      <div>\n",
              "<style scoped>\n",
              "    .dataframe tbody tr th:only-of-type {\n",
              "        vertical-align: middle;\n",
              "    }\n",
              "\n",
              "    .dataframe tbody tr th {\n",
              "        vertical-align: top;\n",
              "    }\n",
              "\n",
              "    .dataframe thead th {\n",
              "        text-align: right;\n",
              "    }\n",
              "</style>\n",
              "<table border=\"1\" class=\"dataframe\">\n",
              "  <thead>\n",
              "    <tr style=\"text-align: right;\">\n",
              "      <th></th>\n",
              "      <th>Open</th>\n",
              "      <th>High</th>\n",
              "      <th>Low</th>\n",
              "      <th>Close</th>\n",
              "      <th>Volume</th>\n",
              "      <th>Dividends</th>\n",
              "      <th>Stock Splits</th>\n",
              "      <th>Open-Close</th>\n",
              "      <th>High-Low</th>\n",
              "      <th>Predicted_Signal</th>\n",
              "      <th>Return</th>\n",
              "      <th>Strategy_Return</th>\n",
              "      <th>Cum_Ret</th>\n",
              "      <th>Cum_Strategy</th>\n",
              "    </tr>\n",
              "    <tr>\n",
              "      <th>Date</th>\n",
              "      <th></th>\n",
              "      <th></th>\n",
              "      <th></th>\n",
              "      <th></th>\n",
              "      <th></th>\n",
              "      <th></th>\n",
              "      <th></th>\n",
              "      <th></th>\n",
              "      <th></th>\n",
              "      <th></th>\n",
              "      <th></th>\n",
              "      <th></th>\n",
              "      <th></th>\n",
              "      <th></th>\n",
              "    </tr>\n",
              "  </thead>\n",
              "  <tbody>\n",
              "    <tr>\n",
              "      <th>1980-12-12</th>\n",
              "      <td>0.100453</td>\n",
              "      <td>0.100890</td>\n",
              "      <td>0.100453</td>\n",
              "      <td>0.100453</td>\n",
              "      <td>469033600</td>\n",
              "      <td>0.0</td>\n",
              "      <td>0.0</td>\n",
              "      <td>0.000000</td>\n",
              "      <td>0.000437</td>\n",
              "      <td>0</td>\n",
              "      <td>NaN</td>\n",
              "      <td>NaN</td>\n",
              "      <td>NaN</td>\n",
              "      <td>NaN</td>\n",
              "    </tr>\n",
              "    <tr>\n",
              "      <th>1980-12-15</th>\n",
              "      <td>0.095649</td>\n",
              "      <td>0.095649</td>\n",
              "      <td>0.095213</td>\n",
              "      <td>0.095213</td>\n",
              "      <td>175884800</td>\n",
              "      <td>0.0</td>\n",
              "      <td>0.0</td>\n",
              "      <td>0.000437</td>\n",
              "      <td>0.000437</td>\n",
              "      <td>0</td>\n",
              "      <td>-0.052171</td>\n",
              "      <td>-0.0</td>\n",
              "      <td>-0.052171</td>\n",
              "      <td>0.000000</td>\n",
              "    </tr>\n",
              "    <tr>\n",
              "      <th>1980-12-16</th>\n",
              "      <td>0.088661</td>\n",
              "      <td>0.088661</td>\n",
              "      <td>0.088224</td>\n",
              "      <td>0.088224</td>\n",
              "      <td>105728000</td>\n",
              "      <td>0.0</td>\n",
              "      <td>0.0</td>\n",
              "      <td>0.000437</td>\n",
              "      <td>0.000437</td>\n",
              "      <td>0</td>\n",
              "      <td>-0.073398</td>\n",
              "      <td>-0.0</td>\n",
              "      <td>-0.125568</td>\n",
              "      <td>0.000000</td>\n",
              "    </tr>\n",
              "    <tr>\n",
              "      <th>1980-12-17</th>\n",
              "      <td>0.090408</td>\n",
              "      <td>0.090845</td>\n",
              "      <td>0.090408</td>\n",
              "      <td>0.090408</td>\n",
              "      <td>86441600</td>\n",
              "      <td>0.0</td>\n",
              "      <td>0.0</td>\n",
              "      <td>0.000000</td>\n",
              "      <td>0.000437</td>\n",
              "      <td>0</td>\n",
              "      <td>0.024751</td>\n",
              "      <td>0.0</td>\n",
              "      <td>-0.100818</td>\n",
              "      <td>0.000000</td>\n",
              "    </tr>\n",
              "    <tr>\n",
              "      <th>1980-12-18</th>\n",
              "      <td>0.093029</td>\n",
              "      <td>0.093466</td>\n",
              "      <td>0.093029</td>\n",
              "      <td>0.093029</td>\n",
              "      <td>73449600</td>\n",
              "      <td>0.0</td>\n",
              "      <td>0.0</td>\n",
              "      <td>0.000000</td>\n",
              "      <td>0.000437</td>\n",
              "      <td>0</td>\n",
              "      <td>0.028993</td>\n",
              "      <td>0.0</td>\n",
              "      <td>-0.071825</td>\n",
              "      <td>0.000000</td>\n",
              "    </tr>\n",
              "    <tr>\n",
              "      <th>...</th>\n",
              "      <td>...</td>\n",
              "      <td>...</td>\n",
              "      <td>...</td>\n",
              "      <td>...</td>\n",
              "      <td>...</td>\n",
              "      <td>...</td>\n",
              "      <td>...</td>\n",
              "      <td>...</td>\n",
              "      <td>...</td>\n",
              "      <td>...</td>\n",
              "      <td>...</td>\n",
              "      <td>...</td>\n",
              "      <td>...</td>\n",
              "      <td>...</td>\n",
              "    </tr>\n",
              "    <tr>\n",
              "      <th>2022-01-14</th>\n",
              "      <td>171.339996</td>\n",
              "      <td>173.779999</td>\n",
              "      <td>171.089996</td>\n",
              "      <td>173.070007</td>\n",
              "      <td>80355000</td>\n",
              "      <td>0.0</td>\n",
              "      <td>0.0</td>\n",
              "      <td>-1.730011</td>\n",
              "      <td>2.690002</td>\n",
              "      <td>0</td>\n",
              "      <td>0.005111</td>\n",
              "      <td>0.0</td>\n",
              "      <td>11.704841</td>\n",
              "      <td>4.435698</td>\n",
              "    </tr>\n",
              "    <tr>\n",
              "      <th>2022-01-18</th>\n",
              "      <td>171.509995</td>\n",
              "      <td>172.539993</td>\n",
              "      <td>169.410004</td>\n",
              "      <td>169.800003</td>\n",
              "      <td>90956700</td>\n",
              "      <td>0.0</td>\n",
              "      <td>0.0</td>\n",
              "      <td>1.709991</td>\n",
              "      <td>3.129990</td>\n",
              "      <td>0</td>\n",
              "      <td>-0.018894</td>\n",
              "      <td>-0.0</td>\n",
              "      <td>11.685947</td>\n",
              "      <td>4.435698</td>\n",
              "    </tr>\n",
              "    <tr>\n",
              "      <th>2022-01-19</th>\n",
              "      <td>170.000000</td>\n",
              "      <td>171.080002</td>\n",
              "      <td>165.940002</td>\n",
              "      <td>166.229996</td>\n",
              "      <td>94815000</td>\n",
              "      <td>0.0</td>\n",
              "      <td>0.0</td>\n",
              "      <td>3.770004</td>\n",
              "      <td>5.139999</td>\n",
              "      <td>0</td>\n",
              "      <td>-0.021025</td>\n",
              "      <td>-0.0</td>\n",
              "      <td>11.664922</td>\n",
              "      <td>4.435698</td>\n",
              "    </tr>\n",
              "    <tr>\n",
              "      <th>2022-01-20</th>\n",
              "      <td>166.979996</td>\n",
              "      <td>169.679993</td>\n",
              "      <td>164.179993</td>\n",
              "      <td>164.509995</td>\n",
              "      <td>91420500</td>\n",
              "      <td>0.0</td>\n",
              "      <td>0.0</td>\n",
              "      <td>2.470001</td>\n",
              "      <td>5.500000</td>\n",
              "      <td>0</td>\n",
              "      <td>-0.010347</td>\n",
              "      <td>-0.0</td>\n",
              "      <td>11.654575</td>\n",
              "      <td>4.435698</td>\n",
              "    </tr>\n",
              "    <tr>\n",
              "      <th>2022-01-21</th>\n",
              "      <td>164.419998</td>\n",
              "      <td>166.330002</td>\n",
              "      <td>162.300003</td>\n",
              "      <td>162.410004</td>\n",
              "      <td>122501300</td>\n",
              "      <td>0.0</td>\n",
              "      <td>0.0</td>\n",
              "      <td>2.009995</td>\n",
              "      <td>4.029999</td>\n",
              "      <td>0</td>\n",
              "      <td>-0.012765</td>\n",
              "      <td>-0.0</td>\n",
              "      <td>11.641810</td>\n",
              "      <td>4.435698</td>\n",
              "    </tr>\n",
              "  </tbody>\n",
              "</table>\n",
              "<p>10366 rows × 14 columns</p>\n",
              "</div>\n",
              "      <button class=\"colab-df-convert\" onclick=\"convertToInteractive('df-3c0da625-3f73-4e13-8bcc-cb87875f8f7c')\"\n",
              "              title=\"Convert this dataframe to an interactive table.\"\n",
              "              style=\"display:none;\">\n",
              "        \n",
              "  <svg xmlns=\"http://www.w3.org/2000/svg\" height=\"24px\"viewBox=\"0 0 24 24\"\n",
              "       width=\"24px\">\n",
              "    <path d=\"M0 0h24v24H0V0z\" fill=\"none\"/>\n",
              "    <path d=\"M18.56 5.44l.94 2.06.94-2.06 2.06-.94-2.06-.94-.94-2.06-.94 2.06-2.06.94zm-11 1L8.5 8.5l.94-2.06 2.06-.94-2.06-.94L8.5 2.5l-.94 2.06-2.06.94zm10 10l.94 2.06.94-2.06 2.06-.94-2.06-.94-.94-2.06-.94 2.06-2.06.94z\"/><path d=\"M17.41 7.96l-1.37-1.37c-.4-.4-.92-.59-1.43-.59-.52 0-1.04.2-1.43.59L10.3 9.45l-7.72 7.72c-.78.78-.78 2.05 0 2.83L4 21.41c.39.39.9.59 1.41.59.51 0 1.02-.2 1.41-.59l7.78-7.78 2.81-2.81c.8-.78.8-2.07 0-2.86zM5.41 20L4 18.59l7.72-7.72 1.47 1.35L5.41 20z\"/>\n",
              "  </svg>\n",
              "      </button>\n",
              "      \n",
              "  <style>\n",
              "    .colab-df-container {\n",
              "      display:flex;\n",
              "      flex-wrap:wrap;\n",
              "      gap: 12px;\n",
              "    }\n",
              "\n",
              "    .colab-df-convert {\n",
              "      background-color: #E8F0FE;\n",
              "      border: none;\n",
              "      border-radius: 50%;\n",
              "      cursor: pointer;\n",
              "      display: none;\n",
              "      fill: #1967D2;\n",
              "      height: 32px;\n",
              "      padding: 0 0 0 0;\n",
              "      width: 32px;\n",
              "    }\n",
              "\n",
              "    .colab-df-convert:hover {\n",
              "      background-color: #E2EBFA;\n",
              "      box-shadow: 0px 1px 2px rgba(60, 64, 67, 0.3), 0px 1px 3px 1px rgba(60, 64, 67, 0.15);\n",
              "      fill: #174EA6;\n",
              "    }\n",
              "\n",
              "    [theme=dark] .colab-df-convert {\n",
              "      background-color: #3B4455;\n",
              "      fill: #D2E3FC;\n",
              "    }\n",
              "\n",
              "    [theme=dark] .colab-df-convert:hover {\n",
              "      background-color: #434B5C;\n",
              "      box-shadow: 0px 1px 3px 1px rgba(0, 0, 0, 0.15);\n",
              "      filter: drop-shadow(0px 1px 2px rgba(0, 0, 0, 0.3));\n",
              "      fill: #FFFFFF;\n",
              "    }\n",
              "  </style>\n",
              "\n",
              "      <script>\n",
              "        const buttonEl =\n",
              "          document.querySelector('#df-3c0da625-3f73-4e13-8bcc-cb87875f8f7c button.colab-df-convert');\n",
              "        buttonEl.style.display =\n",
              "          google.colab.kernel.accessAllowed ? 'block' : 'none';\n",
              "\n",
              "        async function convertToInteractive(key) {\n",
              "          const element = document.querySelector('#df-3c0da625-3f73-4e13-8bcc-cb87875f8f7c');\n",
              "          const dataTable =\n",
              "            await google.colab.kernel.invokeFunction('convertToInteractive',\n",
              "                                                     [key], {});\n",
              "          if (!dataTable) return;\n",
              "\n",
              "          const docLinkHtml = 'Like what you see? Visit the ' +\n",
              "            '<a target=\"_blank\" href=https://colab.research.google.com/notebooks/data_table.ipynb>data table notebook</a>'\n",
              "            + ' to learn more about interactive tables.';\n",
              "          element.innerHTML = '';\n",
              "          dataTable['output_type'] = 'display_data';\n",
              "          await google.colab.output.renderOutput(dataTable, element);\n",
              "          const docLink = document.createElement('div');\n",
              "          docLink.innerHTML = docLinkHtml;\n",
              "          element.appendChild(docLink);\n",
              "        }\n",
              "      </script>\n",
              "    </div>\n",
              "  </div>\n",
              "  "
            ],
            "text/plain": [
              "                  Open        High  ...    Cum_Ret  Cum_Strategy\n",
              "Date                                ...                         \n",
              "1980-12-12    0.100453    0.100890  ...        NaN           NaN\n",
              "1980-12-15    0.095649    0.095649  ...  -0.052171      0.000000\n",
              "1980-12-16    0.088661    0.088661  ...  -0.125568      0.000000\n",
              "1980-12-17    0.090408    0.090845  ...  -0.100818      0.000000\n",
              "1980-12-18    0.093029    0.093466  ...  -0.071825      0.000000\n",
              "...                ...         ...  ...        ...           ...\n",
              "2022-01-14  171.339996  173.779999  ...  11.704841      4.435698\n",
              "2022-01-18  171.509995  172.539993  ...  11.685947      4.435698\n",
              "2022-01-19  170.000000  171.080002  ...  11.664922      4.435698\n",
              "2022-01-20  166.979996  169.679993  ...  11.654575      4.435698\n",
              "2022-01-21  164.419998  166.330002  ...  11.641810      4.435698\n",
              "\n",
              "[10366 rows x 14 columns]"
            ]
          },
          "metadata": {},
          "execution_count": 41
        }
      ]
    },
    {
      "cell_type": "markdown",
      "source": [
        "#Plot Strategy Returns vs Original Returns"
      ],
      "metadata": {
        "id": "K5iuuMopbDxh"
      }
    },
    {
      "cell_type": "code",
      "source": [
        "import matplotlib.pyplot as plt\n",
        "%matplotlib inline\n",
        "  \n",
        "plt.plot(df['Cum_Ret'],color='red')\n",
        "plt.plot(df['Cum_Strategy'],color='blue')"
      ],
      "metadata": {
        "colab": {
          "base_uri": "https://localhost:8080/",
          "height": 279
        },
        "id": "Is1u9iSBaq6t",
        "outputId": "064fa1ec-aa58-45c5-cf83-8a8a89745c85"
      },
      "execution_count": 43,
      "outputs": [
        {
          "output_type": "execute_result",
          "data": {
            "text/plain": [
              "[<matplotlib.lines.Line2D at 0x7f59e60298d0>]"
            ]
          },
          "metadata": {},
          "execution_count": 43
        },
        {
          "output_type": "display_data",
          "data": {
            "image/png": "[encoded data removed]",
            "text/plain": [
              "<Figure size 432x288 with 1 Axes>"
            ]
          },
          "metadata": {
            "needs_background": "light"
          }
        }
      ]
    },
    {
      "cell_type": "markdown",
      "metadata": {
        "id": "jxt-RmgW7zuZ"
      },
      "source": [
        "# using SVM"
      ]
    },
    {
      "cell_type": "code",
      "metadata": {
        "colab": {
          "base_uri": "https://localhost:8080/"
        },
        "id": "tgct2YJ_18g1",
        "outputId": "82677ebf-1433-4ebe-e870-0b95479ad733"
      },
      "source": [
        "# SVM Model\n",
        "svr = SVR(kernel='rbf', C=1e3, gamma=0.1) # kernel{‘linear’, ‘poly’, ‘rbf’, ‘sigmoid’, ‘precomputed’}, default='rbf'\n",
        "# Train the model \n",
        "svr.fit(x_train, y_train)\n",
        "\n",
        "SVC()"
      ],
      "execution_count": 10,
      "outputs": [
        {
          "output_type": "execute_result",
          "data": {
            "text/plain": [
              "SVR(C=1000.0, gamma=0.1)"
            ]
          },
          "metadata": {},
          "execution_count": 10
        }
      ]
    },
    {
      "cell_type": "code",
      "metadata": {
        "colab": {
          "base_uri": "https://localhost:8080/"
        },
        "id": "9bqfzuIh3eIl",
        "outputId": "1e3fe8a1-4d2d-4ed1-c8ec-e7a0d9da67e7"
      },
      "source": [
        "# The best possible score is 1.0\n",
        "svm_confidence = svr.score(x_test, y_test)\n",
        "print('svm confidence: ', svm_confidence)"
      ],
      "execution_count": 11,
      "outputs": [
        {
          "output_type": "stream",
          "name": "stdout",
          "text": [
            "svm confidence:  0.982903945618052\n"
          ]
        }
      ]
    },
    {
      "cell_type": "code",
      "metadata": {
        "colab": {
          "base_uri": "https://localhost:8080/"
        },
        "id": "rndJuflE3oie",
        "outputId": "0e8eff00-2099-4d26-8de5-cc02eab88abd"
      },
      "source": [
        "# get the last 15 rows of the original data set from Close column and convert into numpy array\n",
        "forecast = np.array(close_df.drop(['Prediction'],1))[-15:]\n",
        "print(forecast)"
      ],
      "execution_count": 12,
      "outputs": [
        {
          "output_type": "stream",
          "name": "stdout",
          "text": [
            "[[177.57000732]\n",
            " [182.00999451]\n",
            " [179.69999695]\n",
            " [174.91999817]\n",
            " [172.        ]\n",
            " [172.16999817]\n",
            " [172.19000244]\n",
            " [175.08000183]\n",
            " [175.52999878]\n",
            " [172.19000244]\n",
            " [173.07000732]\n",
            " [169.80000305]\n",
            " [166.22999573]\n",
            " [164.50999451]\n",
            " [162.41000366]]\n"
          ]
        }
      ]
    },
    {
      "cell_type": "code",
      "metadata": {
        "colab": {
          "base_uri": "https://localhost:8080/"
        },
        "id": "EPMuq0Q23z6F",
        "outputId": "930044b1-c5a3-4699-de52-0f97d70b2087"
      },
      "source": [
        "# support vector model predictions for the next ‘15’ days\n",
        "svm_prediction = svr.predict(forecast)\n",
        "\n",
        "for i in range(15):\n",
        "    print(forecast[i][0], ' ---> ',svm_prediction[i])\n",
        "\n",
        "# print(svm_prediction)\n",
        "# print(forecast)"
      ],
      "execution_count": 13,
      "outputs": [
        {
          "output_type": "stream",
          "name": "stdout",
          "text": [
            "177.57000732421875  --->  161.26866573255762\n",
            "182.00999450683594  --->  128.01360105717237\n",
            "179.6999969482422  --->  173.51296120040234\n",
            "174.9199981689453  --->  178.0626620225034\n",
            "172.0  --->  178.10405310253307\n",
            "172.1699981689453  --->  177.6139783424946\n",
            "172.19000244140625  --->  177.55396195457072\n",
            "175.0800018310547  --->  178.10003902333355\n",
            "175.52999877929688  --->  177.1019761712805\n",
            "172.19000244140625  --->  177.55396195457072\n",
            "173.07000732421875  --->  175.3094691579047\n",
            "169.8000030517578  --->  175.2131236060347\n",
            "166.22999572753906  --->  172.56276593181994\n",
            "164.50999450683594  --->  176.0909133493091\n",
            "162.41000366210938  --->  180.5545640245879\n"
          ]
        }
      ]
    },
    {
      "cell_type": "code",
      "metadata": {
        "colab": {
          "base_uri": "https://localhost:8080/"
        },
        "id": "5tnBWDmF9Fia",
        "outputId": "07e9469c-e0d3-4604-d08e-531bed10757c"
      },
      "source": [
        "from prettytable import PrettyTable\n",
        "\n",
        "myTable = PrettyTable([\"closing price\", \"Prediction\"]) \n",
        "\n",
        "for i in range(15):\n",
        "    # print(forecast[i][0], ' ---> ',svm_prediction[i])\n",
        "    myTable.add_row([forecast[i][0], svm_prediction[i]])\n",
        "\n",
        "print(myTable)"
      ],
      "execution_count": 14,
      "outputs": [
        {
          "output_type": "stream",
          "name": "stdout",
          "text": [
            "+--------------------+--------------------+\n",
            "|   closing price    |     Prediction     |\n",
            "+--------------------+--------------------+\n",
            "| 177.57000732421875 | 161.26866573255762 |\n",
            "| 182.00999450683594 | 128.01360105717237 |\n",
            "| 179.6999969482422  | 173.51296120040234 |\n",
            "| 174.9199981689453  | 178.0626620225034  |\n",
            "|       172.0        | 178.10405310253307 |\n",
            "| 172.1699981689453  | 177.6139783424946  |\n",
            "| 172.19000244140625 | 177.55396195457072 |\n",
            "| 175.0800018310547  | 178.10003902333355 |\n",
            "| 175.52999877929688 | 177.1019761712805  |\n",
            "| 172.19000244140625 | 177.55396195457072 |\n",
            "| 173.07000732421875 | 175.3094691579047  |\n",
            "| 169.8000030517578  | 175.2131236060347  |\n",
            "| 166.22999572753906 | 172.56276593181994 |\n",
            "| 164.50999450683594 | 176.0909133493091  |\n",
            "| 162.41000366210938 | 180.5545640245879  |\n",
            "+--------------------+--------------------+\n"
          ]
        }
      ]
    }
  ]
}